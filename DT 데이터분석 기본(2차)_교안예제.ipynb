{
 "cells": [
  {
   "cell_type": "code",
   "execution_count": 41,
   "id": "d2c066ee",
   "metadata": {},
   "outputs": [],
   "source": [
    "# 실습환경 설정\n",
    "import numpy as np\n",
    "import pandas as pd\n",
    "from pandas import Series, DataFrame"
   ]
  },
  {
   "cell_type": "markdown",
   "id": "4e5f28e2",
   "metadata": {},
   "source": [
    "2. 파이썬 기본문법"
   ]
  },
  {
   "cell_type": "markdown",
   "id": "b35408f8",
   "metadata": {},
   "source": [
    "2.1 연산자"
   ]
  },
  {
   "cell_type": "code",
   "execution_count": 5,
   "id": "e1e7e483",
   "metadata": {},
   "outputs": [
    {
     "name": "stdout",
     "output_type": "stream",
     "text": [
      "2 ** 1 =  2\n"
     ]
    }
   ],
   "source": [
    "# 제곱연산자\n",
    "print(\"2 ** 1 = \", 2**1)"
   ]
  },
  {
   "cell_type": "code",
   "execution_count": 4,
   "id": "de8a6fdb",
   "metadata": {},
   "outputs": [
    {
     "name": "stdout",
     "output_type": "stream",
     "text": [
      "3 / 2 =  1.5\n"
     ]
    }
   ],
   "source": [
    "# 나눗셈\n",
    "print(\"3 / 2 = \",3/2)"
   ]
  },
  {
   "cell_type": "code",
   "execution_count": 3,
   "id": "e790077f",
   "metadata": {},
   "outputs": [
    {
     "name": "stdout",
     "output_type": "stream",
     "text": [
      " 3 // 2 =  1\n"
     ]
    }
   ],
   "source": [
    "# 몫 연산자\n",
    "print(\" 3 // 2 = \",3//2)"
   ]
  },
  {
   "cell_type": "code",
   "execution_count": 6,
   "id": "e45dee27",
   "metadata": {},
   "outputs": [
    {
     "name": "stdout",
     "output_type": "stream",
     "text": [
      " 5 % 2 =  1\n"
     ]
    }
   ],
   "source": [
    "# 나머지\n",
    "print(\" 5 % 2 = \",5%2)"
   ]
  },
  {
   "cell_type": "code",
   "execution_count": 53,
   "id": "5317895b",
   "metadata": {},
   "outputs": [
    {
     "name": "stdout",
     "output_type": "stream",
     "text": [
      "150\n",
      "300\n",
      "100.0\n"
     ]
    }
   ],
   "source": [
    "# 복합대입연산자\n",
    "a = 100\n",
    "a += 50\n",
    "print(a)\n",
    "a *= 2\n",
    "print(a)\n",
    "a /= 3\n",
    "print(a)"
   ]
  },
  {
   "cell_type": "code",
   "execution_count": 57,
   "id": "dc86e41b",
   "metadata": {},
   "outputs": [
    {
     "name": "stdout",
     "output_type": "stream",
     "text": [
      "150\n",
      "300\n",
      "100.0\n"
     ]
    }
   ],
   "source": [
    "a = 100\n",
    "a = a + 50\n",
    "print(a)\n",
    "a = a * 2\n",
    "print(a)\n",
    "a = a / 3\n",
    "print(a)"
   ]
  },
  {
   "cell_type": "code",
   "execution_count": 56,
   "id": "299af973",
   "metadata": {},
   "outputs": [
    {
     "name": "stdout",
     "output_type": "stream",
     "text": [
      "안녕하세요요요안녕하세요요요\n"
     ]
    }
   ],
   "source": [
    "hawling = \"안녕하세요\"\n",
    "hawling += \"요\"\n",
    "hawling += \"요\"\n",
    "hawling *= 2\n",
    "print(hawling)"
   ]
  },
  {
   "cell_type": "markdown",
   "id": "e1b7a6aa",
   "metadata": {},
   "source": [
    "2.2 조건문"
   ]
  },
  {
   "cell_type": "code",
   "execution_count": 9,
   "id": "3b1cfc8a",
   "metadata": {},
   "outputs": [
    {
     "name": "stdout",
     "output_type": "stream",
     "text": [
      "정수입력 > 30\n",
      "짝수입니다.\n"
     ]
    }
   ],
   "source": [
    "# if else\n",
    "number=input(\"정수입력 > \")\n",
    "number=int(number)\n",
    "if number %2 == 0:\n",
    "    print(\"짝수입니다.\")\n",
    "else:\n",
    "    print(\"홀수입니다.\")"
   ]
  },
  {
   "cell_type": "code",
   "execution_count": 10,
   "id": "7683784f",
   "metadata": {},
   "outputs": [
    {
     "name": "stdout",
     "output_type": "stream",
     "text": [
      "현재는 가을 입니다.\n"
     ]
    }
   ],
   "source": [
    "# if elif else\n",
    "import datetime\n",
    "now = datetime.datetime.now()\n",
    "month=now.month\n",
    "if 3<= month <= 5 :\n",
    "    print( \"현재는 봄 입니다.\")\n",
    "elif 6<= month <= 8 :\n",
    "    print( \"현재는 여름 입니다.\")\n",
    "elif 9<= month <= 11 :\n",
    "    print( \"현재는 가을 입니다.\")\n",
    "else:\n",
    "    print( \"현재는 겨울 입니다.\")    "
   ]
  },
  {
   "cell_type": "markdown",
   "id": "47aec5b9",
   "metadata": {},
   "source": [
    "2.3 반복문"
   ]
  },
  {
   "cell_type": "code",
   "execution_count": 11,
   "id": "4e87dd1a",
   "metadata": {},
   "outputs": [
    {
     "name": "stdout",
     "output_type": "stream",
     "text": [
      "0=반복변수\n",
      "1=반복변수\n",
      "2=반복변수\n",
      "3=반복변수\n",
      "4=반복변수\n",
      "\n",
      "5=반복변수\n",
      "6=반복변수\n",
      "7=반복변수\n",
      "8=반복변수\n",
      "9=반복변수\n",
      "\n",
      "0=반복변수\n",
      "3=반복변수\n",
      "6=반복변수\n",
      "9=반복변수\n",
      "\n"
     ]
    }
   ],
   "source": [
    "for i in range(5):\n",
    "    print(str(i) + \"=반복변수\")\n",
    "print()\n",
    "\n",
    "for i in range(5, 10):\n",
    "    print(str(i) + \"=반복변수\")\n",
    "print()\n",
    "\n",
    "for i in range(0, 10, 3):\n",
    "    print(str(i) + \"=반복변수\")\n",
    "print()"
   ]
  },
  {
   "cell_type": "markdown",
   "id": "438b5013",
   "metadata": {},
   "source": [
    "* 리스트 내포 (list comprehension)"
   ]
  },
  {
   "cell_type": "code",
   "execution_count": 12,
   "id": "8d631044",
   "metadata": {},
   "outputs": [
    {
     "name": "stdout",
     "output_type": "stream",
     "text": [
      "[0, 4, 16, 36, 64, 100, 144, 196, 256, 324]\n"
     ]
    }
   ],
   "source": [
    "array = [i *i for i in range(0,20,2)]\n",
    "print(array)"
   ]
  },
  {
   "cell_type": "markdown",
   "id": "e686e54f",
   "metadata": {},
   "source": [
    "2.4 함수(사용자 정의)"
   ]
  },
  {
   "cell_type": "code",
   "execution_count": 14,
   "id": "a10615a2",
   "metadata": {},
   "outputs": [
    {
     "name": "stdout",
     "output_type": "stream",
     "text": [
      "안녕하세요\n",
      "안녕하세요\n",
      "안녕하세요\n"
     ]
    }
   ],
   "source": [
    "def print_3_times():\n",
    "    print(\"안녕하세요\")\n",
    "    print(\"안녕하세요\")\n",
    "    print(\"안녕하세요\")\n",
    "    \n",
    "print_3_times()    "
   ]
  },
  {
   "cell_type": "code",
   "execution_count": 15,
   "id": "364b984f",
   "metadata": {
    "scrolled": true
   },
   "outputs": [
    {
     "name": "stdout",
     "output_type": "stream",
     "text": [
      "0 to 100 :  5050\n",
      "0 to 1000 :  500500\n",
      "50 to 100 :  3825\n",
      "500 to 1000 :  375750\n"
     ]
    }
   ],
   "source": [
    "def sum_all(start, end):\n",
    "    output=0\n",
    "    for i in range(start, end+1):\n",
    "        output +=i\n",
    "    return output\n",
    "\n",
    "print(\"0 to 100 : \", sum_all(0,100))\n",
    "print(\"0 to 1000 : \", sum_all(0,1000))\n",
    "print(\"50 to 100 : \", sum_all(50,100))\n",
    "print(\"500 to 1000 : \", sum_all(500,1000))"
   ]
  },
  {
   "cell_type": "markdown",
   "id": "a5d92a58",
   "metadata": {},
   "source": [
    "3. 파이썬 자료구조"
   ]
  },
  {
   "cell_type": "markdown",
   "id": "c3bf07b5",
   "metadata": {},
   "source": [
    "3.1 객체"
   ]
  },
  {
   "cell_type": "code",
   "execution_count": 16,
   "id": "a64a0a3b",
   "metadata": {},
   "outputs": [
    {
     "name": "stdout",
     "output_type": "stream",
     "text": [
      "안녕하세요.\n"
     ]
    }
   ],
   "source": [
    "class Person:\n",
    "    def __init__(self):\n",
    "        self.hello = \"안녕하세요.\"\n",
    "    def greeting(self)    :\n",
    "        print(self.hello)\n",
    "james = Person()\n",
    "james.greeting()"
   ]
  },
  {
   "cell_type": "code",
   "execution_count": 28,
   "id": "d34b9749",
   "metadata": {},
   "outputs": [
    {
     "name": "stdout",
     "output_type": "stream",
     "text": [
      "personal_choi.name :  CK Choi\n",
      "personal_choi.age :  25\n",
      "personal_choi.ageGroup() :  under 30\n"
     ]
    }
   ],
   "source": [
    "class Personalinfo:\n",
    "    nationality = \"Korean\"\n",
    "    def __init__(self, name, age):\n",
    "        self.name = name\n",
    "        self.age = age\n",
    "    def getPersonalinfo(self):\n",
    "        print(\"Name : \", self.name)\n",
    "        print(\"Age : \", self.age)\n",
    "    def ageGroup(self):\n",
    "        if self.age < 30:\n",
    "            return \"under 30\"\n",
    "        else:\n",
    "            return \"over 30\"\n",
    "personal_choi = Personalinfo('CK Choi',25)        \n",
    "\n",
    "print(\"personal_choi.name : \", personal_choi.name)\n",
    "print(\"personal_choi.age : \", personal_choi.age)\n",
    "print(\"personal_choi.ageGroup() : \", personal_choi.ageGroup())"
   ]
  },
  {
   "cell_type": "markdown",
   "id": "37e4a379",
   "metadata": {},
   "source": [
    "3.2 List"
   ]
  },
  {
   "cell_type": "markdown",
   "id": "604ade60",
   "metadata": {},
   "source": [
    "* 인덱싱"
   ]
  },
  {
   "cell_type": "code",
   "execution_count": 31,
   "id": "86a99ccc",
   "metadata": {},
   "outputs": [
    {
     "name": "stdout",
     "output_type": "stream",
     "text": [
      "273\n",
      "32\n",
      "103\n",
      "[32, 103]\n"
     ]
    }
   ],
   "source": [
    "list_a = [273,32,103,\"문자열\",True, False]\n",
    "print(list_a[0])\n",
    "print(list_a[1])\n",
    "print(list_a[2])"
   ]
  },
  {
   "cell_type": "markdown",
   "id": "43025621",
   "metadata": {},
   "source": [
    "* 슬라이싱"
   ]
  },
  {
   "cell_type": "code",
   "execution_count": null,
   "id": "810f9ad9",
   "metadata": {},
   "outputs": [],
   "source": [
    "print(list_a[1:3])"
   ]
  },
  {
   "cell_type": "markdown",
   "id": "e3f05d17",
   "metadata": {},
   "source": [
    "* 리스트 길이"
   ]
  },
  {
   "cell_type": "code",
   "execution_count": 6,
   "id": "870187a7",
   "metadata": {},
   "outputs": [
    {
     "data": {
      "text/plain": [
       "3"
      ]
     },
     "execution_count": 6,
     "metadata": {},
     "output_type": "execute_result"
    }
   ],
   "source": [
    "a = [1, 2, 3]\n",
    "len(a)"
   ]
  },
  {
   "cell_type": "markdown",
   "id": "f2c066d3",
   "metadata": {},
   "source": [
    "* 리스트 수정"
   ]
  },
  {
   "cell_type": "code",
   "execution_count": 7,
   "id": "537dd0a2",
   "metadata": {},
   "outputs": [
    {
     "data": {
      "text/plain": [
       "[1, 2, 4]"
      ]
     },
     "execution_count": 7,
     "metadata": {},
     "output_type": "execute_result"
    }
   ],
   "source": [
    "a = [1, 2, 3]\n",
    "a[2] = 4\n",
    "a"
   ]
  },
  {
   "cell_type": "markdown",
   "id": "bd5e6e16",
   "metadata": {},
   "source": [
    "* 리스트 삭제"
   ]
  },
  {
   "cell_type": "code",
   "execution_count": 8,
   "id": "dddad752",
   "metadata": {},
   "outputs": [
    {
     "data": {
      "text/plain": [
       "[1, 3]"
      ]
     },
     "execution_count": 8,
     "metadata": {},
     "output_type": "execute_result"
    }
   ],
   "source": [
    "a = [1, 2, 3]\n",
    "del a[1]\n",
    "a"
   ]
  },
  {
   "cell_type": "code",
   "execution_count": 14,
   "id": "6bdd8f19",
   "metadata": {},
   "outputs": [
    {
     "data": {
      "text/plain": [
       "[1, 2]"
      ]
     },
     "execution_count": 14,
     "metadata": {},
     "output_type": "execute_result"
    }
   ],
   "source": [
    "a = [1, 2, 3, 4, 5]\n",
    "del a[2:]\n",
    "a"
   ]
  },
  {
   "cell_type": "markdown",
   "id": "2a060c44",
   "metadata": {},
   "source": [
    "* 리스트 추가"
   ]
  },
  {
   "cell_type": "code",
   "execution_count": 11,
   "id": "aa5f1b35",
   "metadata": {},
   "outputs": [
    {
     "data": {
      "text/plain": [
       "[1, 2, 3, 4]"
      ]
     },
     "execution_count": 11,
     "metadata": {},
     "output_type": "execute_result"
    }
   ],
   "source": [
    "a = [1, 2, 3]\n",
    "a.append(4)\n",
    "a"
   ]
  },
  {
   "cell_type": "code",
   "execution_count": 16,
   "id": "0e3306ed",
   "metadata": {},
   "outputs": [
    {
     "data": {
      "text/plain": [
       "[1, 2, 3, 4, [5, 6]]"
      ]
     },
     "execution_count": 16,
     "metadata": {},
     "output_type": "execute_result"
    }
   ],
   "source": [
    "a = [1,2,3,4]\n",
    "a.append([5,6])\n",
    "a"
   ]
  },
  {
   "cell_type": "code",
   "execution_count": 15,
   "id": "1b2c75df",
   "metadata": {
    "scrolled": true
   },
   "outputs": [
    {
     "data": {
      "text/plain": [
       "[1, 2, 3, 4, 5, 6]"
      ]
     },
     "execution_count": 15,
     "metadata": {},
     "output_type": "execute_result"
    }
   ],
   "source": [
    "a = [1,2,3,4]\n",
    "a.extend([5,6])\n",
    "a"
   ]
  },
  {
   "cell_type": "markdown",
   "id": "595f91d2",
   "metadata": {},
   "source": [
    "3.3 Tuple"
   ]
  },
  {
   "cell_type": "code",
   "execution_count": 33,
   "id": "2d976d4d",
   "metadata": {},
   "outputs": [
    {
     "name": "stdout",
     "output_type": "stream",
     "text": [
      "10\n",
      "20\n",
      "30\n"
     ]
    }
   ],
   "source": [
    "tuple_test = (10,20,30)\n",
    "print(tuple_test[0])\n",
    "print(tuple_test[1])\n",
    "print(tuple_test[2])"
   ]
  },
  {
   "cell_type": "markdown",
   "id": "532c74a4",
   "metadata": {},
   "source": [
    "3.4 Dictionary"
   ]
  },
  {
   "cell_type": "code",
   "execution_count": 34,
   "id": "05a50611",
   "metadata": {},
   "outputs": [
    {
     "data": {
      "text/plain": [
       "{'키A': 10, '키B': 20, '키C': 30, 1: 40, False: 50}"
      ]
     },
     "execution_count": 34,
     "metadata": {},
     "output_type": "execute_result"
    }
   ],
   "source": [
    "{\"키A\" : 10, \n",
    " \"키B\" : 20, \n",
    " \"키C\" : 30,\n",
    "  1:     40,\n",
    " False : 50\n",
    "}"
   ]
  },
  {
   "cell_type": "code",
   "execution_count": 38,
   "id": "318626f9",
   "metadata": {},
   "outputs": [
    {
     "name": "stdout",
     "output_type": "stream",
     "text": [
      "{'name': '어벤저스 앤드게임', 'type': '히어로 무비'}\n",
      "어벤저스 앤드게임\n",
      "히어로 무비\n"
     ]
    }
   ],
   "source": [
    "dict_a ={\n",
    "    \"name\" : \"어벤저스 앤드게임\",\n",
    "    \"type\" : \"히어로 무비\"\n",
    "}\n",
    "print(dict_a)\n",
    "print(dict_a[\"name\"])\n",
    "print(dict_a[\"type\"])"
   ]
  },
  {
   "cell_type": "markdown",
   "id": "52eeeb50",
   "metadata": {},
   "source": [
    "3.5 Series"
   ]
  },
  {
   "cell_type": "code",
   "execution_count": 42,
   "id": "cc062299",
   "metadata": {},
   "outputs": [
    {
     "data": {
      "text/plain": [
       "a    Kim Tuna\n",
       "b        11.1\n",
       "c          12\n",
       "d          13\n",
       "e          14\n",
       "Name: example, dtype: object"
      ]
     },
     "execution_count": 42,
     "metadata": {},
     "output_type": "execute_result"
    }
   ],
   "source": [
    "pd.Series(['Kim Tuna',11.1, 12, 13, 14],\n",
    "         index = ['a','b','c','d','e'],\n",
    "         name = 'example')"
   ]
  },
  {
   "cell_type": "code",
   "execution_count": 47,
   "id": "4fb35be7",
   "metadata": {},
   "outputs": [
    {
     "name": "stdout",
     "output_type": "stream",
     "text": [
      "a    3\n",
      "b   -5\n",
      "c    7\n",
      "d    4\n",
      "dtype: int64\n"
     ]
    }
   ],
   "source": [
    "a= pd.Series([3,-5,7,4], index = ['a','b','c','d'])\n",
    "print(a)"
   ]
  },
  {
   "cell_type": "markdown",
   "id": "46f18409",
   "metadata": {},
   "source": [
    "3.6 DataFrame"
   ]
  },
  {
   "cell_type": "code",
   "execution_count": 50,
   "id": "6c9efb88",
   "metadata": {},
   "outputs": [
    {
     "data": {
      "text/html": [
       "<div>\n",
       "<style scoped>\n",
       "    .dataframe tbody tr th:only-of-type {\n",
       "        vertical-align: middle;\n",
       "    }\n",
       "\n",
       "    .dataframe tbody tr th {\n",
       "        vertical-align: top;\n",
       "    }\n",
       "\n",
       "    .dataframe thead th {\n",
       "        text-align: right;\n",
       "    }\n",
       "</style>\n",
       "<table border=\"1\" class=\"dataframe\">\n",
       "  <thead>\n",
       "    <tr style=\"text-align: right;\">\n",
       "      <th></th>\n",
       "      <th>Country</th>\n",
       "      <th>Capital</th>\n",
       "      <th>Population</th>\n",
       "    </tr>\n",
       "  </thead>\n",
       "  <tbody>\n",
       "    <tr>\n",
       "      <th>0</th>\n",
       "      <td>Belgium</td>\n",
       "      <td>Brussels</td>\n",
       "      <td>11190846</td>\n",
       "    </tr>\n",
       "    <tr>\n",
       "      <th>1</th>\n",
       "      <td>India</td>\n",
       "      <td>New Delhi</td>\n",
       "      <td>1303171035</td>\n",
       "    </tr>\n",
       "    <tr>\n",
       "      <th>2</th>\n",
       "      <td>Brazil</td>\n",
       "      <td>Brasilia</td>\n",
       "      <td>207847528</td>\n",
       "    </tr>\n",
       "  </tbody>\n",
       "</table>\n",
       "</div>"
      ],
      "text/plain": [
       "   Country    Capital  Population\n",
       "0  Belgium   Brussels    11190846\n",
       "1    India  New Delhi  1303171035\n",
       "2   Brazil   Brasilia   207847528"
      ]
     },
     "execution_count": 50,
     "metadata": {},
     "output_type": "execute_result"
    }
   ],
   "source": [
    "data = {\n",
    "        'Country':['Belgium', 'India', 'Brazil'],\n",
    "        'Capital' :['Brussels','New Delhi', 'Brasilia'],\n",
    "        'Population' : [11190846, 1303171035, 207847528]\n",
    "       }\n",
    "df = pd.DataFrame(data, columns = ['Country', 'Capital','Population'])\n",
    "df"
   ]
  },
  {
   "cell_type": "markdown",
   "id": "4ce98c3c",
   "metadata": {},
   "source": [
    "4. 데이터분석 기본 명령어"
   ]
  },
  {
   "cell_type": "markdown",
   "id": "0ee5cf2a",
   "metadata": {},
   "source": [
    "4.1 데이터 셋"
   ]
  },
  {
   "cell_type": "code",
   "execution_count": 51,
   "id": "920c86a9",
   "metadata": {
    "scrolled": true
   },
   "outputs": [
    {
     "data": {
      "text/html": [
       "<div>\n",
       "<style scoped>\n",
       "    .dataframe tbody tr th:only-of-type {\n",
       "        vertical-align: middle;\n",
       "    }\n",
       "\n",
       "    .dataframe tbody tr th {\n",
       "        vertical-align: top;\n",
       "    }\n",
       "\n",
       "    .dataframe thead th {\n",
       "        text-align: right;\n",
       "    }\n",
       "</style>\n",
       "<table border=\"1\" class=\"dataframe\">\n",
       "  <thead>\n",
       "    <tr style=\"text-align: right;\">\n",
       "      <th></th>\n",
       "      <th>이름</th>\n",
       "      <th>키</th>\n",
       "      <th>몸무게</th>\n",
       "    </tr>\n",
       "  </thead>\n",
       "  <tbody>\n",
       "    <tr>\n",
       "      <th>0</th>\n",
       "      <td>싸이</td>\n",
       "      <td>180</td>\n",
       "      <td>75</td>\n",
       "    </tr>\n",
       "    <tr>\n",
       "      <th>1</th>\n",
       "      <td>덕구</td>\n",
       "      <td>160</td>\n",
       "      <td>65</td>\n",
       "    </tr>\n",
       "    <tr>\n",
       "      <th>2</th>\n",
       "      <td>또치</td>\n",
       "      <td>170</td>\n",
       "      <td>75</td>\n",
       "    </tr>\n",
       "  </tbody>\n",
       "</table>\n",
       "</div>"
      ],
      "text/plain": [
       "   이름    키  몸무게\n",
       "0  싸이  180   75\n",
       "1  덕구  160   65\n",
       "2  또치  170   75"
      ]
     },
     "execution_count": 51,
     "metadata": {},
     "output_type": "execute_result"
    }
   ],
   "source": [
    "DF1 = DataFrame([[\"싸이\",180,75],[\"덕구\",160,65],[\"또치\",170,75]], columns = [\"이름\",\"키\",\"몸무게\"])\n",
    "DF1"
   ]
  },
  {
   "cell_type": "code",
   "execution_count": 6,
   "id": "c0d21bf0",
   "metadata": {},
   "outputs": [
    {
     "data": {
      "text/html": [
       "<div>\n",
       "<style scoped>\n",
       "    .dataframe tbody tr th:only-of-type {\n",
       "        vertical-align: middle;\n",
       "    }\n",
       "\n",
       "    .dataframe tbody tr th {\n",
       "        vertical-align: top;\n",
       "    }\n",
       "\n",
       "    .dataframe thead th {\n",
       "        text-align: right;\n",
       "    }\n",
       "</style>\n",
       "<table border=\"1\" class=\"dataframe\">\n",
       "  <thead>\n",
       "    <tr style=\"text-align: right;\">\n",
       "      <th></th>\n",
       "      <th>이름</th>\n",
       "      <th>포지션</th>\n",
       "      <th>실력</th>\n",
       "    </tr>\n",
       "  </thead>\n",
       "  <tbody>\n",
       "    <tr>\n",
       "      <th>0</th>\n",
       "      <td>싸이</td>\n",
       "      <td>포워드</td>\n",
       "      <td>잘함</td>\n",
       "    </tr>\n",
       "    <tr>\n",
       "      <th>1</th>\n",
       "      <td>덕구</td>\n",
       "      <td>미드필더</td>\n",
       "      <td>못함</td>\n",
       "    </tr>\n",
       "    <tr>\n",
       "      <th>2</th>\n",
       "      <td>똥갈</td>\n",
       "      <td>수비수</td>\n",
       "      <td>잘함</td>\n",
       "    </tr>\n",
       "  </tbody>\n",
       "</table>\n",
       "</div>"
      ],
      "text/plain": [
       "   이름   포지션  실력\n",
       "0  싸이   포워드  잘함\n",
       "1  덕구  미드필더  못함\n",
       "2  똥갈   수비수  잘함"
      ]
     },
     "execution_count": 6,
     "metadata": {},
     "output_type": "execute_result"
    }
   ],
   "source": [
    "DF2 = DataFrame([[\"싸이\",\"포워드\",\"잘함\"],[\"덕구\",\"미드필더\",\"못함\"],[\"똥갈\",\"수비수\",\"잘함\"]], columns = [\"이름\",\"포지션\",\"실력\"])\n",
    "DF2"
   ]
  },
  {
   "cell_type": "markdown",
   "id": "ac679faf",
   "metadata": {},
   "source": [
    "* 데이터 병합"
   ]
  },
  {
   "cell_type": "code",
   "execution_count": 7,
   "id": "40c32653",
   "metadata": {},
   "outputs": [
    {
     "data": {
      "text/html": [
       "<div>\n",
       "<style scoped>\n",
       "    .dataframe tbody tr th:only-of-type {\n",
       "        vertical-align: middle;\n",
       "    }\n",
       "\n",
       "    .dataframe tbody tr th {\n",
       "        vertical-align: top;\n",
       "    }\n",
       "\n",
       "    .dataframe thead th {\n",
       "        text-align: right;\n",
       "    }\n",
       "</style>\n",
       "<table border=\"1\" class=\"dataframe\">\n",
       "  <thead>\n",
       "    <tr style=\"text-align: right;\">\n",
       "      <th></th>\n",
       "      <th>이름</th>\n",
       "      <th>키</th>\n",
       "      <th>몸무게</th>\n",
       "      <th>포지션</th>\n",
       "      <th>실력</th>\n",
       "    </tr>\n",
       "  </thead>\n",
       "  <tbody>\n",
       "    <tr>\n",
       "      <th>0</th>\n",
       "      <td>싸이</td>\n",
       "      <td>180</td>\n",
       "      <td>75</td>\n",
       "      <td>포워드</td>\n",
       "      <td>잘함</td>\n",
       "    </tr>\n",
       "    <tr>\n",
       "      <th>1</th>\n",
       "      <td>덕구</td>\n",
       "      <td>160</td>\n",
       "      <td>65</td>\n",
       "      <td>미드필더</td>\n",
       "      <td>못함</td>\n",
       "    </tr>\n",
       "  </tbody>\n",
       "</table>\n",
       "</div>"
      ],
      "text/plain": [
       "   이름    키  몸무게   포지션  실력\n",
       "0  싸이  180   75   포워드  잘함\n",
       "1  덕구  160   65  미드필더  못함"
      ]
     },
     "execution_count": 7,
     "metadata": {},
     "output_type": "execute_result"
    }
   ],
   "source": [
    "pd.merge(left = DF1 , right = DF2, how = \"inner\", on = \"이름\")"
   ]
  },
  {
   "cell_type": "code",
   "execution_count": 8,
   "id": "a383b214",
   "metadata": {},
   "outputs": [
    {
     "data": {
      "text/html": [
       "<div>\n",
       "<style scoped>\n",
       "    .dataframe tbody tr th:only-of-type {\n",
       "        vertical-align: middle;\n",
       "    }\n",
       "\n",
       "    .dataframe tbody tr th {\n",
       "        vertical-align: top;\n",
       "    }\n",
       "\n",
       "    .dataframe thead th {\n",
       "        text-align: right;\n",
       "    }\n",
       "</style>\n",
       "<table border=\"1\" class=\"dataframe\">\n",
       "  <thead>\n",
       "    <tr style=\"text-align: right;\">\n",
       "      <th></th>\n",
       "      <th>이름</th>\n",
       "      <th>키</th>\n",
       "      <th>몸무게</th>\n",
       "      <th>포지션</th>\n",
       "      <th>실력</th>\n",
       "    </tr>\n",
       "  </thead>\n",
       "  <tbody>\n",
       "    <tr>\n",
       "      <th>0</th>\n",
       "      <td>싸이</td>\n",
       "      <td>180</td>\n",
       "      <td>75</td>\n",
       "      <td>포워드</td>\n",
       "      <td>잘함</td>\n",
       "    </tr>\n",
       "    <tr>\n",
       "      <th>1</th>\n",
       "      <td>덕구</td>\n",
       "      <td>160</td>\n",
       "      <td>65</td>\n",
       "      <td>미드필더</td>\n",
       "      <td>못함</td>\n",
       "    </tr>\n",
       "    <tr>\n",
       "      <th>2</th>\n",
       "      <td>또치</td>\n",
       "      <td>170</td>\n",
       "      <td>75</td>\n",
       "      <td>NaN</td>\n",
       "      <td>NaN</td>\n",
       "    </tr>\n",
       "  </tbody>\n",
       "</table>\n",
       "</div>"
      ],
      "text/plain": [
       "   이름    키  몸무게   포지션   실력\n",
       "0  싸이  180   75   포워드   잘함\n",
       "1  덕구  160   65  미드필더   못함\n",
       "2  또치  170   75   NaN  NaN"
      ]
     },
     "execution_count": 8,
     "metadata": {},
     "output_type": "execute_result"
    }
   ],
   "source": [
    "pd.merge(left = DF1 , right = DF2, how = \"left\", on = \"이름\")"
   ]
  },
  {
   "cell_type": "code",
   "execution_count": 9,
   "id": "76be540b",
   "metadata": {},
   "outputs": [
    {
     "data": {
      "text/html": [
       "<div>\n",
       "<style scoped>\n",
       "    .dataframe tbody tr th:only-of-type {\n",
       "        vertical-align: middle;\n",
       "    }\n",
       "\n",
       "    .dataframe tbody tr th {\n",
       "        vertical-align: top;\n",
       "    }\n",
       "\n",
       "    .dataframe thead th {\n",
       "        text-align: right;\n",
       "    }\n",
       "</style>\n",
       "<table border=\"1\" class=\"dataframe\">\n",
       "  <thead>\n",
       "    <tr style=\"text-align: right;\">\n",
       "      <th></th>\n",
       "      <th>이름</th>\n",
       "      <th>키</th>\n",
       "      <th>몸무게</th>\n",
       "      <th>포지션</th>\n",
       "      <th>실력</th>\n",
       "    </tr>\n",
       "  </thead>\n",
       "  <tbody>\n",
       "    <tr>\n",
       "      <th>0</th>\n",
       "      <td>싸이</td>\n",
       "      <td>180.0</td>\n",
       "      <td>75.0</td>\n",
       "      <td>포워드</td>\n",
       "      <td>잘함</td>\n",
       "    </tr>\n",
       "    <tr>\n",
       "      <th>1</th>\n",
       "      <td>덕구</td>\n",
       "      <td>160.0</td>\n",
       "      <td>65.0</td>\n",
       "      <td>미드필더</td>\n",
       "      <td>못함</td>\n",
       "    </tr>\n",
       "    <tr>\n",
       "      <th>2</th>\n",
       "      <td>똥갈</td>\n",
       "      <td>NaN</td>\n",
       "      <td>NaN</td>\n",
       "      <td>수비수</td>\n",
       "      <td>잘함</td>\n",
       "    </tr>\n",
       "  </tbody>\n",
       "</table>\n",
       "</div>"
      ],
      "text/plain": [
       "   이름      키   몸무게   포지션  실력\n",
       "0  싸이  180.0  75.0   포워드  잘함\n",
       "1  덕구  160.0  65.0  미드필더  못함\n",
       "2  똥갈    NaN   NaN   수비수  잘함"
      ]
     },
     "execution_count": 9,
     "metadata": {},
     "output_type": "execute_result"
    }
   ],
   "source": [
    "pd.merge(left = DF1 , right = DF2, how = \"right\", on = \"이름\")"
   ]
  },
  {
   "cell_type": "code",
   "execution_count": 10,
   "id": "2f8ef3ea",
   "metadata": {},
   "outputs": [
    {
     "data": {
      "text/html": [
       "<div>\n",
       "<style scoped>\n",
       "    .dataframe tbody tr th:only-of-type {\n",
       "        vertical-align: middle;\n",
       "    }\n",
       "\n",
       "    .dataframe tbody tr th {\n",
       "        vertical-align: top;\n",
       "    }\n",
       "\n",
       "    .dataframe thead th {\n",
       "        text-align: right;\n",
       "    }\n",
       "</style>\n",
       "<table border=\"1\" class=\"dataframe\">\n",
       "  <thead>\n",
       "    <tr style=\"text-align: right;\">\n",
       "      <th></th>\n",
       "      <th>이름</th>\n",
       "      <th>키</th>\n",
       "      <th>몸무게</th>\n",
       "      <th>포지션</th>\n",
       "      <th>실력</th>\n",
       "    </tr>\n",
       "  </thead>\n",
       "  <tbody>\n",
       "    <tr>\n",
       "      <th>0</th>\n",
       "      <td>싸이</td>\n",
       "      <td>180.0</td>\n",
       "      <td>75.0</td>\n",
       "      <td>포워드</td>\n",
       "      <td>잘함</td>\n",
       "    </tr>\n",
       "    <tr>\n",
       "      <th>1</th>\n",
       "      <td>덕구</td>\n",
       "      <td>160.0</td>\n",
       "      <td>65.0</td>\n",
       "      <td>미드필더</td>\n",
       "      <td>못함</td>\n",
       "    </tr>\n",
       "    <tr>\n",
       "      <th>2</th>\n",
       "      <td>또치</td>\n",
       "      <td>170.0</td>\n",
       "      <td>75.0</td>\n",
       "      <td>NaN</td>\n",
       "      <td>NaN</td>\n",
       "    </tr>\n",
       "    <tr>\n",
       "      <th>3</th>\n",
       "      <td>똥갈</td>\n",
       "      <td>NaN</td>\n",
       "      <td>NaN</td>\n",
       "      <td>수비수</td>\n",
       "      <td>잘함</td>\n",
       "    </tr>\n",
       "  </tbody>\n",
       "</table>\n",
       "</div>"
      ],
      "text/plain": [
       "   이름      키   몸무게   포지션   실력\n",
       "0  싸이  180.0  75.0   포워드   잘함\n",
       "1  덕구  160.0  65.0  미드필더   못함\n",
       "2  또치  170.0  75.0   NaN  NaN\n",
       "3  똥갈    NaN   NaN   수비수   잘함"
      ]
     },
     "execution_count": 10,
     "metadata": {},
     "output_type": "execute_result"
    }
   ],
   "source": [
    "pd.merge(left = DF1 , right = DF2, how = \"outer\", on = \"이름\")"
   ]
  },
  {
   "cell_type": "code",
   "execution_count": 17,
   "id": "d15a69e6",
   "metadata": {},
   "outputs": [
    {
     "data": {
      "text/html": [
       "<div>\n",
       "<style scoped>\n",
       "    .dataframe tbody tr th:only-of-type {\n",
       "        vertical-align: middle;\n",
       "    }\n",
       "\n",
       "    .dataframe tbody tr th {\n",
       "        vertical-align: top;\n",
       "    }\n",
       "\n",
       "    .dataframe thead th {\n",
       "        text-align: right;\n",
       "    }\n",
       "</style>\n",
       "<table border=\"1\" class=\"dataframe\">\n",
       "  <thead>\n",
       "    <tr style=\"text-align: right;\">\n",
       "      <th></th>\n",
       "      <th>이름</th>\n",
       "      <th>키</th>\n",
       "      <th>몸무게</th>\n",
       "      <th>포지션</th>\n",
       "      <th>실력</th>\n",
       "    </tr>\n",
       "  </thead>\n",
       "  <tbody>\n",
       "    <tr>\n",
       "      <th>0</th>\n",
       "      <td>싸이</td>\n",
       "      <td>180</td>\n",
       "      <td>75</td>\n",
       "      <td>포워드</td>\n",
       "      <td>잘함</td>\n",
       "    </tr>\n",
       "    <tr>\n",
       "      <th>1</th>\n",
       "      <td>덕구</td>\n",
       "      <td>160</td>\n",
       "      <td>65</td>\n",
       "      <td>미드필더</td>\n",
       "      <td>못함</td>\n",
       "    </tr>\n",
       "    <tr>\n",
       "      <th>2</th>\n",
       "      <td>또치</td>\n",
       "      <td>170</td>\n",
       "      <td>75</td>\n",
       "      <td>NaN</td>\n",
       "      <td>NaN</td>\n",
       "    </tr>\n",
       "  </tbody>\n",
       "</table>\n",
       "</div>"
      ],
      "text/plain": [
       "   이름    키  몸무게   포지션   실력\n",
       "0  싸이  180   75   포워드   잘함\n",
       "1  덕구  160   65  미드필더   못함\n",
       "2  또치  170   75   NaN  NaN"
      ]
     },
     "execution_count": 17,
     "metadata": {},
     "output_type": "execute_result"
    }
   ],
   "source": [
    "test = pd.merge(left = DF1 , right = DF2, how = \"left\", on = \"이름\")\n",
    "test"
   ]
  },
  {
   "cell_type": "markdown",
   "id": "0613d6a0",
   "metadata": {},
   "source": [
    "* 결측치 처리"
   ]
  },
  {
   "cell_type": "code",
   "execution_count": 30,
   "id": "6dee7b9c",
   "metadata": {},
   "outputs": [
    {
     "data": {
      "text/html": [
       "<div>\n",
       "<style scoped>\n",
       "    .dataframe tbody tr th:only-of-type {\n",
       "        vertical-align: middle;\n",
       "    }\n",
       "\n",
       "    .dataframe tbody tr th {\n",
       "        vertical-align: top;\n",
       "    }\n",
       "\n",
       "    .dataframe thead th {\n",
       "        text-align: right;\n",
       "    }\n",
       "</style>\n",
       "<table border=\"1\" class=\"dataframe\">\n",
       "  <thead>\n",
       "    <tr style=\"text-align: right;\">\n",
       "      <th></th>\n",
       "      <th>이름</th>\n",
       "      <th>키</th>\n",
       "      <th>몸무게</th>\n",
       "      <th>포지션</th>\n",
       "      <th>실력</th>\n",
       "    </tr>\n",
       "  </thead>\n",
       "  <tbody>\n",
       "    <tr>\n",
       "      <th>0</th>\n",
       "      <td>싸이</td>\n",
       "      <td>180</td>\n",
       "      <td>75</td>\n",
       "      <td>포워드</td>\n",
       "      <td>잘함</td>\n",
       "    </tr>\n",
       "    <tr>\n",
       "      <th>1</th>\n",
       "      <td>덕구</td>\n",
       "      <td>160</td>\n",
       "      <td>65</td>\n",
       "      <td>미드필더</td>\n",
       "      <td>못함</td>\n",
       "    </tr>\n",
       "    <tr>\n",
       "      <th>2</th>\n",
       "      <td>또치</td>\n",
       "      <td>170</td>\n",
       "      <td>75</td>\n",
       "      <td>0</td>\n",
       "      <td>0</td>\n",
       "    </tr>\n",
       "  </tbody>\n",
       "</table>\n",
       "</div>"
      ],
      "text/plain": [
       "   이름    키  몸무게   포지션  실력\n",
       "0  싸이  180   75   포워드  잘함\n",
       "1  덕구  160   65  미드필더  못함\n",
       "2  또치  170   75     0   0"
      ]
     },
     "execution_count": 30,
     "metadata": {},
     "output_type": "execute_result"
    }
   ],
   "source": [
    "test.fillna(0)"
   ]
  },
  {
   "cell_type": "code",
   "execution_count": 19,
   "id": "7986a9c8",
   "metadata": {},
   "outputs": [
    {
     "data": {
      "text/html": [
       "<div>\n",
       "<style scoped>\n",
       "    .dataframe tbody tr th:only-of-type {\n",
       "        vertical-align: middle;\n",
       "    }\n",
       "\n",
       "    .dataframe tbody tr th {\n",
       "        vertical-align: top;\n",
       "    }\n",
       "\n",
       "    .dataframe thead th {\n",
       "        text-align: right;\n",
       "    }\n",
       "</style>\n",
       "<table border=\"1\" class=\"dataframe\">\n",
       "  <thead>\n",
       "    <tr style=\"text-align: right;\">\n",
       "      <th></th>\n",
       "      <th>이름</th>\n",
       "      <th>키</th>\n",
       "      <th>몸무게</th>\n",
       "      <th>포지션</th>\n",
       "      <th>실력</th>\n",
       "    </tr>\n",
       "  </thead>\n",
       "  <tbody>\n",
       "    <tr>\n",
       "      <th>0</th>\n",
       "      <td>싸이</td>\n",
       "      <td>180</td>\n",
       "      <td>75</td>\n",
       "      <td>포워드</td>\n",
       "      <td>잘함</td>\n",
       "    </tr>\n",
       "    <tr>\n",
       "      <th>1</th>\n",
       "      <td>덕구</td>\n",
       "      <td>160</td>\n",
       "      <td>65</td>\n",
       "      <td>미드필더</td>\n",
       "      <td>못함</td>\n",
       "    </tr>\n",
       "  </tbody>\n",
       "</table>\n",
       "</div>"
      ],
      "text/plain": [
       "   이름    키  몸무게   포지션  실력\n",
       "0  싸이  180   75   포워드  잘함\n",
       "1  덕구  160   65  미드필더  못함"
      ]
     },
     "execution_count": 19,
     "metadata": {},
     "output_type": "execute_result"
    }
   ],
   "source": [
    "test.dropna()"
   ]
  },
  {
   "cell_type": "markdown",
   "id": "db9e56b1",
   "metadata": {},
   "source": [
    "* 데이터 정렬"
   ]
  },
  {
   "cell_type": "code",
   "execution_count": 45,
   "id": "5ae93e62",
   "metadata": {},
   "outputs": [
    {
     "data": {
      "text/html": [
       "<div>\n",
       "<style scoped>\n",
       "    .dataframe tbody tr th:only-of-type {\n",
       "        vertical-align: middle;\n",
       "    }\n",
       "\n",
       "    .dataframe tbody tr th {\n",
       "        vertical-align: top;\n",
       "    }\n",
       "\n",
       "    .dataframe thead th {\n",
       "        text-align: right;\n",
       "    }\n",
       "</style>\n",
       "<table border=\"1\" class=\"dataframe\">\n",
       "  <thead>\n",
       "    <tr style=\"text-align: right;\">\n",
       "      <th></th>\n",
       "      <th>이름</th>\n",
       "      <th>키</th>\n",
       "      <th>몸무게</th>\n",
       "      <th>포지션</th>\n",
       "      <th>실력</th>\n",
       "    </tr>\n",
       "  </thead>\n",
       "  <tbody>\n",
       "    <tr>\n",
       "      <th>2</th>\n",
       "      <td>또치</td>\n",
       "      <td>170</td>\n",
       "      <td>75</td>\n",
       "      <td>NaN</td>\n",
       "      <td>NaN</td>\n",
       "    </tr>\n",
       "    <tr>\n",
       "      <th>0</th>\n",
       "      <td>싸이</td>\n",
       "      <td>180</td>\n",
       "      <td>75</td>\n",
       "      <td>포워드</td>\n",
       "      <td>잘함</td>\n",
       "    </tr>\n",
       "    <tr>\n",
       "      <th>1</th>\n",
       "      <td>덕구</td>\n",
       "      <td>160</td>\n",
       "      <td>65</td>\n",
       "      <td>미드필더</td>\n",
       "      <td>못함</td>\n",
       "    </tr>\n",
       "  </tbody>\n",
       "</table>\n",
       "</div>"
      ],
      "text/plain": [
       "   이름    키  몸무게   포지션   실력\n",
       "2  또치  170   75   NaN  NaN\n",
       "0  싸이  180   75   포워드   잘함\n",
       "1  덕구  160   65  미드필더   못함"
      ]
     },
     "execution_count": 45,
     "metadata": {},
     "output_type": "execute_result"
    }
   ],
   "source": [
    "test.sort_values(by = ['몸무게','키'], ascending = [False, True])"
   ]
  },
  {
   "cell_type": "markdown",
   "id": "a1cb8d6b",
   "metadata": {},
   "source": [
    "* 피벗테이블"
   ]
  },
  {
   "cell_type": "code",
   "execution_count": 46,
   "id": "ce845672",
   "metadata": {},
   "outputs": [
    {
     "data": {
      "text/html": [
       "<div>\n",
       "<style scoped>\n",
       "    .dataframe tbody tr th:only-of-type {\n",
       "        vertical-align: middle;\n",
       "    }\n",
       "\n",
       "    .dataframe tbody tr th {\n",
       "        vertical-align: top;\n",
       "    }\n",
       "\n",
       "    .dataframe thead th {\n",
       "        text-align: right;\n",
       "    }\n",
       "</style>\n",
       "<table border=\"1\" class=\"dataframe\">\n",
       "  <thead>\n",
       "    <tr style=\"text-align: right;\">\n",
       "      <th>실력</th>\n",
       "      <th>못함</th>\n",
       "      <th>잘함</th>\n",
       "    </tr>\n",
       "    <tr>\n",
       "      <th>몸무게</th>\n",
       "      <th></th>\n",
       "      <th></th>\n",
       "    </tr>\n",
       "  </thead>\n",
       "  <tbody>\n",
       "    <tr>\n",
       "      <th>65</th>\n",
       "      <td>160.0</td>\n",
       "      <td>NaN</td>\n",
       "    </tr>\n",
       "    <tr>\n",
       "      <th>75</th>\n",
       "      <td>NaN</td>\n",
       "      <td>180.0</td>\n",
       "    </tr>\n",
       "  </tbody>\n",
       "</table>\n",
       "</div>"
      ],
      "text/plain": [
       "실력      못함     잘함\n",
       "몸무게              \n",
       "65   160.0    NaN\n",
       "75     NaN  180.0"
      ]
     },
     "execution_count": 46,
     "metadata": {},
     "output_type": "execute_result"
    }
   ],
   "source": [
    "test.pivot_table(index='몸무게', columns='실력', values='키', aggfunc='sum')"
   ]
  },
  {
   "cell_type": "markdown",
   "id": "71aabed5",
   "metadata": {},
   "source": [
    "4.2 행/열"
   ]
  },
  {
   "cell_type": "markdown",
   "id": "c682db2a",
   "metadata": {},
   "source": [
    "* 조건에 맞는 행 선택"
   ]
  },
  {
   "cell_type": "code",
   "execution_count": 47,
   "id": "48c070bb",
   "metadata": {},
   "outputs": [
    {
     "data": {
      "text/html": [
       "<div>\n",
       "<style scoped>\n",
       "    .dataframe tbody tr th:only-of-type {\n",
       "        vertical-align: middle;\n",
       "    }\n",
       "\n",
       "    .dataframe tbody tr th {\n",
       "        vertical-align: top;\n",
       "    }\n",
       "\n",
       "    .dataframe thead th {\n",
       "        text-align: right;\n",
       "    }\n",
       "</style>\n",
       "<table border=\"1\" class=\"dataframe\">\n",
       "  <thead>\n",
       "    <tr style=\"text-align: right;\">\n",
       "      <th></th>\n",
       "      <th>이름</th>\n",
       "      <th>키</th>\n",
       "      <th>몸무게</th>\n",
       "      <th>포지션</th>\n",
       "      <th>실력</th>\n",
       "    </tr>\n",
       "  </thead>\n",
       "  <tbody>\n",
       "    <tr>\n",
       "      <th>0</th>\n",
       "      <td>싸이</td>\n",
       "      <td>180</td>\n",
       "      <td>75</td>\n",
       "      <td>포워드</td>\n",
       "      <td>잘함</td>\n",
       "    </tr>\n",
       "    <tr>\n",
       "      <th>2</th>\n",
       "      <td>또치</td>\n",
       "      <td>170</td>\n",
       "      <td>75</td>\n",
       "      <td>NaN</td>\n",
       "      <td>NaN</td>\n",
       "    </tr>\n",
       "  </tbody>\n",
       "</table>\n",
       "</div>"
      ],
      "text/plain": [
       "   이름    키  몸무게  포지션   실력\n",
       "0  싸이  180   75  포워드   잘함\n",
       "2  또치  170   75  NaN  NaN"
      ]
     },
     "execution_count": 47,
     "metadata": {},
     "output_type": "execute_result"
    }
   ],
   "source": [
    "test[test['키']>=170]"
   ]
  },
  {
   "cell_type": "markdown",
   "id": "2092f684",
   "metadata": {},
   "source": [
    "* 행 추가"
   ]
  },
  {
   "cell_type": "code",
   "execution_count": 13,
   "id": "5e233e2f",
   "metadata": {},
   "outputs": [
    {
     "data": {
      "text/html": [
       "<div>\n",
       "<style scoped>\n",
       "    .dataframe tbody tr th:only-of-type {\n",
       "        vertical-align: middle;\n",
       "    }\n",
       "\n",
       "    .dataframe tbody tr th {\n",
       "        vertical-align: top;\n",
       "    }\n",
       "\n",
       "    .dataframe thead th {\n",
       "        text-align: right;\n",
       "    }\n",
       "</style>\n",
       "<table border=\"1\" class=\"dataframe\">\n",
       "  <thead>\n",
       "    <tr style=\"text-align: right;\">\n",
       "      <th></th>\n",
       "      <th>이름</th>\n",
       "      <th>키</th>\n",
       "      <th>몸무게</th>\n",
       "      <th>포지션</th>\n",
       "      <th>실력</th>\n",
       "    </tr>\n",
       "  </thead>\n",
       "  <tbody>\n",
       "    <tr>\n",
       "      <th>0</th>\n",
       "      <td>싸이</td>\n",
       "      <td>180</td>\n",
       "      <td>75</td>\n",
       "      <td>포워드</td>\n",
       "      <td>잘함</td>\n",
       "    </tr>\n",
       "    <tr>\n",
       "      <th>1</th>\n",
       "      <td>덕구</td>\n",
       "      <td>160</td>\n",
       "      <td>65</td>\n",
       "      <td>미드필더</td>\n",
       "      <td>못함</td>\n",
       "    </tr>\n",
       "    <tr>\n",
       "      <th>2</th>\n",
       "      <td>또치</td>\n",
       "      <td>170</td>\n",
       "      <td>75</td>\n",
       "      <td>NaN</td>\n",
       "      <td>NaN</td>\n",
       "    </tr>\n",
       "    <tr>\n",
       "      <th>3</th>\n",
       "      <td>신보</td>\n",
       "      <td>175</td>\n",
       "      <td>72</td>\n",
       "      <td>공격수</td>\n",
       "      <td>보통</td>\n",
       "    </tr>\n",
       "  </tbody>\n",
       "</table>\n",
       "</div>"
      ],
      "text/plain": [
       "   이름    키  몸무게   포지션   실력\n",
       "0  싸이  180   75   포워드   잘함\n",
       "1  덕구  160   65  미드필더   못함\n",
       "2  또치  170   75   NaN  NaN\n",
       "3  신보  175   72   공격수   보통"
      ]
     },
     "execution_count": 13,
     "metadata": {},
     "output_type": "execute_result"
    }
   ],
   "source": [
    "test.loc[3] = ['신보',175,72,'공격수','보통']\n",
    "test"
   ]
  },
  {
   "cell_type": "code",
   "execution_count": 12,
   "id": "49a6ad19",
   "metadata": {
    "collapsed": true
   },
   "outputs": [
    {
     "ename": "TypeError",
     "evalue": "Can only append a dict if ignore_index=True",
     "output_type": "error",
     "traceback": [
      "\u001b[1;31m---------------------------------------------------------------------------\u001b[0m",
      "\u001b[1;31mTypeError\u001b[0m                                 Traceback (most recent call last)",
      "\u001b[1;32m<ipython-input-12-e38d7c8bc877>\u001b[0m in \u001b[0;36m<module>\u001b[1;34m\u001b[0m\n\u001b[0;32m      1\u001b[0m \u001b[0mnew_data\u001b[0m \u001b[1;33m=\u001b[0m \u001b[1;33m{\u001b[0m\u001b[1;34m'이름'\u001b[0m\u001b[1;33m:\u001b[0m\u001b[1;34m'신보'\u001b[0m\u001b[1;33m,\u001b[0m \u001b[1;34m'키'\u001b[0m\u001b[1;33m:\u001b[0m\u001b[1;36m175\u001b[0m\u001b[1;33m,\u001b[0m \u001b[1;34m'몸무게'\u001b[0m \u001b[1;33m:\u001b[0m \u001b[1;36m72\u001b[0m\u001b[1;33m,\u001b[0m \u001b[1;34m'포지션'\u001b[0m\u001b[1;33m:\u001b[0m\u001b[1;34m'공격수'\u001b[0m\u001b[1;33m,\u001b[0m \u001b[1;34m'실력'\u001b[0m\u001b[1;33m:\u001b[0m\u001b[1;34m'보통'\u001b[0m\u001b[1;33m}\u001b[0m\u001b[1;33m\u001b[0m\u001b[1;33m\u001b[0m\u001b[0m\n\u001b[1;32m----> 2\u001b[1;33m \u001b[0mtest\u001b[0m\u001b[1;33m.\u001b[0m\u001b[0mappend\u001b[0m\u001b[1;33m(\u001b[0m\u001b[0mnew_data\u001b[0m\u001b[1;33m)\u001b[0m\u001b[1;33m\u001b[0m\u001b[1;33m\u001b[0m\u001b[0m\n\u001b[0m",
      "\u001b[1;32mC:\\Anaconda\\lib\\site-packages\\pandas\\core\\frame.py\u001b[0m in \u001b[0;36mappend\u001b[1;34m(self, other, ignore_index, verify_integrity, sort)\u001b[0m\n\u001b[0;32m   7943\u001b[0m             \u001b[1;32mif\u001b[0m \u001b[0misinstance\u001b[0m\u001b[1;33m(\u001b[0m\u001b[0mother\u001b[0m\u001b[1;33m,\u001b[0m \u001b[0mdict\u001b[0m\u001b[1;33m)\u001b[0m\u001b[1;33m:\u001b[0m\u001b[1;33m\u001b[0m\u001b[1;33m\u001b[0m\u001b[0m\n\u001b[0;32m   7944\u001b[0m                 \u001b[1;32mif\u001b[0m \u001b[1;32mnot\u001b[0m \u001b[0mignore_index\u001b[0m\u001b[1;33m:\u001b[0m\u001b[1;33m\u001b[0m\u001b[1;33m\u001b[0m\u001b[0m\n\u001b[1;32m-> 7945\u001b[1;33m                     \u001b[1;32mraise\u001b[0m \u001b[0mTypeError\u001b[0m\u001b[1;33m(\u001b[0m\u001b[1;34m\"Can only append a dict if ignore_index=True\"\u001b[0m\u001b[1;33m)\u001b[0m\u001b[1;33m\u001b[0m\u001b[1;33m\u001b[0m\u001b[0m\n\u001b[0m\u001b[0;32m   7946\u001b[0m                 \u001b[0mother\u001b[0m \u001b[1;33m=\u001b[0m \u001b[0mSeries\u001b[0m\u001b[1;33m(\u001b[0m\u001b[0mother\u001b[0m\u001b[1;33m)\u001b[0m\u001b[1;33m\u001b[0m\u001b[1;33m\u001b[0m\u001b[0m\n\u001b[0;32m   7947\u001b[0m             \u001b[1;32mif\u001b[0m \u001b[0mother\u001b[0m\u001b[1;33m.\u001b[0m\u001b[0mname\u001b[0m \u001b[1;32mis\u001b[0m \u001b[1;32mNone\u001b[0m \u001b[1;32mand\u001b[0m \u001b[1;32mnot\u001b[0m \u001b[0mignore_index\u001b[0m\u001b[1;33m:\u001b[0m\u001b[1;33m\u001b[0m\u001b[1;33m\u001b[0m\u001b[0m\n",
      "\u001b[1;31mTypeError\u001b[0m: Can only append a dict if ignore_index=True"
     ]
    }
   ],
   "source": [
    "new_data = {'이름':'신보', '키':175, '몸무게' : 72, '포지션':'공격수', '실력':'보통'}\n",
    "test.append(new_data)"
   ]
  },
  {
   "cell_type": "markdown",
   "id": "b5d079b7",
   "metadata": {},
   "source": [
    "* 행 삭제"
   ]
  },
  {
   "cell_type": "code",
   "execution_count": 16,
   "id": "3a132f4a",
   "metadata": {},
   "outputs": [
    {
     "data": {
      "text/html": [
       "<div>\n",
       "<style scoped>\n",
       "    .dataframe tbody tr th:only-of-type {\n",
       "        vertical-align: middle;\n",
       "    }\n",
       "\n",
       "    .dataframe tbody tr th {\n",
       "        vertical-align: top;\n",
       "    }\n",
       "\n",
       "    .dataframe thead th {\n",
       "        text-align: right;\n",
       "    }\n",
       "</style>\n",
       "<table border=\"1\" class=\"dataframe\">\n",
       "  <thead>\n",
       "    <tr style=\"text-align: right;\">\n",
       "      <th></th>\n",
       "      <th>이름</th>\n",
       "      <th>키</th>\n",
       "      <th>몸무게</th>\n",
       "      <th>포지션</th>\n",
       "      <th>실력</th>\n",
       "    </tr>\n",
       "  </thead>\n",
       "  <tbody>\n",
       "    <tr>\n",
       "      <th>0</th>\n",
       "      <td>싸이</td>\n",
       "      <td>180</td>\n",
       "      <td>75</td>\n",
       "      <td>포워드</td>\n",
       "      <td>잘함</td>\n",
       "    </tr>\n",
       "    <tr>\n",
       "      <th>1</th>\n",
       "      <td>덕구</td>\n",
       "      <td>160</td>\n",
       "      <td>65</td>\n",
       "      <td>미드필더</td>\n",
       "      <td>못함</td>\n",
       "    </tr>\n",
       "    <tr>\n",
       "      <th>2</th>\n",
       "      <td>또치</td>\n",
       "      <td>170</td>\n",
       "      <td>75</td>\n",
       "      <td>NaN</td>\n",
       "      <td>NaN</td>\n",
       "    </tr>\n",
       "  </tbody>\n",
       "</table>\n",
       "</div>"
      ],
      "text/plain": [
       "   이름    키  몸무게   포지션   실력\n",
       "0  싸이  180   75   포워드   잘함\n",
       "1  덕구  160   65  미드필더   못함\n",
       "2  또치  170   75   NaN  NaN"
      ]
     },
     "execution_count": 16,
     "metadata": {},
     "output_type": "execute_result"
    }
   ],
   "source": [
    "drop_list = test[test['이름']=='신보'].index\n",
    "test = test.drop(drop_list)\n",
    "test"
   ]
  },
  {
   "cell_type": "code",
   "execution_count": 48,
   "id": "3a4107ef",
   "metadata": {},
   "outputs": [
    {
     "data": {
      "text/html": [
       "<div>\n",
       "<style scoped>\n",
       "    .dataframe tbody tr th:only-of-type {\n",
       "        vertical-align: middle;\n",
       "    }\n",
       "\n",
       "    .dataframe tbody tr th {\n",
       "        vertical-align: top;\n",
       "    }\n",
       "\n",
       "    .dataframe thead th {\n",
       "        text-align: right;\n",
       "    }\n",
       "</style>\n",
       "<table border=\"1\" class=\"dataframe\">\n",
       "  <thead>\n",
       "    <tr style=\"text-align: right;\">\n",
       "      <th></th>\n",
       "      <th>이름</th>\n",
       "      <th>키</th>\n",
       "      <th>몸무게</th>\n",
       "      <th>포지션</th>\n",
       "      <th>실력</th>\n",
       "    </tr>\n",
       "  </thead>\n",
       "  <tbody>\n",
       "    <tr>\n",
       "      <th>0</th>\n",
       "      <td>싸이</td>\n",
       "      <td>180</td>\n",
       "      <td>75</td>\n",
       "      <td>포워드</td>\n",
       "      <td>잘함</td>\n",
       "    </tr>\n",
       "    <tr>\n",
       "      <th>1</th>\n",
       "      <td>덕구</td>\n",
       "      <td>160</td>\n",
       "      <td>65</td>\n",
       "      <td>미드필더</td>\n",
       "      <td>못함</td>\n",
       "    </tr>\n",
       "  </tbody>\n",
       "</table>\n",
       "</div>"
      ],
      "text/plain": [
       "   이름    키  몸무게   포지션  실력\n",
       "0  싸이  180   75   포워드  잘함\n",
       "1  덕구  160   65  미드필더  못함"
      ]
     },
     "execution_count": 48,
     "metadata": {},
     "output_type": "execute_result"
    }
   ],
   "source": [
    "drop_list = test[test['키']== 170].index\n",
    "test.drop(drop_list)"
   ]
  },
  {
   "cell_type": "markdown",
   "id": "2976b196",
   "metadata": {},
   "source": [
    "* 중복행 삭제"
   ]
  },
  {
   "cell_type": "code",
   "execution_count": 51,
   "id": "db16d2e9",
   "metadata": {},
   "outputs": [
    {
     "data": {
      "text/html": [
       "<div>\n",
       "<style scoped>\n",
       "    .dataframe tbody tr th:only-of-type {\n",
       "        vertical-align: middle;\n",
       "    }\n",
       "\n",
       "    .dataframe tbody tr th {\n",
       "        vertical-align: top;\n",
       "    }\n",
       "\n",
       "    .dataframe thead th {\n",
       "        text-align: right;\n",
       "    }\n",
       "</style>\n",
       "<table border=\"1\" class=\"dataframe\">\n",
       "  <thead>\n",
       "    <tr style=\"text-align: right;\">\n",
       "      <th></th>\n",
       "      <th>이름</th>\n",
       "      <th>키</th>\n",
       "      <th>몸무게</th>\n",
       "      <th>포지션</th>\n",
       "      <th>실력</th>\n",
       "    </tr>\n",
       "  </thead>\n",
       "  <tbody>\n",
       "    <tr>\n",
       "      <th>0</th>\n",
       "      <td>싸이</td>\n",
       "      <td>180</td>\n",
       "      <td>75</td>\n",
       "      <td>포워드</td>\n",
       "      <td>잘함</td>\n",
       "    </tr>\n",
       "    <tr>\n",
       "      <th>1</th>\n",
       "      <td>덕구</td>\n",
       "      <td>160</td>\n",
       "      <td>65</td>\n",
       "      <td>미드필더</td>\n",
       "      <td>못함</td>\n",
       "    </tr>\n",
       "  </tbody>\n",
       "</table>\n",
       "</div>"
      ],
      "text/plain": [
       "   이름    키  몸무게   포지션  실력\n",
       "0  싸이  180   75   포워드  잘함\n",
       "1  덕구  160   65  미드필더  못함"
      ]
     },
     "execution_count": 51,
     "metadata": {},
     "output_type": "execute_result"
    }
   ],
   "source": [
    "test.drop_duplicates(['몸무게'])"
   ]
  },
  {
   "cell_type": "markdown",
   "id": "fb92a5d1",
   "metadata": {},
   "source": [
    "* 열 이름 변경"
   ]
  },
  {
   "cell_type": "code",
   "execution_count": 52,
   "id": "8fe0abe8",
   "metadata": {},
   "outputs": [
    {
     "data": {
      "text/html": [
       "<div>\n",
       "<style scoped>\n",
       "    .dataframe tbody tr th:only-of-type {\n",
       "        vertical-align: middle;\n",
       "    }\n",
       "\n",
       "    .dataframe tbody tr th {\n",
       "        vertical-align: top;\n",
       "    }\n",
       "\n",
       "    .dataframe thead th {\n",
       "        text-align: right;\n",
       "    }\n",
       "</style>\n",
       "<table border=\"1\" class=\"dataframe\">\n",
       "  <thead>\n",
       "    <tr style=\"text-align: right;\">\n",
       "      <th></th>\n",
       "      <th>이름</th>\n",
       "      <th>키</th>\n",
       "      <th>몸무게</th>\n",
       "      <th>포지션</th>\n",
       "      <th>연습</th>\n",
       "    </tr>\n",
       "  </thead>\n",
       "  <tbody>\n",
       "    <tr>\n",
       "      <th>0</th>\n",
       "      <td>싸이</td>\n",
       "      <td>180</td>\n",
       "      <td>75</td>\n",
       "      <td>포워드</td>\n",
       "      <td>잘함</td>\n",
       "    </tr>\n",
       "    <tr>\n",
       "      <th>1</th>\n",
       "      <td>덕구</td>\n",
       "      <td>160</td>\n",
       "      <td>65</td>\n",
       "      <td>미드필더</td>\n",
       "      <td>못함</td>\n",
       "    </tr>\n",
       "    <tr>\n",
       "      <th>2</th>\n",
       "      <td>또치</td>\n",
       "      <td>170</td>\n",
       "      <td>75</td>\n",
       "      <td>NaN</td>\n",
       "      <td>NaN</td>\n",
       "    </tr>\n",
       "  </tbody>\n",
       "</table>\n",
       "</div>"
      ],
      "text/plain": [
       "   이름    키  몸무게   포지션   연습\n",
       "0  싸이  180   75   포워드   잘함\n",
       "1  덕구  160   65  미드필더   못함\n",
       "2  또치  170   75   NaN  NaN"
      ]
     },
     "execution_count": 52,
     "metadata": {},
     "output_type": "execute_result"
    }
   ],
   "source": [
    "test.rename(columns={'실력':'연습'})"
   ]
  },
  {
   "cell_type": "markdown",
   "id": "4501f047",
   "metadata": {},
   "source": [
    "* 열 추가"
   ]
  },
  {
   "cell_type": "code",
   "execution_count": 18,
   "id": "202e051b",
   "metadata": {},
   "outputs": [
    {
     "data": {
      "text/html": [
       "<div>\n",
       "<style scoped>\n",
       "    .dataframe tbody tr th:only-of-type {\n",
       "        vertical-align: middle;\n",
       "    }\n",
       "\n",
       "    .dataframe tbody tr th {\n",
       "        vertical-align: top;\n",
       "    }\n",
       "\n",
       "    .dataframe thead th {\n",
       "        text-align: right;\n",
       "    }\n",
       "</style>\n",
       "<table border=\"1\" class=\"dataframe\">\n",
       "  <thead>\n",
       "    <tr style=\"text-align: right;\">\n",
       "      <th></th>\n",
       "      <th>이름</th>\n",
       "      <th>키</th>\n",
       "      <th>몸무게</th>\n",
       "      <th>포지션</th>\n",
       "      <th>실력</th>\n",
       "      <th>BMI</th>\n",
       "    </tr>\n",
       "  </thead>\n",
       "  <tbody>\n",
       "    <tr>\n",
       "      <th>0</th>\n",
       "      <td>싸이</td>\n",
       "      <td>180</td>\n",
       "      <td>75</td>\n",
       "      <td>포워드</td>\n",
       "      <td>잘함</td>\n",
       "      <td>23.148148</td>\n",
       "    </tr>\n",
       "    <tr>\n",
       "      <th>1</th>\n",
       "      <td>덕구</td>\n",
       "      <td>160</td>\n",
       "      <td>65</td>\n",
       "      <td>미드필더</td>\n",
       "      <td>못함</td>\n",
       "      <td>25.390625</td>\n",
       "    </tr>\n",
       "    <tr>\n",
       "      <th>2</th>\n",
       "      <td>또치</td>\n",
       "      <td>170</td>\n",
       "      <td>75</td>\n",
       "      <td>NaN</td>\n",
       "      <td>NaN</td>\n",
       "      <td>25.951557</td>\n",
       "    </tr>\n",
       "  </tbody>\n",
       "</table>\n",
       "</div>"
      ],
      "text/plain": [
       "   이름    키  몸무게   포지션   실력        BMI\n",
       "0  싸이  180   75   포워드   잘함  23.148148\n",
       "1  덕구  160   65  미드필더   못함  25.390625\n",
       "2  또치  170   75   NaN  NaN  25.951557"
      ]
     },
     "execution_count": 18,
     "metadata": {},
     "output_type": "execute_result"
    }
   ],
   "source": [
    "test['BMI'] = (test['몸무게'] / (test['키']/100)**2)\n",
    "test"
   ]
  },
  {
   "cell_type": "markdown",
   "id": "c0221e59",
   "metadata": {},
   "source": [
    "* 조건에 따른 열 추가"
   ]
  },
  {
   "cell_type": "code",
   "execution_count": 103,
   "id": "753cf0de",
   "metadata": {},
   "outputs": [
    {
     "data": {
      "text/html": [
       "<div>\n",
       "<style scoped>\n",
       "    .dataframe tbody tr th:only-of-type {\n",
       "        vertical-align: middle;\n",
       "    }\n",
       "\n",
       "    .dataframe tbody tr th {\n",
       "        vertical-align: top;\n",
       "    }\n",
       "\n",
       "    .dataframe thead th {\n",
       "        text-align: right;\n",
       "    }\n",
       "</style>\n",
       "<table border=\"1\" class=\"dataframe\">\n",
       "  <thead>\n",
       "    <tr style=\"text-align: right;\">\n",
       "      <th></th>\n",
       "      <th>이름</th>\n",
       "      <th>키</th>\n",
       "      <th>몸무게</th>\n",
       "      <th>포지션</th>\n",
       "      <th>실력</th>\n",
       "      <th>BMI</th>\n",
       "      <th>기준일자</th>\n",
       "    </tr>\n",
       "  </thead>\n",
       "  <tbody>\n",
       "    <tr>\n",
       "      <th>0</th>\n",
       "      <td>싸이</td>\n",
       "      <td>180</td>\n",
       "      <td>75</td>\n",
       "      <td>포워드</td>\n",
       "      <td>잘함</td>\n",
       "      <td>23.148148</td>\n",
       "      <td>2020-12-31</td>\n",
       "    </tr>\n",
       "    <tr>\n",
       "      <th>1</th>\n",
       "      <td>덕구</td>\n",
       "      <td>160</td>\n",
       "      <td>65</td>\n",
       "      <td>미드필더</td>\n",
       "      <td>못함</td>\n",
       "      <td>25.390625</td>\n",
       "      <td>2019-12-31</td>\n",
       "    </tr>\n",
       "    <tr>\n",
       "      <th>2</th>\n",
       "      <td>또치</td>\n",
       "      <td>170</td>\n",
       "      <td>75</td>\n",
       "      <td>NaN</td>\n",
       "      <td>NaN</td>\n",
       "      <td>25.951557</td>\n",
       "      <td>2019-12-31</td>\n",
       "    </tr>\n",
       "  </tbody>\n",
       "</table>\n",
       "</div>"
      ],
      "text/plain": [
       "   이름    키  몸무게   포지션   실력        BMI        기준일자\n",
       "0  싸이  180   75   포워드   잘함  23.148148  2020-12-31\n",
       "1  덕구  160   65  미드필더   못함  25.390625  2019-12-31\n",
       "2  또치  170   75   NaN  NaN  25.951557  2019-12-31"
      ]
     },
     "execution_count": 103,
     "metadata": {},
     "output_type": "execute_result"
    }
   ],
   "source": [
    "test['기준일자'] = [ '2020-12-31' if i == '잘함' else '2019-12-31' for i in test['실력']]\n",
    "test"
   ]
  },
  {
   "cell_type": "markdown",
   "id": "b49376dd",
   "metadata": {},
   "source": [
    "* 열 선택"
   ]
  },
  {
   "cell_type": "code",
   "execution_count": 104,
   "id": "1e510625",
   "metadata": {},
   "outputs": [
    {
     "data": {
      "text/html": [
       "<div>\n",
       "<style scoped>\n",
       "    .dataframe tbody tr th:only-of-type {\n",
       "        vertical-align: middle;\n",
       "    }\n",
       "\n",
       "    .dataframe tbody tr th {\n",
       "        vertical-align: top;\n",
       "    }\n",
       "\n",
       "    .dataframe thead th {\n",
       "        text-align: right;\n",
       "    }\n",
       "</style>\n",
       "<table border=\"1\" class=\"dataframe\">\n",
       "  <thead>\n",
       "    <tr style=\"text-align: right;\">\n",
       "      <th></th>\n",
       "      <th>이름</th>\n",
       "      <th>기준일자</th>\n",
       "    </tr>\n",
       "  </thead>\n",
       "  <tbody>\n",
       "    <tr>\n",
       "      <th>0</th>\n",
       "      <td>싸이</td>\n",
       "      <td>2020-12-31</td>\n",
       "    </tr>\n",
       "    <tr>\n",
       "      <th>1</th>\n",
       "      <td>덕구</td>\n",
       "      <td>2019-12-31</td>\n",
       "    </tr>\n",
       "    <tr>\n",
       "      <th>2</th>\n",
       "      <td>또치</td>\n",
       "      <td>2019-12-31</td>\n",
       "    </tr>\n",
       "  </tbody>\n",
       "</table>\n",
       "</div>"
      ],
      "text/plain": [
       "   이름        기준일자\n",
       "0  싸이  2020-12-31\n",
       "1  덕구  2019-12-31\n",
       "2  또치  2019-12-31"
      ]
     },
     "execution_count": 104,
     "metadata": {},
     "output_type": "execute_result"
    }
   ],
   "source": [
    "test[['이름','기준일자']]"
   ]
  },
  {
   "cell_type": "markdown",
   "id": "fdb424f8",
   "metadata": {},
   "source": [
    "* 열 삭제"
   ]
  },
  {
   "cell_type": "code",
   "execution_count": 105,
   "id": "c631b5cc",
   "metadata": {},
   "outputs": [
    {
     "data": {
      "text/html": [
       "<div>\n",
       "<style scoped>\n",
       "    .dataframe tbody tr th:only-of-type {\n",
       "        vertical-align: middle;\n",
       "    }\n",
       "\n",
       "    .dataframe tbody tr th {\n",
       "        vertical-align: top;\n",
       "    }\n",
       "\n",
       "    .dataframe thead th {\n",
       "        text-align: right;\n",
       "    }\n",
       "</style>\n",
       "<table border=\"1\" class=\"dataframe\">\n",
       "  <thead>\n",
       "    <tr style=\"text-align: right;\">\n",
       "      <th></th>\n",
       "      <th>이름</th>\n",
       "      <th>키</th>\n",
       "      <th>몸무게</th>\n",
       "      <th>포지션</th>\n",
       "      <th>실력</th>\n",
       "      <th>BMI</th>\n",
       "    </tr>\n",
       "  </thead>\n",
       "  <tbody>\n",
       "    <tr>\n",
       "      <th>0</th>\n",
       "      <td>싸이</td>\n",
       "      <td>180</td>\n",
       "      <td>75</td>\n",
       "      <td>포워드</td>\n",
       "      <td>잘함</td>\n",
       "      <td>23.148148</td>\n",
       "    </tr>\n",
       "    <tr>\n",
       "      <th>1</th>\n",
       "      <td>덕구</td>\n",
       "      <td>160</td>\n",
       "      <td>65</td>\n",
       "      <td>미드필더</td>\n",
       "      <td>못함</td>\n",
       "      <td>25.390625</td>\n",
       "    </tr>\n",
       "    <tr>\n",
       "      <th>2</th>\n",
       "      <td>또치</td>\n",
       "      <td>170</td>\n",
       "      <td>75</td>\n",
       "      <td>NaN</td>\n",
       "      <td>NaN</td>\n",
       "      <td>25.951557</td>\n",
       "    </tr>\n",
       "  </tbody>\n",
       "</table>\n",
       "</div>"
      ],
      "text/plain": [
       "   이름    키  몸무게   포지션   실력        BMI\n",
       "0  싸이  180   75   포워드   잘함  23.148148\n",
       "1  덕구  160   65  미드필더   못함  25.390625\n",
       "2  또치  170   75   NaN  NaN  25.951557"
      ]
     },
     "execution_count": 105,
     "metadata": {},
     "output_type": "execute_result"
    }
   ],
   "source": [
    "test.drop(['기준일자'],axis=1)"
   ]
  },
  {
   "cell_type": "markdown",
   "id": "a34d5ca5",
   "metadata": {},
   "source": [
    "* 그룹 변수(범주형 변수) 생성 "
   ]
  },
  {
   "cell_type": "code",
   "execution_count": 19,
   "id": "13603e30",
   "metadata": {},
   "outputs": [
    {
     "data": {
      "text/html": [
       "<div>\n",
       "<style scoped>\n",
       "    .dataframe tbody tr th:only-of-type {\n",
       "        vertical-align: middle;\n",
       "    }\n",
       "\n",
       "    .dataframe tbody tr th {\n",
       "        vertical-align: top;\n",
       "    }\n",
       "\n",
       "    .dataframe thead th {\n",
       "        text-align: right;\n",
       "    }\n",
       "</style>\n",
       "<table border=\"1\" class=\"dataframe\">\n",
       "  <thead>\n",
       "    <tr style=\"text-align: right;\">\n",
       "      <th></th>\n",
       "      <th>이름</th>\n",
       "      <th>키</th>\n",
       "      <th>몸무게</th>\n",
       "      <th>포지션</th>\n",
       "      <th>실력</th>\n",
       "      <th>BMI</th>\n",
       "      <th>BMI_판정</th>\n",
       "    </tr>\n",
       "  </thead>\n",
       "  <tbody>\n",
       "    <tr>\n",
       "      <th>0</th>\n",
       "      <td>싸이</td>\n",
       "      <td>180</td>\n",
       "      <td>75</td>\n",
       "      <td>포워드</td>\n",
       "      <td>잘함</td>\n",
       "      <td>23.148148</td>\n",
       "      <td>정상</td>\n",
       "    </tr>\n",
       "    <tr>\n",
       "      <th>1</th>\n",
       "      <td>덕구</td>\n",
       "      <td>160</td>\n",
       "      <td>65</td>\n",
       "      <td>미드필더</td>\n",
       "      <td>못함</td>\n",
       "      <td>25.390625</td>\n",
       "      <td>비만</td>\n",
       "    </tr>\n",
       "    <tr>\n",
       "      <th>2</th>\n",
       "      <td>또치</td>\n",
       "      <td>170</td>\n",
       "      <td>75</td>\n",
       "      <td>NaN</td>\n",
       "      <td>NaN</td>\n",
       "      <td>25.951557</td>\n",
       "      <td>비만</td>\n",
       "    </tr>\n",
       "  </tbody>\n",
       "</table>\n",
       "</div>"
      ],
      "text/plain": [
       "   이름    키  몸무게   포지션   실력        BMI BMI_판정\n",
       "0  싸이  180   75   포워드   잘함  23.148148     정상\n",
       "1  덕구  160   65  미드필더   못함  25.390625     비만\n",
       "2  또치  170   75   NaN  NaN  25.951557     비만"
      ]
     },
     "execution_count": 19,
     "metadata": {},
     "output_type": "execute_result"
    }
   ],
   "source": [
    "BMI_기준값 = [\n",
    "    (test['BMI'] < 20),\n",
    "    (test['BMI'] >= 20) & (test['BMI'] < 24),  # 괄호 안하면 에러 발생\n",
    "    (test['BMI'] >= 24)\n",
    "    ]\n",
    "\n",
    "BMI_그룹 =['저체중','정상','비만']\n",
    "test['BMI_판정'] = np.select(BMI_기준값, BMI_그룹)\n",
    "test"
   ]
  },
  {
   "cell_type": "markdown",
   "id": "2b08330a",
   "metadata": {},
   "source": [
    "4.3 문자열"
   ]
  },
  {
   "cell_type": "code",
   "execution_count": 106,
   "id": "98cdd160",
   "metadata": {},
   "outputs": [
    {
     "data": {
      "text/plain": [
       "True"
      ]
     },
     "execution_count": 106,
     "metadata": {},
     "output_type": "execute_result"
    }
   ],
   "source": [
    "from pandas.api.types import is_string_dtype\n",
    "is_string_dtype(test['기준일자'])"
   ]
  },
  {
   "cell_type": "markdown",
   "id": "e13f01f5",
   "metadata": {},
   "source": [
    "* 문자열 선택"
   ]
  },
  {
   "cell_type": "code",
   "execution_count": 109,
   "id": "db71d75c",
   "metadata": {},
   "outputs": [
    {
     "name": "stdout",
     "output_type": "stream",
     "text": [
      "True\n"
     ]
    },
    {
     "data": {
      "text/html": [
       "<div>\n",
       "<style scoped>\n",
       "    .dataframe tbody tr th:only-of-type {\n",
       "        vertical-align: middle;\n",
       "    }\n",
       "\n",
       "    .dataframe tbody tr th {\n",
       "        vertical-align: top;\n",
       "    }\n",
       "\n",
       "    .dataframe thead th {\n",
       "        text-align: right;\n",
       "    }\n",
       "</style>\n",
       "<table border=\"1\" class=\"dataframe\">\n",
       "  <thead>\n",
       "    <tr style=\"text-align: right;\">\n",
       "      <th></th>\n",
       "      <th>이름</th>\n",
       "      <th>키</th>\n",
       "      <th>몸무게</th>\n",
       "      <th>포지션</th>\n",
       "      <th>실력</th>\n",
       "      <th>BMI</th>\n",
       "      <th>기준일자</th>\n",
       "      <th>기준일자_d</th>\n",
       "      <th>기준년도</th>\n",
       "    </tr>\n",
       "  </thead>\n",
       "  <tbody>\n",
       "    <tr>\n",
       "      <th>0</th>\n",
       "      <td>싸이</td>\n",
       "      <td>180</td>\n",
       "      <td>75</td>\n",
       "      <td>포워드</td>\n",
       "      <td>잘함</td>\n",
       "      <td>23.148148</td>\n",
       "      <td>2020-12-31</td>\n",
       "      <td>2020-12-31</td>\n",
       "      <td>2020</td>\n",
       "    </tr>\n",
       "    <tr>\n",
       "      <th>1</th>\n",
       "      <td>덕구</td>\n",
       "      <td>160</td>\n",
       "      <td>65</td>\n",
       "      <td>미드필더</td>\n",
       "      <td>못함</td>\n",
       "      <td>25.390625</td>\n",
       "      <td>2019-12-31</td>\n",
       "      <td>2019-12-31</td>\n",
       "      <td>2019</td>\n",
       "    </tr>\n",
       "    <tr>\n",
       "      <th>2</th>\n",
       "      <td>또치</td>\n",
       "      <td>170</td>\n",
       "      <td>75</td>\n",
       "      <td>NaN</td>\n",
       "      <td>NaN</td>\n",
       "      <td>25.951557</td>\n",
       "      <td>2019-12-31</td>\n",
       "      <td>2019-12-31</td>\n",
       "      <td>2019</td>\n",
       "    </tr>\n",
       "  </tbody>\n",
       "</table>\n",
       "</div>"
      ],
      "text/plain": [
       "   이름    키  몸무게   포지션   실력        BMI        기준일자     기준일자_d  기준년도\n",
       "0  싸이  180   75   포워드   잘함  23.148148  2020-12-31 2020-12-31  2020\n",
       "1  덕구  160   65  미드필더   못함  25.390625  2019-12-31 2019-12-31  2019\n",
       "2  또치  170   75   NaN  NaN  25.951557  2019-12-31 2019-12-31  2019"
      ]
     },
     "execution_count": 109,
     "metadata": {},
     "output_type": "execute_result"
    }
   ],
   "source": [
    "test['기준년도'] = test['기준일자'].str[0:4]\n",
    "print(is_string_dtype(test['기준년도']))\n",
    "test"
   ]
  },
  {
   "cell_type": "markdown",
   "id": "8a6002bb",
   "metadata": {},
   "source": [
    "* 자료형 변환 (문자열 = > 숫자형)"
   ]
  },
  {
   "cell_type": "code",
   "execution_count": 110,
   "id": "7709c70c",
   "metadata": {},
   "outputs": [
    {
     "name": "stdout",
     "output_type": "stream",
     "text": [
      "False\n"
     ]
    },
    {
     "data": {
      "text/html": [
       "<div>\n",
       "<style scoped>\n",
       "    .dataframe tbody tr th:only-of-type {\n",
       "        vertical-align: middle;\n",
       "    }\n",
       "\n",
       "    .dataframe tbody tr th {\n",
       "        vertical-align: top;\n",
       "    }\n",
       "\n",
       "    .dataframe thead th {\n",
       "        text-align: right;\n",
       "    }\n",
       "</style>\n",
       "<table border=\"1\" class=\"dataframe\">\n",
       "  <thead>\n",
       "    <tr style=\"text-align: right;\">\n",
       "      <th></th>\n",
       "      <th>이름</th>\n",
       "      <th>키</th>\n",
       "      <th>몸무게</th>\n",
       "      <th>포지션</th>\n",
       "      <th>실력</th>\n",
       "      <th>BMI</th>\n",
       "      <th>기준일자</th>\n",
       "      <th>기준일자_d</th>\n",
       "      <th>기준년도</th>\n",
       "      <th>기준년도_n</th>\n",
       "    </tr>\n",
       "  </thead>\n",
       "  <tbody>\n",
       "    <tr>\n",
       "      <th>0</th>\n",
       "      <td>싸이</td>\n",
       "      <td>180</td>\n",
       "      <td>75</td>\n",
       "      <td>포워드</td>\n",
       "      <td>잘함</td>\n",
       "      <td>23.148148</td>\n",
       "      <td>2020-12-31</td>\n",
       "      <td>2020-12-31</td>\n",
       "      <td>2020</td>\n",
       "      <td>2020</td>\n",
       "    </tr>\n",
       "    <tr>\n",
       "      <th>1</th>\n",
       "      <td>덕구</td>\n",
       "      <td>160</td>\n",
       "      <td>65</td>\n",
       "      <td>미드필더</td>\n",
       "      <td>못함</td>\n",
       "      <td>25.390625</td>\n",
       "      <td>2019-12-31</td>\n",
       "      <td>2019-12-31</td>\n",
       "      <td>2019</td>\n",
       "      <td>2019</td>\n",
       "    </tr>\n",
       "    <tr>\n",
       "      <th>2</th>\n",
       "      <td>또치</td>\n",
       "      <td>170</td>\n",
       "      <td>75</td>\n",
       "      <td>NaN</td>\n",
       "      <td>NaN</td>\n",
       "      <td>25.951557</td>\n",
       "      <td>2019-12-31</td>\n",
       "      <td>2019-12-31</td>\n",
       "      <td>2019</td>\n",
       "      <td>2019</td>\n",
       "    </tr>\n",
       "  </tbody>\n",
       "</table>\n",
       "</div>"
      ],
      "text/plain": [
       "   이름    키  몸무게   포지션   실력        BMI        기준일자     기준일자_d  기준년도  기준년도_n\n",
       "0  싸이  180   75   포워드   잘함  23.148148  2020-12-31 2020-12-31  2020    2020\n",
       "1  덕구  160   65  미드필더   못함  25.390625  2019-12-31 2019-12-31  2019    2019\n",
       "2  또치  170   75   NaN  NaN  25.951557  2019-12-31 2019-12-31  2019    2019"
      ]
     },
     "execution_count": 110,
     "metadata": {},
     "output_type": "execute_result"
    }
   ],
   "source": [
    "test['기준년도_n'] = pd.to_numeric(test['기준년도'])\n",
    "print(is_string_dtype(test['기준년도_n']))\n",
    "test"
   ]
  },
  {
   "cell_type": "markdown",
   "id": "e8574a73",
   "metadata": {},
   "source": [
    "* 자료형 변환 (문자열 => 날짜형)"
   ]
  },
  {
   "cell_type": "code",
   "execution_count": 108,
   "id": "ac4b99db",
   "metadata": {},
   "outputs": [
    {
     "name": "stdout",
     "output_type": "stream",
     "text": [
      "False\n"
     ]
    },
    {
     "data": {
      "text/html": [
       "<div>\n",
       "<style scoped>\n",
       "    .dataframe tbody tr th:only-of-type {\n",
       "        vertical-align: middle;\n",
       "    }\n",
       "\n",
       "    .dataframe tbody tr th {\n",
       "        vertical-align: top;\n",
       "    }\n",
       "\n",
       "    .dataframe thead th {\n",
       "        text-align: right;\n",
       "    }\n",
       "</style>\n",
       "<table border=\"1\" class=\"dataframe\">\n",
       "  <thead>\n",
       "    <tr style=\"text-align: right;\">\n",
       "      <th></th>\n",
       "      <th>이름</th>\n",
       "      <th>키</th>\n",
       "      <th>몸무게</th>\n",
       "      <th>포지션</th>\n",
       "      <th>실력</th>\n",
       "      <th>BMI</th>\n",
       "      <th>기준일자</th>\n",
       "      <th>기준일자_d</th>\n",
       "    </tr>\n",
       "  </thead>\n",
       "  <tbody>\n",
       "    <tr>\n",
       "      <th>0</th>\n",
       "      <td>싸이</td>\n",
       "      <td>180</td>\n",
       "      <td>75</td>\n",
       "      <td>포워드</td>\n",
       "      <td>잘함</td>\n",
       "      <td>23.148148</td>\n",
       "      <td>2020-12-31</td>\n",
       "      <td>2020-12-31</td>\n",
       "    </tr>\n",
       "    <tr>\n",
       "      <th>1</th>\n",
       "      <td>덕구</td>\n",
       "      <td>160</td>\n",
       "      <td>65</td>\n",
       "      <td>미드필더</td>\n",
       "      <td>못함</td>\n",
       "      <td>25.390625</td>\n",
       "      <td>2019-12-31</td>\n",
       "      <td>2019-12-31</td>\n",
       "    </tr>\n",
       "    <tr>\n",
       "      <th>2</th>\n",
       "      <td>또치</td>\n",
       "      <td>170</td>\n",
       "      <td>75</td>\n",
       "      <td>NaN</td>\n",
       "      <td>NaN</td>\n",
       "      <td>25.951557</td>\n",
       "      <td>2019-12-31</td>\n",
       "      <td>2019-12-31</td>\n",
       "    </tr>\n",
       "  </tbody>\n",
       "</table>\n",
       "</div>"
      ],
      "text/plain": [
       "   이름    키  몸무게   포지션   실력        BMI        기준일자     기준일자_d\n",
       "0  싸이  180   75   포워드   잘함  23.148148  2020-12-31 2020-12-31\n",
       "1  덕구  160   65  미드필더   못함  25.390625  2019-12-31 2019-12-31\n",
       "2  또치  170   75   NaN  NaN  25.951557  2019-12-31 2019-12-31"
      ]
     },
     "execution_count": 108,
     "metadata": {},
     "output_type": "execute_result"
    }
   ],
   "source": [
    "test['기준일자_d']= pd.to_datetime(test['기준일자'])\n",
    "print(is_string_dtype(test['기준일자_d']))\n",
    "test"
   ]
  },
  {
   "cell_type": "code",
   "execution_count": null,
   "id": "f57f0b75",
   "metadata": {},
   "outputs": [],
   "source": []
  }
 ],
 "metadata": {
  "kernelspec": {
   "display_name": "Python 3",
   "language": "python",
   "name": "python3"
  },
  "language_info": {
   "codemirror_mode": {
    "name": "ipython",
    "version": 3
   },
   "file_extension": ".py",
   "mimetype": "text/x-python",
   "name": "python",
   "nbconvert_exporter": "python",
   "pygments_lexer": "ipython3",
   "version": "3.8.8"
  }
 },
 "nbformat": 4,
 "nbformat_minor": 5
}
