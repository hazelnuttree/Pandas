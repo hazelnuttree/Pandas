{
 "cells": [
  {
   "cell_type": "markdown",
   "id": "1b9ceab1",
   "metadata": {},
   "source": [
    "2.파이썬 기본문법"
   ]
  },
  {
   "cell_type": "code",
   "execution_count": 1,
   "id": "ec2a04cc",
   "metadata": {},
   "outputs": [],
   "source": [
    "# 환경설정\n",
    "import os\n",
    "import numpy as np\n",
    "import pandas as pd\n",
    "\n",
    "from pandas import Series, DataFrame\n",
    "from pandas.api.types import is_string_dtype\n",
    "from datetime import date"
   ]
  },
  {
   "cell_type": "markdown",
   "id": "abe1530d",
   "metadata": {},
   "source": [
    "2.1 연산자"
   ]
  },
  {
   "cell_type": "markdown",
   "id": "51ec0bff",
   "metadata": {},
   "source": [
    "2.1.1 연습문제1\n",
    " - 곱셈과 덧셈 연산 연습"
   ]
  },
  {
   "cell_type": "code",
   "execution_count": 1,
   "id": "b63b5795",
   "metadata": {},
   "outputs": [
    {
     "name": "stdout",
     "output_type": "stream",
     "text": [
      "\n"
     ]
    }
   ],
   "source": [
    "a = 3\n",
    "aa = ____\n",
    "aaa = ____\n",
    "aaaa = ____\n",
    "sum = a + aa + aaa + aaaa\n",
    "print(sum)"
   ]
  },
  {
   "cell_type": "code",
   "execution_count": 2,
   "id": "1d0e4f2c",
   "metadata": {
    "scrolled": true
   },
   "outputs": [
    {
     "name": "stdout",
     "output_type": "stream",
     "text": [
      "3333\n"
     ]
    }
   ],
   "source": [
    "a = 3\n",
    "aa = a *10\n",
    "aaa = a * 100\n",
    "aaaa = a * 1000\n",
    "sum = a + aa + aaa + aaaa\n",
    "print(sum)"
   ]
  },
  {
   "cell_type": "markdown",
   "id": "e290faa7",
   "metadata": {},
   "source": [
    "2.1.2 연습문제2\n",
    " - 나눗셈 연산 연습"
   ]
  },
  {
   "cell_type": "code",
   "execution_count": 2,
   "id": "7a614f83",
   "metadata": {},
   "outputs": [
    {
     "name": "stdout",
     "output_type": "stream",
     "text": [
      "\n"
     ]
    }
   ],
   "source": [
    "X = input(\"피젯수(dividend)를 입력하세요 : \")\n",
    "Y = input(\"나누어 주는 수(제수,divisor)를 입력하세요 : \")\n",
    "x = int(X)\n",
    "y = int(Y)\n",
    "q = ____\n",
    "r = ____\n",
    "print(f\" 몫은 {q} 이고, 나머지는 {r}입니다.\")"
   ]
  },
  {
   "cell_type": "code",
   "execution_count": 17,
   "id": "589c0565",
   "metadata": {},
   "outputs": [
    {
     "name": "stdout",
     "output_type": "stream",
     "text": [
      "피젯수(dividend)를 입력하세요 : 35\n",
      "나누어 주는 수(제수,divisor)를 입력하세요 : 4\n",
      " 몫은 8 이고, 나머지는 3입니다.\n"
     ]
    }
   ],
   "source": [
    "X = input(\"피젯수(dividend)를 입력하세요 : \")\n",
    "Y = input(\"나누어 주는 수(제수,divisor)를 입력하세요 : \")\n",
    "x = int(X)\n",
    "y = int(Y)\n",
    "q = x // y\n",
    "r = x % y\n",
    "print(f\" 몫은 {q} 이고, 나머지는 {r}입니다.\")"
   ]
  },
  {
   "cell_type": "markdown",
   "id": "ad872df5",
   "metadata": {},
   "source": [
    "2.2 조건문"
   ]
  },
  {
   "cell_type": "code",
   "execution_count": null,
   "id": "3d0da5ae",
   "metadata": {},
   "outputs": [],
   "source": [
    "2.2.1 연습문제1\n",
    " - 임의의 정수 입력하여 홀수와 짝수 구별"
   ]
  },
  {
   "cell_type": "code",
   "execution_count": null,
   "id": "3736f4f7",
   "metadata": {},
   "outputs": [],
   "source": [
    "a = input(\"임의의 정수 입력 : \") \n",
    "a = int(a)\n",
    "if ____ :\n",
    "    print(\"짝수입니다.\")\n",
    "else:\n",
    "    print(\"홀수입니다.\")   "
   ]
  },
  {
   "cell_type": "code",
   "execution_count": 18,
   "id": "a4b79743",
   "metadata": {
    "scrolled": true
   },
   "outputs": [
    {
     "name": "stdout",
     "output_type": "stream",
     "text": [
      "임의의 정수 입력 : 14\n",
      "짝수입니다.\n"
     ]
    }
   ],
   "source": [
    "a = input(\"임의의 정수 입력 : \") \n",
    "a = int(a)\n",
    "if a % 2 == 0:\n",
    "    print(\"짝수입니다.\")\n",
    "else:\n",
    "    print(\"홀수입니다.\")        "
   ]
  },
  {
   "cell_type": "markdown",
   "id": "ef03486f",
   "metadata": {},
   "source": [
    "2.2.2 연습문제2\n",
    " - 시험점수를 입력하여 학점 출력"
   ]
  },
  {
   "cell_type": "code",
   "execution_count": null,
   "id": "41bfd3e5",
   "metadata": {},
   "outputs": [],
   "source": [
    "score = input(\"시험점수 입력 : \")\n",
    "score = float(score)\n",
    "if ____ :\n",
    "    grade = \"A\"\n",
    "elif score >= 80:    \n",
    "    grade = \"B\"\n",
    "____:\n",
    "    grade = \"C\"\n",
    "____:\n",
    "    grade = \"D\"\n",
    "else :\n",
    "    grade = \"F\"\n",
    "print(f\"학점은 {grade} 입니다.\")  "
   ]
  },
  {
   "cell_type": "code",
   "execution_count": 19,
   "id": "ba70ddaa",
   "metadata": {},
   "outputs": [
    {
     "name": "stdout",
     "output_type": "stream",
     "text": [
      "시험점수 입력 : 84\n",
      "학점은 B 입니다.\n"
     ]
    }
   ],
   "source": [
    "score = input(\"시험점수 입력 : \")\n",
    "score = float(score)\n",
    "if score >= 90:\n",
    "    grade = \"A\"\n",
    "elif score >= 80:\n",
    "    grade = \"B\"\n",
    "elif score >= 70:\n",
    "    grade = \"C\"\n",
    "elif score >= 60:\n",
    "    grade = \"D\"\n",
    "else:\n",
    "    grade = \"F\"\n",
    "print(f\"학점은 {grade} 입니다.\")    "
   ]
  },
  {
   "cell_type": "markdown",
   "id": "a77f5f5f",
   "metadata": {},
   "source": [
    "2.3 반복문"
   ]
  },
  {
   "cell_type": "markdown",
   "id": "df7fe796",
   "metadata": {},
   "source": [
    "2.3.1 연습문제1\n",
    " - 구구단 출력"
   ]
  },
  {
   "cell_type": "code",
   "execution_count": null,
   "id": "f5127f18",
   "metadata": {},
   "outputs": [],
   "source": [
    "for i in range(2,10):\n",
    "    for ____:\n",
    "        print(f\"{i}*{j}={i*j}\")\n",
    "    print(\"********\")   "
   ]
  },
  {
   "cell_type": "code",
   "execution_count": 20,
   "id": "112f1faf",
   "metadata": {
    "collapsed": true
   },
   "outputs": [
    {
     "name": "stdout",
     "output_type": "stream",
     "text": [
      "2*1=2\n",
      "2*2=4\n",
      "2*3=6\n",
      "2*4=8\n",
      "2*5=10\n",
      "2*6=12\n",
      "2*7=14\n",
      "2*8=16\n",
      "2*9=18\n",
      "********\n",
      "3*1=3\n",
      "3*2=6\n",
      "3*3=9\n",
      "3*4=12\n",
      "3*5=15\n",
      "3*6=18\n",
      "3*7=21\n",
      "3*8=24\n",
      "3*9=27\n",
      "********\n",
      "4*1=4\n",
      "4*2=8\n",
      "4*3=12\n",
      "4*4=16\n",
      "4*5=20\n",
      "4*6=24\n",
      "4*7=28\n",
      "4*8=32\n",
      "4*9=36\n",
      "********\n",
      "5*1=5\n",
      "5*2=10\n",
      "5*3=15\n",
      "5*4=20\n",
      "5*5=25\n",
      "5*6=30\n",
      "5*7=35\n",
      "5*8=40\n",
      "5*9=45\n",
      "********\n",
      "6*1=6\n",
      "6*2=12\n",
      "6*3=18\n",
      "6*4=24\n",
      "6*5=30\n",
      "6*6=36\n",
      "6*7=42\n",
      "6*8=48\n",
      "6*9=54\n",
      "********\n",
      "7*1=7\n",
      "7*2=14\n",
      "7*3=21\n",
      "7*4=28\n",
      "7*5=35\n",
      "7*6=42\n",
      "7*7=49\n",
      "7*8=56\n",
      "7*9=63\n",
      "********\n",
      "8*1=8\n",
      "8*2=16\n",
      "8*3=24\n",
      "8*4=32\n",
      "8*5=40\n",
      "8*6=48\n",
      "8*7=56\n",
      "8*8=64\n",
      "8*9=72\n",
      "********\n",
      "9*1=9\n",
      "9*2=18\n",
      "9*3=27\n",
      "9*4=36\n",
      "9*5=45\n",
      "9*6=54\n",
      "9*7=63\n",
      "9*8=72\n",
      "9*9=81\n",
      "********\n"
     ]
    }
   ],
   "source": [
    "for i in range(2,10):\n",
    "    for j in range(1,10):\n",
    "        print(f\"{i}*{j}={i*j}\")\n",
    "    print(\"********\")   "
   ]
  },
  {
   "cell_type": "markdown",
   "id": "cf98ab48",
   "metadata": {},
   "source": [
    "2.3.2 연습문제2\n",
    " - 1부터 100 사이의 3의 배수 합계 출력"
   ]
  },
  {
   "cell_type": "code",
   "execution_count": null,
   "id": "eaeb23bd",
   "metadata": {},
   "outputs": [],
   "source": [
    "sum_three = 0\n",
    "for i in range(1,100+1):\n",
    "    if i % 3 == 0:\n",
    "        ____\n",
    "print(sum_three) "
   ]
  },
  {
   "cell_type": "code",
   "execution_count": 37,
   "id": "67864d46",
   "metadata": {},
   "outputs": [
    {
     "name": "stdout",
     "output_type": "stream",
     "text": [
      "18\n"
     ]
    }
   ],
   "source": [
    "sum_three = 0\n",
    "for i in range(1,100+1):\n",
    "    if i % 3 == 0:\n",
    "        sum_three += i\n",
    "print(sum_three)        "
   ]
  },
  {
   "cell_type": "markdown",
   "id": "183c40e4",
   "metadata": {},
   "source": [
    "2.3.2 연습문제3 (추가문제)\n",
    " - 구구단 중 홀수 단만 출력"
   ]
  },
  {
   "cell_type": "code",
   "execution_count": null,
   "id": "7eb12aae",
   "metadata": {},
   "outputs": [],
   "source": [
    "for i in range(2,10):\n",
    "    for ____:\n",
    "        if ____:\n",
    "            print(f\"{i}*{j}={i*j}\")        \n",
    "     if ____:            \n",
    "        print(\"********\") "
   ]
  },
  {
   "cell_type": "code",
   "execution_count": 3,
   "id": "6fd726ae",
   "metadata": {
    "collapsed": true
   },
   "outputs": [
    {
     "name": "stdout",
     "output_type": "stream",
     "text": [
      "3*1=3\n",
      "3*2=6\n",
      "3*3=9\n",
      "3*4=12\n",
      "3*5=15\n",
      "3*6=18\n",
      "3*7=21\n",
      "3*8=24\n",
      "3*9=27\n",
      "********\n",
      "5*1=5\n",
      "5*2=10\n",
      "5*3=15\n",
      "5*4=20\n",
      "5*5=25\n",
      "5*6=30\n",
      "5*7=35\n",
      "5*8=40\n",
      "5*9=45\n",
      "********\n",
      "7*1=7\n",
      "7*2=14\n",
      "7*3=21\n",
      "7*4=28\n",
      "7*5=35\n",
      "7*6=42\n",
      "7*7=49\n",
      "7*8=56\n",
      "7*9=63\n",
      "********\n",
      "9*1=9\n",
      "9*2=18\n",
      "9*3=27\n",
      "9*4=36\n",
      "9*5=45\n",
      "9*6=54\n",
      "9*7=63\n",
      "9*8=72\n",
      "9*9=81\n",
      "********\n"
     ]
    }
   ],
   "source": [
    "for i in range(2,10):\n",
    "    for j in range(1,10):\n",
    "        if i % 2 == 1:\n",
    "            print(f\"{i}*{j}={i*j}\")        \n",
    "    if i % 2 == 1:            \n",
    "        print(\"********\")     "
   ]
  },
  {
   "cell_type": "markdown",
   "id": "a1028f63",
   "metadata": {},
   "source": [
    "2.3.3 연습문제4 (추가문제)\n",
    " - 1부터 100까지 더한 후 그 결과값 출력"
   ]
  },
  {
   "cell_type": "code",
   "execution_count": 57,
   "id": "2f67ef18",
   "metadata": {},
   "outputs": [
    {
     "name": "stdout",
     "output_type": "stream",
     "text": [
      "5050\n"
     ]
    }
   ],
   "source": [
    "sum = 0\n",
    "for i in range(1,100+1):\n",
    "    ____\n",
    "print(sum)    "
   ]
  },
  {
   "cell_type": "code",
   "execution_count": 21,
   "id": "48d4a0bc",
   "metadata": {},
   "outputs": [
    {
     "name": "stdout",
     "output_type": "stream",
     "text": [
      "5050\n"
     ]
    }
   ],
   "source": [
    "sum = 0\n",
    "for i in range(1,100+1):\n",
    "    sum += i\n",
    "print(sum) "
   ]
  },
  {
   "cell_type": "markdown",
   "id": "e61e649a",
   "metadata": {},
   "source": [
    "2.4 함수"
   ]
  },
  {
   "cell_type": "markdown",
   "id": "021baf3c",
   "metadata": {},
   "source": [
    "2.4.1 연습문제1\n",
    " - 제곱함수 만들기"
   ]
  },
  {
   "cell_type": "code",
   "execution_count": null,
   "id": "ebd639fa",
   "metadata": {},
   "outputs": [],
   "source": [
    "def func_square(var):\n",
    "    square = ____\n",
    "    return square\n",
    "\n",
    "x = input(\"임의의 정수를 입력하세요\")\n",
    "x = int(x)\n",
    "square_x = func_square(____)\n",
    "print(f\"{x}의 제곱은 {square_x} 입니다.\")"
   ]
  },
  {
   "cell_type": "code",
   "execution_count": 22,
   "id": "3e68c7d1",
   "metadata": {},
   "outputs": [
    {
     "name": "stdout",
     "output_type": "stream",
     "text": [
      "임의의 정수를 입력하세요144\n",
      "144의 제곱은 20736 입니다.\n"
     ]
    }
   ],
   "source": [
    "def func_square(var):\n",
    "    square = var ** 2\n",
    "    return square\n",
    "x = input(\"임의의 정수를 입력하세요\")\n",
    "x = int(x)\n",
    "square_x = func_square(x)\n",
    "print(f\"{x}의 제곱은 {square_x} 입니다.\")"
   ]
  },
  {
   "cell_type": "markdown",
   "id": "551bbe33",
   "metadata": {},
   "source": [
    "2.4.2 연습문제2\n",
    " - 팩토리얼 함수 만들기"
   ]
  },
  {
   "cell_type": "code",
   "execution_count": null,
   "id": "07b15b5d",
   "metadata": {},
   "outputs": [],
   "source": [
    "def func_fatorial(var):\n",
    "    result = ____\n",
    "    for i in range(1, var+1):\n",
    "        result ____\n",
    "    return result\n",
    "\n",
    "x = int(input(\"세자리수 이내의 정수를 입력하세요\"))\n",
    "facto = func_fatorial(x)\n",
    "print(f\"{x}의 팩토리얼은 {facto}입니다.\")"
   ]
  },
  {
   "cell_type": "code",
   "execution_count": 23,
   "id": "b36fcb5d",
   "metadata": {},
   "outputs": [
    {
     "name": "stdout",
     "output_type": "stream",
     "text": [
      "세자리수 이내의 정수를 입력하세요154\n",
      "154의 팩토리얼은 30897696138473508879585646703632404659201907040888820477871589289865505687886666220300447285640952619071680544337494109264649994680187591361311072737951454695525676891035640863743200899694758450943586711068571022031011228320107310612480000000000000000000000000000000000000입니다.\n"
     ]
    }
   ],
   "source": [
    "def func_fatorial(var):\n",
    "    result = 1\n",
    "    for i in range(1, var+1):\n",
    "        result *= i\n",
    "    return result\n",
    "\n",
    "x = int(input(\"세자리수 이내의 정수를 입력하세요\"))\n",
    "facto = func_fatorial(x)\n",
    "print(f\"{x}의 팩토리얼은 {facto}입니다.\")"
   ]
  },
  {
   "cell_type": "markdown",
   "id": "3a2a4530",
   "metadata": {},
   "source": [
    "2단원 도전문제"
   ]
  },
  {
   "cell_type": "markdown",
   "id": "f2ff9eab",
   "metadata": {},
   "source": [
    "2단원 도전문제 1\n",
    " - 소수 판별기"
   ]
  },
  {
   "cell_type": "code",
   "execution_count": null,
   "id": "775aec65",
   "metadata": {},
   "outputs": [],
   "source": [
    "number = input(\"세자리 수 이내 숫자를 입력해 주세요 : \")\n",
    "number = int(number)\n",
    "prime_yn = 0\n",
    "for i in range(2,number):\n",
    "    if _____ :\n",
    "        prime_yn = 1\n",
    "if prime_yn == 1:\n",
    "    print(f\"{number}는 소수가 아닙니다.\")\n",
    "else:\n",
    "    print(f\"{number}는 소수입니다.\")"
   ]
  },
  {
   "cell_type": "code",
   "execution_count": 24,
   "id": "24a55682",
   "metadata": {},
   "outputs": [
    {
     "name": "stdout",
     "output_type": "stream",
     "text": [
      "세자리 수 이내 숫자를 입력해 주세요 : 14\n",
      "14는 소수가 아닙니다.\n"
     ]
    }
   ],
   "source": [
    "number = input(\"세자리 수 이내 숫자를 입력해 주세요 : \")\n",
    "number = int(number)\n",
    "prime_yn = 0\n",
    "for i in range(2,number):\n",
    "    if number % i == 0 :\n",
    "        prime_yn = 1\n",
    "if prime_yn == 1:\n",
    "    print(f\"{number}는 소수가 아닙니다.\")\n",
    "else:\n",
    "    print(f\"{number}는 소수입니다.\")"
   ]
  },
  {
   "cell_type": "markdown",
   "id": "280a3a4c",
   "metadata": {},
   "source": [
    "2단원 도전문제2\n",
    " - 함수를 이용한 소수 판별기 "
   ]
  },
  {
   "cell_type": "code",
   "execution_count": null,
   "id": "22ad5782",
   "metadata": {},
   "outputs": [],
   "source": [
    "# 주관식"
   ]
  },
  {
   "cell_type": "code",
   "execution_count": 26,
   "id": "af9c1541",
   "metadata": {},
   "outputs": [
    {
     "name": "stdout",
     "output_type": "stream",
     "text": [
      "세자리수 이내 숫자를 입력하세요 : 143\n",
      "143는 소수가 아닙니다.\n"
     ]
    }
   ],
   "source": [
    "def func_prime(number):\n",
    "    prime_yn = 0                \n",
    "    for i in range(2, number):\n",
    "        if number % i == 0:\n",
    "            prime_yn = 1\n",
    "    return prime_yn                \n",
    "\n",
    "x = int(input(\"세자리수 이내 숫자를 입력하세요 : \"))\n",
    "prime_x = func_prime(x)\n",
    "if prime_x == 1:\n",
    "    print(f\"{x}는 소수가 아닙니다.\")\n",
    "else :\n",
    "    print(f\"{x}는 소수입니다.\")"
   ]
  },
  {
   "cell_type": "markdown",
   "id": "09367614",
   "metadata": {},
   "source": [
    "2단원 도전문제3 (추가문제)\n",
    " - 세자리수 이내 숫자 입력\n",
    " - 소수 여부를 판별하고, 해당 인수를 리스트로 출력"
   ]
  },
  {
   "cell_type": "code",
   "execution_count": null,
   "id": "5cda8299",
   "metadata": {},
   "outputs": [],
   "source": [
    "number = input(\"세자리 수 이내 숫자를 입력해 주세요 : \")\n",
    "number = int(number)\n",
    "if ____ :\n",
    "    prime_yn = 0\n",
    "    list=[]\n",
    "    for ____:\n",
    "        if ____ :\n",
    "            prime_yn = 1\n",
    "            ____\n",
    "    if ____:\n",
    "        print(f\"{number}는 소수가 아닙니다.\")\n",
    "        print(f\"{number}의 인수는 {list} 입니다.\")\n",
    "    else:\n",
    "        print(f\"{number}는 소수입니다.\")\n",
    "else:\n",
    "    print(\"세자리수 이내의 자연수를 입력해 주세요\")"
   ]
  },
  {
   "cell_type": "code",
   "execution_count": 27,
   "id": "96ebf535",
   "metadata": {},
   "outputs": [
    {
     "name": "stdout",
     "output_type": "stream",
     "text": [
      "세자리 수 이내 숫자를 입력해 주세요 : 147\n",
      "147는 소수가 아닙니다.\n",
      "147의 인수는 [3, 7, 21, 49] 입니다.\n"
     ]
    }
   ],
   "source": [
    "number = input(\"세자리 수 이내 숫자를 입력해 주세요 : \")\n",
    "number = int(number)\n",
    "if (number > 0) & (number < 1000) :\n",
    "    prime_yn = 0\n",
    "    list=[]\n",
    "    for i in range(2,number):\n",
    "        if number % i == 0 :\n",
    "            prime_yn = 1\n",
    "            list.append(i)\n",
    "    if prime_yn == 1:\n",
    "        print(f\"{number}는 소수가 아닙니다.\")\n",
    "        print(f\"{number}의 인수는 {list} 입니다.\")\n",
    "    else:\n",
    "        print(f\"{number}는 소수입니다.\")\n",
    "else:\n",
    "    print(\"세자리수 이내의 자연수를 입력해 주세요\")"
   ]
  },
  {
   "cell_type": "markdown",
   "id": "33148c10",
   "metadata": {},
   "source": [
    "3. 파이썬 자료구조"
   ]
  },
  {
   "cell_type": "markdown",
   "id": "9402db46",
   "metadata": {},
   "source": [
    "3.2 List"
   ]
  },
  {
   "cell_type": "markdown",
   "id": "668758d4",
   "metadata": {},
   "source": [
    "3.2.1 연습문제1\n",
    " - 인덱싱"
   ]
  },
  {
   "cell_type": "markdown",
   "id": "48831889",
   "metadata": {},
   "source": [
    "a=[1,2,3,['a','b','c']] 에서 'a'를 선택하는 인덱싱 수행"
   ]
  },
  {
   "cell_type": "code",
   "execution_count": 1,
   "id": "cd5291c9",
   "metadata": {},
   "outputs": [
    {
     "data": {
      "text/plain": [
       "'a'"
      ]
     },
     "execution_count": 1,
     "metadata": {},
     "output_type": "execute_result"
    }
   ],
   "source": [
    "a=[1,2,3,['a','b','c']]\n",
    "a[-1][0]"
   ]
  },
  {
   "cell_type": "markdown",
   "id": "b25c336c",
   "metadata": {},
   "source": [
    "a = [1, 2, ['a', 'b', ['Life', 'is']]] 에서 'Life'를 선택하는 인덱싱 수행"
   ]
  },
  {
   "cell_type": "code",
   "execution_count": 2,
   "id": "3d5e916b",
   "metadata": {
    "scrolled": false
   },
   "outputs": [
    {
     "data": {
      "text/plain": [
       "'Life'"
      ]
     },
     "execution_count": 2,
     "metadata": {},
     "output_type": "execute_result"
    }
   ],
   "source": [
    "a = [1, 2, ['a', 'b', ['Life', 'is']]]\n",
    "a[2][2][0]"
   ]
  },
  {
   "cell_type": "markdown",
   "id": "cd1ad7b0",
   "metadata": {},
   "source": [
    "a = [1, 2, ['a', 'b', ['Life', 'is']]] 에서 \"b\" 를 선택하는 인덱싱 수행"
   ]
  },
  {
   "cell_type": "code",
   "execution_count": 3,
   "id": "72ef2404",
   "metadata": {
    "scrolled": true
   },
   "outputs": [
    {
     "data": {
      "text/plain": [
       "'b'"
      ]
     },
     "execution_count": 3,
     "metadata": {},
     "output_type": "execute_result"
    }
   ],
   "source": [
    "a = [1, 2, ['a', 'b', ['Life', 'is']]]\n",
    "a[2][1]"
   ]
  },
  {
   "cell_type": "markdown",
   "id": "aabf6cc6",
   "metadata": {},
   "source": [
    "3.2.2 연습문제2\n",
    " - 슬라이싱"
   ]
  },
  {
   "cell_type": "markdown",
   "id": "bf6fa9c8",
   "metadata": {},
   "source": [
    "a = [1, 2, 3, 4, 5] 에서 [1, 2] 를 선택하는 슬라이싱 수행"
   ]
  },
  {
   "cell_type": "code",
   "execution_count": 4,
   "id": "f90a1c0d",
   "metadata": {},
   "outputs": [
    {
     "data": {
      "text/plain": [
       "[1, 2]"
      ]
     },
     "execution_count": 4,
     "metadata": {},
     "output_type": "execute_result"
    }
   ],
   "source": [
    "a = [1, 2, 3, 4, 5]\n",
    "a[0:2]"
   ]
  },
  {
   "cell_type": "markdown",
   "id": "1cefa315",
   "metadata": {},
   "source": [
    "a = \"12345\"에서 '12' 를 선택하는 슬라이싱 수행"
   ]
  },
  {
   "cell_type": "code",
   "execution_count": 5,
   "id": "a42cb1b5",
   "metadata": {},
   "outputs": [
    {
     "data": {
      "text/plain": [
       "'12'"
      ]
     },
     "execution_count": 5,
     "metadata": {},
     "output_type": "execute_result"
    }
   ],
   "source": [
    "a = \"12345\"\n",
    "a[0:2]"
   ]
  },
  {
   "cell_type": "markdown",
   "id": "ea07ac44",
   "metadata": {},
   "source": [
    "a = [1, 2, 3, ['a', 'b', 'c'], 4, 5] 에서 [3, ['a', 'b', 'c'], 4] 를 선택하는 슬라이싱 수행"
   ]
  },
  {
   "cell_type": "code",
   "execution_count": 6,
   "id": "da79dde0",
   "metadata": {},
   "outputs": [
    {
     "data": {
      "text/plain": [
       "[3, ['a', 'b', 'c'], 4]"
      ]
     },
     "execution_count": 6,
     "metadata": {},
     "output_type": "execute_result"
    }
   ],
   "source": [
    "a = [1, 2, 3, ['a', 'b', 'c'], 4, 5]\n",
    "a[2:5]"
   ]
  },
  {
   "cell_type": "markdown",
   "id": "73789e58",
   "metadata": {},
   "source": [
    "a = [1, 2, 3, ['a', 'b', 'c'], 4, 5] 에서 ['a', 'b'] 를 선택하는 슬라이싱 수행"
   ]
  },
  {
   "cell_type": "code",
   "execution_count": 7,
   "id": "7bcb5563",
   "metadata": {},
   "outputs": [
    {
     "data": {
      "text/plain": [
       "['a', 'b']"
      ]
     },
     "execution_count": 7,
     "metadata": {},
     "output_type": "execute_result"
    }
   ],
   "source": [
    "a = [1, 2, 3, ['a', 'b', 'c'], 4, 5]\n",
    "a[3][:2]"
   ]
  },
  {
   "cell_type": "markdown",
   "id": "8ec18fcc",
   "metadata": {},
   "source": [
    "3.2.3 연습문제3\n",
    " - 임의의 정수에 대한 약수 리스트 출력"
   ]
  },
  {
   "cell_type": "code",
   "execution_count": null,
   "id": "d36f63f0",
   "metadata": {},
   "outputs": [],
   "source": [
    "x = int(input(\"임의의 정수를 입력하세요 : \"))\n",
    "list = []\n",
    "for i in range(2, x+1):\n",
    "    if x % i == 0:\n",
    "        ____\n",
    "print(f\"{x}의 약수는 {list} 입니다.\")  "
   ]
  },
  {
   "cell_type": "code",
   "execution_count": 28,
   "id": "5e368099",
   "metadata": {},
   "outputs": [
    {
     "name": "stdout",
     "output_type": "stream",
     "text": [
      "임의의 정수를 입력하세요 : 14\n",
      "14의 약수는 [2, 7, 14] 입니다.\n"
     ]
    }
   ],
   "source": [
    "x = int(input(\"임의의 정수를 입력하세요 : \"))\n",
    "list = []\n",
    "for i in range(2, x+1):\n",
    "    if x % i == 0:\n",
    "        list.append(i)\n",
    "print(f\"{x}의 약수는 {list} 입니다.\")        "
   ]
  },
  {
   "cell_type": "markdown",
   "id": "2cb78c67",
   "metadata": {},
   "source": [
    "3.2.4 연습문제4\n",
    " - 길이가 5인 문자열을 리스트로 출력"
   ]
  },
  {
   "cell_type": "code",
   "execution_count": null,
   "id": "f9f1dafe",
   "metadata": {},
   "outputs": [],
   "source": [
    "a = ['alpha', 'bravo', 'charlie', 'delta', 'echo', 'foxtrot', 'golf', 'hotel', 'india']\n",
    "list=[]\n",
    "for i in a:\n",
    "    if len(i) == 5:\n",
    "       ____\n",
    "    \n",
    "print(list)"
   ]
  },
  {
   "cell_type": "code",
   "execution_count": 29,
   "id": "855cedea",
   "metadata": {},
   "outputs": [
    {
     "name": "stdout",
     "output_type": "stream",
     "text": [
      "['alpha', 'bravo', 'delta', 'hotel', 'india']\n"
     ]
    }
   ],
   "source": [
    "a = ['alpha', 'bravo', 'charlie', 'delta', 'echo', 'foxtrot', 'golf', 'hotel', 'india']\n",
    "list=[]\n",
    "for i in a:\n",
    "    if len(i) == 5:\n",
    "       list.append(i) \n",
    "print(list)"
   ]
  },
  {
   "cell_type": "code",
   "execution_count": 30,
   "id": "10b28467",
   "metadata": {},
   "outputs": [
    {
     "data": {
      "text/plain": [
       "['alpha', 'bravo', 'delta', 'hotel', 'india']"
      ]
     },
     "execution_count": 30,
     "metadata": {},
     "output_type": "execute_result"
    }
   ],
   "source": [
    "a = ['alpha', 'bravo', 'charlie', 'delta', 'echo', 'foxtrot', 'golf', 'hotel', 'india']\n",
    "b = [i for i in a if len(i)==5]\n",
    "b"
   ]
  },
  {
   "cell_type": "markdown",
   "id": "d650eed7",
   "metadata": {},
   "source": [
    "2.4. Dictionary"
   ]
  },
  {
   "cell_type": "markdown",
   "id": "22d2785d",
   "metadata": {},
   "source": [
    "2.4.1 연습문제1\n",
    " - 직원명 입력 시 해당 부서 출력"
   ]
  },
  {
   "cell_type": "code",
   "execution_count": 4,
   "id": "b0433cc6",
   "metadata": {},
   "outputs": [
    {
     "data": {
      "text/plain": [
       "'종합기획부'"
      ]
     },
     "execution_count": 4,
     "metadata": {},
     "output_type": "execute_result"
    }
   ],
   "source": [
    "dict = {\"유성룡\":\"종합기획부\", \"이순신\":\"신용보증부\", \"권율\":\"인재개발부\", \"이항복\" : \"종합기획부\" }\n",
    "dict[____]"
   ]
  },
  {
   "cell_type": "markdown",
   "id": "7a9d7cfe",
   "metadata": {},
   "source": [
    "[참고] dict 구조"
   ]
  },
  {
   "cell_type": "code",
   "execution_count": 38,
   "id": "ebd77862",
   "metadata": {},
   "outputs": [
    {
     "data": {
      "text/plain": [
       "dict_keys(['유성룡', '이순신', '권율', '이항복'])"
      ]
     },
     "execution_count": 38,
     "metadata": {},
     "output_type": "execute_result"
    }
   ],
   "source": [
    "dict.keys()"
   ]
  },
  {
   "cell_type": "code",
   "execution_count": 39,
   "id": "cfc17fe9",
   "metadata": {},
   "outputs": [
    {
     "data": {
      "text/plain": [
       "dict_values(['종합기획부', '신용보증부', '인재개발부', '종합기획부'])"
      ]
     },
     "execution_count": 39,
     "metadata": {},
     "output_type": "execute_result"
    }
   ],
   "source": [
    "dict.values()"
   ]
  },
  {
   "cell_type": "code",
   "execution_count": 40,
   "id": "b991a268",
   "metadata": {},
   "outputs": [
    {
     "data": {
      "text/plain": [
       "dict_items([('유성룡', '종합기획부'), ('이순신', '신용보증부'), ('권율', '인재개발부'), ('이항복', '종합기획부')])"
      ]
     },
     "execution_count": 40,
     "metadata": {},
     "output_type": "execute_result"
    }
   ],
   "source": [
    "dict.items()"
   ]
  },
  {
   "cell_type": "markdown",
   "id": "9026e6a1",
   "metadata": {},
   "source": [
    "3단원 도전문제"
   ]
  },
  {
   "cell_type": "code",
   "execution_count": null,
   "id": "8a273bb7",
   "metadata": {},
   "outputs": [],
   "source": [
    "3단원 도전문제1\n",
    " - 부서명 입력 시 해당 직원명 출력"
   ]
  },
  {
   "cell_type": "code",
   "execution_count": null,
   "id": "cd6e2012",
   "metadata": {},
   "outputs": [],
   "source": [
    "dept_name = input(\"부서명 : \")\n",
    "for key, value in dict.items():\n",
    "    if ____:\n",
    "        print(key)  "
   ]
  },
  {
   "cell_type": "code",
   "execution_count": 41,
   "id": "9fb685c6",
   "metadata": {},
   "outputs": [
    {
     "name": "stdout",
     "output_type": "stream",
     "text": [
      "부서명 : 신용보증부\n",
      "이순신\n"
     ]
    }
   ],
   "source": [
    "dept_name = input(\"부서명 : \")\n",
    "for key, value in dict.items():\n",
    "    if value == dept_name:\n",
    "        print(key)        "
   ]
  },
  {
   "cell_type": "code",
   "execution_count": null,
   "id": "0d062018",
   "metadata": {},
   "outputs": [],
   "source": [
    "dept_name = input(\"부서명 : \")\n",
    "[ ____ for key, value in dict.items() if ____ ]"
   ]
  },
  {
   "cell_type": "code",
   "execution_count": 42,
   "id": "6a033690",
   "metadata": {},
   "outputs": [
    {
     "name": "stdout",
     "output_type": "stream",
     "text": [
      "부서명 : 신용보증부\n"
     ]
    },
    {
     "data": {
      "text/plain": [
       "['이순신']"
      ]
     },
     "execution_count": 42,
     "metadata": {},
     "output_type": "execute_result"
    }
   ],
   "source": [
    "dept_name = input(\"부서명 : \")\n",
    "[ key for key, value in dict.items() if value == dept_name]"
   ]
  },
  {
   "cell_type": "markdown",
   "id": "cf1130de",
   "metadata": {},
   "source": [
    "3단원 도전문제2\n",
    " - 리스트의 원소를 key로 하고 그 원소의 길이를 value 로 하는 dictionary 생성"
   ]
  },
  {
   "cell_type": "code",
   "execution_count": 100,
   "id": "1e3cb863",
   "metadata": {},
   "outputs": [
    {
     "data": {
      "text/plain": [
       "{'사과': 2, '배': 1, '바나나': 3}"
      ]
     },
     "execution_count": 100,
     "metadata": {},
     "output_type": "execute_result"
    }
   ],
   "source": [
    "list = ['사과', '배', '바나나']\n",
    "dict_list = {}\n",
    "for i in range(len(list)):\n",
    "    dict_list[list[i]] = ____\n",
    "dict_list   "
   ]
  },
  {
   "cell_type": "code",
   "execution_count": 43,
   "id": "08a248ae",
   "metadata": {},
   "outputs": [
    {
     "data": {
      "text/plain": [
       "{'사과': 2, '배': 1, '바나나': 3}"
      ]
     },
     "execution_count": 43,
     "metadata": {},
     "output_type": "execute_result"
    }
   ],
   "source": [
    "list = ['사과', '배', '바나나']\n",
    "dict_list = {}\n",
    "for i in range(len(list)):\n",
    "    dict_list[list[i]] = len(list[i])\n",
    "dict_list    "
   ]
  },
  {
   "cell_type": "markdown",
   "id": "0e0b3afc",
   "metadata": {},
   "source": [
    "4. 데이터분석 기본 명령어"
   ]
  },
  {
   "cell_type": "markdown",
   "id": "05f53357",
   "metadata": {},
   "source": [
    "4.1 데이터 셋"
   ]
  },
  {
   "cell_type": "markdown",
   "id": "3cb30371",
   "metadata": {},
   "source": [
    "* 연습문제 데이터 셋 불러오기"
   ]
  },
  {
   "cell_type": "code",
   "execution_count": 47,
   "id": "f1d0099b",
   "metadata": {},
   "outputs": [],
   "source": [
    "# 데이터 불러오기\n",
    "data_path='C:/Users/KODIT/downloads'\n",
    "\n",
    "df_a = pd.read_excel(data_path + '/실습데이터_보증_부실.xlsx', sheet_name = '보증')\n",
    "df_b = pd.read_excel(data_path + '/실습데이터_보증_부실.xlsx', sheet_name = '부실')"
   ]
  },
  {
   "cell_type": "code",
   "execution_count": 48,
   "id": "d00341b7",
   "metadata": {
    "scrolled": true
   },
   "outputs": [
    {
     "data": {
      "text/html": [
       "<div>\n",
       "<style scoped>\n",
       "    .dataframe tbody tr th:only-of-type {\n",
       "        vertical-align: middle;\n",
       "    }\n",
       "\n",
       "    .dataframe tbody tr th {\n",
       "        vertical-align: top;\n",
       "    }\n",
       "\n",
       "    .dataframe thead th {\n",
       "        text-align: right;\n",
       "    }\n",
       "</style>\n",
       "<table border=\"1\" class=\"dataframe\">\n",
       "  <thead>\n",
       "    <tr style=\"text-align: right;\">\n",
       "      <th></th>\n",
       "      <th>고객번호</th>\n",
       "      <th>보증취급일자</th>\n",
       "      <th>취급부점</th>\n",
       "      <th>업종코드</th>\n",
       "      <th>설립일자</th>\n",
       "      <th>종합신용등급</th>\n",
       "      <th>매출액</th>\n",
       "      <th>신규증액금액</th>\n",
       "    </tr>\n",
       "  </thead>\n",
       "  <tbody>\n",
       "    <tr>\n",
       "      <th>0</th>\n",
       "      <td>76691713</td>\n",
       "      <td>2019-01-02</td>\n",
       "      <td>동래</td>\n",
       "      <td>C32029</td>\n",
       "      <td>2016-09-19</td>\n",
       "      <td>KR9</td>\n",
       "      <td>348</td>\n",
       "      <td>90.0</td>\n",
       "    </tr>\n",
       "    <tr>\n",
       "      <th>1</th>\n",
       "      <td>76553566</td>\n",
       "      <td>2019-01-02</td>\n",
       "      <td>의정부</td>\n",
       "      <td>R91210</td>\n",
       "      <td>1990-01-05</td>\n",
       "      <td>KR9</td>\n",
       "      <td>868</td>\n",
       "      <td>5000.0</td>\n",
       "    </tr>\n",
       "    <tr>\n",
       "      <th>2</th>\n",
       "      <td>60895942</td>\n",
       "      <td>2019-01-02</td>\n",
       "      <td>김해</td>\n",
       "      <td>C20202</td>\n",
       "      <td>2005-01-17</td>\n",
       "      <td>KR7</td>\n",
       "      <td>1333</td>\n",
       "      <td>127.5</td>\n",
       "    </tr>\n",
       "  </tbody>\n",
       "</table>\n",
       "</div>"
      ],
      "text/plain": [
       "       고객번호      보증취급일자 취급부점    업종코드        설립일자 종합신용등급   매출액  신규증액금액\n",
       "0  76691713  2019-01-02   동래  C32029  2016-09-19    KR9   348    90.0\n",
       "1  76553566  2019-01-02  의정부  R91210  1990-01-05    KR9   868  5000.0\n",
       "2  60895942  2019-01-02   김해  C20202  2005-01-17    KR7  1333   127.5"
      ]
     },
     "execution_count": 48,
     "metadata": {},
     "output_type": "execute_result"
    }
   ],
   "source": [
    "df_a.head(3)"
   ]
  },
  {
   "cell_type": "code",
   "execution_count": 49,
   "id": "c7e06e85",
   "metadata": {},
   "outputs": [
    {
     "data": {
      "text/html": [
       "<div>\n",
       "<style scoped>\n",
       "    .dataframe tbody tr th:only-of-type {\n",
       "        vertical-align: middle;\n",
       "    }\n",
       "\n",
       "    .dataframe tbody tr th {\n",
       "        vertical-align: top;\n",
       "    }\n",
       "\n",
       "    .dataframe thead th {\n",
       "        text-align: right;\n",
       "    }\n",
       "</style>\n",
       "<table border=\"1\" class=\"dataframe\">\n",
       "  <thead>\n",
       "    <tr style=\"text-align: right;\">\n",
       "      <th></th>\n",
       "      <th>고객번호</th>\n",
       "      <th>부실발생일자</th>\n",
       "      <th>부실사유</th>\n",
       "    </tr>\n",
       "  </thead>\n",
       "  <tbody>\n",
       "    <tr>\n",
       "      <th>0</th>\n",
       "      <td>76691713</td>\n",
       "      <td>2020-01-17</td>\n",
       "      <td>이자연체</td>\n",
       "    </tr>\n",
       "    <tr>\n",
       "      <th>1</th>\n",
       "      <td>76683394</td>\n",
       "      <td>2020-09-10</td>\n",
       "      <td>국세체납</td>\n",
       "    </tr>\n",
       "    <tr>\n",
       "      <th>2</th>\n",
       "      <td>76684778</td>\n",
       "      <td>2020-02-22</td>\n",
       "      <td>원금연체</td>\n",
       "    </tr>\n",
       "    <tr>\n",
       "      <th>3</th>\n",
       "      <td>67812944</td>\n",
       "      <td>2020-06-03</td>\n",
       "      <td>이자연체</td>\n",
       "    </tr>\n",
       "    <tr>\n",
       "      <th>4</th>\n",
       "      <td>76387881</td>\n",
       "      <td>2020-07-01</td>\n",
       "      <td>이자연체</td>\n",
       "    </tr>\n",
       "  </tbody>\n",
       "</table>\n",
       "</div>"
      ],
      "text/plain": [
       "       고객번호     부실발생일자  부실사유\n",
       "0  76691713 2020-01-17  이자연체\n",
       "1  76683394 2020-09-10  국세체납\n",
       "2  76684778 2020-02-22  원금연체\n",
       "3  67812944 2020-06-03  이자연체\n",
       "4  76387881 2020-07-01  이자연체"
      ]
     },
     "execution_count": 49,
     "metadata": {},
     "output_type": "execute_result"
    }
   ],
   "source": [
    "df_b"
   ]
  },
  {
   "cell_type": "markdown",
   "id": "19e8f7ba",
   "metadata": {},
   "source": [
    "4.1.1 연습문제1\n",
    " - 데이터 병합"
   ]
  },
  {
   "cell_type": "code",
   "execution_count": null,
   "id": "f39aa8c4",
   "metadata": {},
   "outputs": [],
   "source": [
    "df = pd.____(df_a, df_b, how='____', on=\"____\")\n",
    "df.head(3)"
   ]
  },
  {
   "cell_type": "code",
   "execution_count": 50,
   "id": "ec884336",
   "metadata": {
    "scrolled": true
   },
   "outputs": [
    {
     "data": {
      "text/html": [
       "<div>\n",
       "<style scoped>\n",
       "    .dataframe tbody tr th:only-of-type {\n",
       "        vertical-align: middle;\n",
       "    }\n",
       "\n",
       "    .dataframe tbody tr th {\n",
       "        vertical-align: top;\n",
       "    }\n",
       "\n",
       "    .dataframe thead th {\n",
       "        text-align: right;\n",
       "    }\n",
       "</style>\n",
       "<table border=\"1\" class=\"dataframe\">\n",
       "  <thead>\n",
       "    <tr style=\"text-align: right;\">\n",
       "      <th></th>\n",
       "      <th>고객번호</th>\n",
       "      <th>보증취급일자</th>\n",
       "      <th>취급부점</th>\n",
       "      <th>업종코드</th>\n",
       "      <th>설립일자</th>\n",
       "      <th>종합신용등급</th>\n",
       "      <th>매출액</th>\n",
       "      <th>신규증액금액</th>\n",
       "      <th>부실발생일자</th>\n",
       "      <th>부실사유</th>\n",
       "    </tr>\n",
       "  </thead>\n",
       "  <tbody>\n",
       "    <tr>\n",
       "      <th>0</th>\n",
       "      <td>76691713</td>\n",
       "      <td>2019-01-02</td>\n",
       "      <td>동래</td>\n",
       "      <td>C32029</td>\n",
       "      <td>2016-09-19</td>\n",
       "      <td>KR9</td>\n",
       "      <td>348</td>\n",
       "      <td>90.0</td>\n",
       "      <td>2020-01-17</td>\n",
       "      <td>이자연체</td>\n",
       "    </tr>\n",
       "    <tr>\n",
       "      <th>1</th>\n",
       "      <td>76553566</td>\n",
       "      <td>2019-01-02</td>\n",
       "      <td>의정부</td>\n",
       "      <td>R91210</td>\n",
       "      <td>1990-01-05</td>\n",
       "      <td>KR9</td>\n",
       "      <td>868</td>\n",
       "      <td>5000.0</td>\n",
       "      <td>NaT</td>\n",
       "      <td>NaN</td>\n",
       "    </tr>\n",
       "    <tr>\n",
       "      <th>2</th>\n",
       "      <td>60895942</td>\n",
       "      <td>2019-01-02</td>\n",
       "      <td>김해</td>\n",
       "      <td>C20202</td>\n",
       "      <td>2005-01-17</td>\n",
       "      <td>KR7</td>\n",
       "      <td>1333</td>\n",
       "      <td>127.5</td>\n",
       "      <td>NaT</td>\n",
       "      <td>NaN</td>\n",
       "    </tr>\n",
       "  </tbody>\n",
       "</table>\n",
       "</div>"
      ],
      "text/plain": [
       "       고객번호      보증취급일자 취급부점    업종코드        설립일자 종합신용등급   매출액  신규증액금액  \\\n",
       "0  76691713  2019-01-02   동래  C32029  2016-09-19    KR9   348    90.0   \n",
       "1  76553566  2019-01-02  의정부  R91210  1990-01-05    KR9   868  5000.0   \n",
       "2  60895942  2019-01-02   김해  C20202  2005-01-17    KR7  1333   127.5   \n",
       "\n",
       "      부실발생일자  부실사유  \n",
       "0 2020-01-17  이자연체  \n",
       "1        NaT   NaN  \n",
       "2        NaT   NaN  "
      ]
     },
     "execution_count": 50,
     "metadata": {},
     "output_type": "execute_result"
    }
   ],
   "source": [
    "df = pd.merge(df_a, df_b, how='left', on=\"고객번호\")\n",
    "df.head(3)"
   ]
  },
  {
   "cell_type": "markdown",
   "id": "bd1a1bdf",
   "metadata": {},
   "source": [
    "4.1.2 연습문제2\n",
    " - 결측값 대체"
   ]
  },
  {
   "cell_type": "code",
   "execution_count": null,
   "id": "6e49171e",
   "metadata": {},
   "outputs": [],
   "source": [
    "df = df.____\n",
    "df.head(3)"
   ]
  },
  {
   "cell_type": "code",
   "execution_count": 51,
   "id": "e9f175be",
   "metadata": {},
   "outputs": [
    {
     "data": {
      "text/html": [
       "<div>\n",
       "<style scoped>\n",
       "    .dataframe tbody tr th:only-of-type {\n",
       "        vertical-align: middle;\n",
       "    }\n",
       "\n",
       "    .dataframe tbody tr th {\n",
       "        vertical-align: top;\n",
       "    }\n",
       "\n",
       "    .dataframe thead th {\n",
       "        text-align: right;\n",
       "    }\n",
       "</style>\n",
       "<table border=\"1\" class=\"dataframe\">\n",
       "  <thead>\n",
       "    <tr style=\"text-align: right;\">\n",
       "      <th></th>\n",
       "      <th>고객번호</th>\n",
       "      <th>보증취급일자</th>\n",
       "      <th>취급부점</th>\n",
       "      <th>업종코드</th>\n",
       "      <th>설립일자</th>\n",
       "      <th>종합신용등급</th>\n",
       "      <th>매출액</th>\n",
       "      <th>신규증액금액</th>\n",
       "      <th>부실발생일자</th>\n",
       "      <th>부실사유</th>\n",
       "    </tr>\n",
       "  </thead>\n",
       "  <tbody>\n",
       "    <tr>\n",
       "      <th>0</th>\n",
       "      <td>76691713</td>\n",
       "      <td>2019-01-02</td>\n",
       "      <td>동래</td>\n",
       "      <td>C32029</td>\n",
       "      <td>2016-09-19</td>\n",
       "      <td>KR9</td>\n",
       "      <td>348</td>\n",
       "      <td>90.0</td>\n",
       "      <td>2020-01-17 00:00:00</td>\n",
       "      <td>이자연체</td>\n",
       "    </tr>\n",
       "    <tr>\n",
       "      <th>1</th>\n",
       "      <td>76553566</td>\n",
       "      <td>2019-01-02</td>\n",
       "      <td>의정부</td>\n",
       "      <td>R91210</td>\n",
       "      <td>1990-01-05</td>\n",
       "      <td>KR9</td>\n",
       "      <td>868</td>\n",
       "      <td>5000.0</td>\n",
       "      <td>0</td>\n",
       "      <td>0</td>\n",
       "    </tr>\n",
       "    <tr>\n",
       "      <th>2</th>\n",
       "      <td>60895942</td>\n",
       "      <td>2019-01-02</td>\n",
       "      <td>김해</td>\n",
       "      <td>C20202</td>\n",
       "      <td>2005-01-17</td>\n",
       "      <td>KR7</td>\n",
       "      <td>1333</td>\n",
       "      <td>127.5</td>\n",
       "      <td>0</td>\n",
       "      <td>0</td>\n",
       "    </tr>\n",
       "  </tbody>\n",
       "</table>\n",
       "</div>"
      ],
      "text/plain": [
       "       고객번호      보증취급일자 취급부점    업종코드        설립일자 종합신용등급   매출액  신규증액금액  \\\n",
       "0  76691713  2019-01-02   동래  C32029  2016-09-19    KR9   348    90.0   \n",
       "1  76553566  2019-01-02  의정부  R91210  1990-01-05    KR9   868  5000.0   \n",
       "2  60895942  2019-01-02   김해  C20202  2005-01-17    KR7  1333   127.5   \n",
       "\n",
       "                부실발생일자  부실사유  \n",
       "0  2020-01-17 00:00:00  이자연체  \n",
       "1                    0     0  \n",
       "2                    0     0  "
      ]
     },
     "execution_count": 51,
     "metadata": {},
     "output_type": "execute_result"
    }
   ],
   "source": [
    "df = df.fillna(0)\n",
    "df.head(3)"
   ]
  },
  {
   "cell_type": "markdown",
   "id": "96d0fb6c",
   "metadata": {},
   "source": [
    "4.1.3 연습문제3\n",
    " - 정렬"
   ]
  },
  {
   "cell_type": "code",
   "execution_count": null,
   "id": "cd61fe9f",
   "metadata": {},
   "outputs": [],
   "source": [
    "df.sort_values(____)"
   ]
  },
  {
   "cell_type": "code",
   "execution_count": 52,
   "id": "bb89875d",
   "metadata": {},
   "outputs": [
    {
     "data": {
      "text/html": [
       "<div>\n",
       "<style scoped>\n",
       "    .dataframe tbody tr th:only-of-type {\n",
       "        vertical-align: middle;\n",
       "    }\n",
       "\n",
       "    .dataframe tbody tr th {\n",
       "        vertical-align: top;\n",
       "    }\n",
       "\n",
       "    .dataframe thead th {\n",
       "        text-align: right;\n",
       "    }\n",
       "</style>\n",
       "<table border=\"1\" class=\"dataframe\">\n",
       "  <thead>\n",
       "    <tr style=\"text-align: right;\">\n",
       "      <th></th>\n",
       "      <th>고객번호</th>\n",
       "      <th>보증취급일자</th>\n",
       "      <th>취급부점</th>\n",
       "      <th>업종코드</th>\n",
       "      <th>설립일자</th>\n",
       "      <th>종합신용등급</th>\n",
       "      <th>매출액</th>\n",
       "      <th>신규증액금액</th>\n",
       "      <th>부실발생일자</th>\n",
       "      <th>부실사유</th>\n",
       "    </tr>\n",
       "  </thead>\n",
       "  <tbody>\n",
       "    <tr>\n",
       "      <th>15</th>\n",
       "      <td>19474751</td>\n",
       "      <td>2019-01-02</td>\n",
       "      <td>김해북</td>\n",
       "      <td>G46105</td>\n",
       "      <td>1993-07-01</td>\n",
       "      <td>KR4</td>\n",
       "      <td>9921</td>\n",
       "      <td>450.00</td>\n",
       "      <td>0</td>\n",
       "      <td>0</td>\n",
       "    </tr>\n",
       "    <tr>\n",
       "      <th>2</th>\n",
       "      <td>60895942</td>\n",
       "      <td>2019-01-02</td>\n",
       "      <td>김해</td>\n",
       "      <td>C20202</td>\n",
       "      <td>2005-01-17</td>\n",
       "      <td>KR7</td>\n",
       "      <td>1333</td>\n",
       "      <td>127.50</td>\n",
       "      <td>0</td>\n",
       "      <td>0</td>\n",
       "    </tr>\n",
       "    <tr>\n",
       "      <th>14</th>\n",
       "      <td>61849366</td>\n",
       "      <td>2019-01-02</td>\n",
       "      <td>김해북</td>\n",
       "      <td>G47912</td>\n",
       "      <td>2002-07-01</td>\n",
       "      <td>KR9</td>\n",
       "      <td>873</td>\n",
       "      <td>108.00</td>\n",
       "      <td>0</td>\n",
       "      <td>0</td>\n",
       "    </tr>\n",
       "    <tr>\n",
       "      <th>7</th>\n",
       "      <td>62536077</td>\n",
       "      <td>2019-01-02</td>\n",
       "      <td>구미</td>\n",
       "      <td>G47711</td>\n",
       "      <td>2003-12-01</td>\n",
       "      <td>KR6</td>\n",
       "      <td>5571</td>\n",
       "      <td>120.00</td>\n",
       "      <td>0</td>\n",
       "      <td>0</td>\n",
       "    </tr>\n",
       "    <tr>\n",
       "      <th>8</th>\n",
       "      <td>67812944</td>\n",
       "      <td>2019-01-02</td>\n",
       "      <td>의정부</td>\n",
       "      <td>C30203</td>\n",
       "      <td>2006-02-22</td>\n",
       "      <td>KR8</td>\n",
       "      <td>1870</td>\n",
       "      <td>180.00</td>\n",
       "      <td>2020-06-03 00:00:00</td>\n",
       "      <td>이자연체</td>\n",
       "    </tr>\n",
       "    <tr>\n",
       "      <th>6</th>\n",
       "      <td>76012109</td>\n",
       "      <td>2019-01-02</td>\n",
       "      <td>김해</td>\n",
       "      <td>F42412</td>\n",
       "      <td>2011-09-20</td>\n",
       "      <td>KR10</td>\n",
       "      <td>596</td>\n",
       "      <td>297.50</td>\n",
       "      <td>0</td>\n",
       "      <td>0</td>\n",
       "    </tr>\n",
       "    <tr>\n",
       "      <th>11</th>\n",
       "      <td>76387881</td>\n",
       "      <td>2019-01-02</td>\n",
       "      <td>김해</td>\n",
       "      <td>C25923</td>\n",
       "      <td>2014-09-01</td>\n",
       "      <td>KR7</td>\n",
       "      <td>402</td>\n",
       "      <td>400.00</td>\n",
       "      <td>2020-07-01 00:00:00</td>\n",
       "      <td>이자연체</td>\n",
       "    </tr>\n",
       "    <tr>\n",
       "      <th>1</th>\n",
       "      <td>76553566</td>\n",
       "      <td>2019-01-02</td>\n",
       "      <td>의정부</td>\n",
       "      <td>R91210</td>\n",
       "      <td>1990-01-05</td>\n",
       "      <td>KR9</td>\n",
       "      <td>868</td>\n",
       "      <td>5000.00</td>\n",
       "      <td>0</td>\n",
       "      <td>0</td>\n",
       "    </tr>\n",
       "    <tr>\n",
       "      <th>10</th>\n",
       "      <td>76593297</td>\n",
       "      <td>2019-01-02</td>\n",
       "      <td>김해북</td>\n",
       "      <td>G47221</td>\n",
       "      <td>2003-11-01</td>\n",
       "      <td>KR7</td>\n",
       "      <td>1918</td>\n",
       "      <td>170.00</td>\n",
       "      <td>0</td>\n",
       "      <td>0</td>\n",
       "    </tr>\n",
       "    <tr>\n",
       "      <th>4</th>\n",
       "      <td>76649561</td>\n",
       "      <td>2019-01-02</td>\n",
       "      <td>동래</td>\n",
       "      <td>C23221</td>\n",
       "      <td>2015-09-10</td>\n",
       "      <td>KR2</td>\n",
       "      <td>312</td>\n",
       "      <td>45.00</td>\n",
       "      <td>0</td>\n",
       "      <td>0</td>\n",
       "    </tr>\n",
       "    <tr>\n",
       "      <th>9</th>\n",
       "      <td>76671581</td>\n",
       "      <td>2019-01-02</td>\n",
       "      <td>구미</td>\n",
       "      <td>C17212</td>\n",
       "      <td>2011-03-30</td>\n",
       "      <td>KR12</td>\n",
       "      <td>735</td>\n",
       "      <td>99.45</td>\n",
       "      <td>0</td>\n",
       "      <td>0</td>\n",
       "    </tr>\n",
       "    <tr>\n",
       "      <th>3</th>\n",
       "      <td>76683394</td>\n",
       "      <td>2019-01-02</td>\n",
       "      <td>의정부</td>\n",
       "      <td>G46103</td>\n",
       "      <td>2016-01-01</td>\n",
       "      <td>KR9</td>\n",
       "      <td>196</td>\n",
       "      <td>49.50</td>\n",
       "      <td>2020-09-10 00:00:00</td>\n",
       "      <td>국세체납</td>\n",
       "    </tr>\n",
       "    <tr>\n",
       "      <th>5</th>\n",
       "      <td>76684778</td>\n",
       "      <td>2019-01-02</td>\n",
       "      <td>의정부</td>\n",
       "      <td>G46102</td>\n",
       "      <td>2015-01-19</td>\n",
       "      <td>KR7</td>\n",
       "      <td>1011</td>\n",
       "      <td>108.00</td>\n",
       "      <td>2020-02-22 00:00:00</td>\n",
       "      <td>원금연체</td>\n",
       "    </tr>\n",
       "    <tr>\n",
       "      <th>13</th>\n",
       "      <td>76687077</td>\n",
       "      <td>2019-01-02</td>\n",
       "      <td>안동</td>\n",
       "      <td>I56123</td>\n",
       "      <td>2015-05-12</td>\n",
       "      <td>KR11</td>\n",
       "      <td>655</td>\n",
       "      <td>90.00</td>\n",
       "      <td>0</td>\n",
       "      <td>0</td>\n",
       "    </tr>\n",
       "    <tr>\n",
       "      <th>12</th>\n",
       "      <td>76687623</td>\n",
       "      <td>2019-01-02</td>\n",
       "      <td>안동</td>\n",
       "      <td>I56123</td>\n",
       "      <td>2017-06-03</td>\n",
       "      <td>KR11</td>\n",
       "      <td>2</td>\n",
       "      <td>90.00</td>\n",
       "      <td>0</td>\n",
       "      <td>0</td>\n",
       "    </tr>\n",
       "    <tr>\n",
       "      <th>0</th>\n",
       "      <td>76691713</td>\n",
       "      <td>2019-01-02</td>\n",
       "      <td>동래</td>\n",
       "      <td>C32029</td>\n",
       "      <td>2016-09-19</td>\n",
       "      <td>KR9</td>\n",
       "      <td>348</td>\n",
       "      <td>90.00</td>\n",
       "      <td>2020-01-17 00:00:00</td>\n",
       "      <td>이자연체</td>\n",
       "    </tr>\n",
       "  </tbody>\n",
       "</table>\n",
       "</div>"
      ],
      "text/plain": [
       "        고객번호      보증취급일자 취급부점    업종코드        설립일자 종합신용등급   매출액   신규증액금액  \\\n",
       "15  19474751  2019-01-02  김해북  G46105  1993-07-01    KR4  9921   450.00   \n",
       "2   60895942  2019-01-02   김해  C20202  2005-01-17    KR7  1333   127.50   \n",
       "14  61849366  2019-01-02  김해북  G47912  2002-07-01    KR9   873   108.00   \n",
       "7   62536077  2019-01-02   구미  G47711  2003-12-01    KR6  5571   120.00   \n",
       "8   67812944  2019-01-02  의정부  C30203  2006-02-22    KR8  1870   180.00   \n",
       "6   76012109  2019-01-02   김해  F42412  2011-09-20   KR10   596   297.50   \n",
       "11  76387881  2019-01-02   김해  C25923  2014-09-01    KR7   402   400.00   \n",
       "1   76553566  2019-01-02  의정부  R91210  1990-01-05    KR9   868  5000.00   \n",
       "10  76593297  2019-01-02  김해북  G47221  2003-11-01    KR7  1918   170.00   \n",
       "4   76649561  2019-01-02   동래  C23221  2015-09-10    KR2   312    45.00   \n",
       "9   76671581  2019-01-02   구미  C17212  2011-03-30   KR12   735    99.45   \n",
       "3   76683394  2019-01-02  의정부  G46103  2016-01-01    KR9   196    49.50   \n",
       "5   76684778  2019-01-02  의정부  G46102  2015-01-19    KR7  1011   108.00   \n",
       "13  76687077  2019-01-02   안동  I56123  2015-05-12   KR11   655    90.00   \n",
       "12  76687623  2019-01-02   안동  I56123  2017-06-03   KR11     2    90.00   \n",
       "0   76691713  2019-01-02   동래  C32029  2016-09-19    KR9   348    90.00   \n",
       "\n",
       "                 부실발생일자  부실사유  \n",
       "15                    0     0  \n",
       "2                     0     0  \n",
       "14                    0     0  \n",
       "7                     0     0  \n",
       "8   2020-06-03 00:00:00  이자연체  \n",
       "6                     0     0  \n",
       "11  2020-07-01 00:00:00  이자연체  \n",
       "1                     0     0  \n",
       "10                    0     0  \n",
       "4                     0     0  \n",
       "9                     0     0  \n",
       "3   2020-09-10 00:00:00  국세체납  \n",
       "5   2020-02-22 00:00:00  원금연체  \n",
       "13                    0     0  \n",
       "12                    0     0  \n",
       "0   2020-01-17 00:00:00  이자연체  "
      ]
     },
     "execution_count": 52,
     "metadata": {},
     "output_type": "execute_result"
    }
   ],
   "source": [
    "df.sort_values(['고객번호'])"
   ]
  },
  {
   "cell_type": "markdown",
   "id": "ed70786c",
   "metadata": {},
   "source": [
    "4.1.4 연습문제4\n",
    " - 피벗테이블"
   ]
  },
  {
   "cell_type": "code",
   "execution_count": null,
   "id": "270b61eb",
   "metadata": {},
   "outputs": [],
   "source": [
    "df_pivot = df.pivot_table( ____ = '취급부점', ____ = '신규증액금액', ____ = 'mean')"
   ]
  },
  {
   "cell_type": "code",
   "execution_count": 53,
   "id": "56ca38ea",
   "metadata": {},
   "outputs": [
    {
     "data": {
      "text/html": [
       "<div>\n",
       "<style scoped>\n",
       "    .dataframe tbody tr th:only-of-type {\n",
       "        vertical-align: middle;\n",
       "    }\n",
       "\n",
       "    .dataframe tbody tr th {\n",
       "        vertical-align: top;\n",
       "    }\n",
       "\n",
       "    .dataframe thead th {\n",
       "        text-align: right;\n",
       "    }\n",
       "</style>\n",
       "<table border=\"1\" class=\"dataframe\">\n",
       "  <thead>\n",
       "    <tr style=\"text-align: right;\">\n",
       "      <th></th>\n",
       "      <th>신규증액금액</th>\n",
       "    </tr>\n",
       "    <tr>\n",
       "      <th>취급부점</th>\n",
       "      <th></th>\n",
       "    </tr>\n",
       "  </thead>\n",
       "  <tbody>\n",
       "    <tr>\n",
       "      <th>구미</th>\n",
       "      <td>109.725000</td>\n",
       "    </tr>\n",
       "    <tr>\n",
       "      <th>김해</th>\n",
       "      <td>275.000000</td>\n",
       "    </tr>\n",
       "    <tr>\n",
       "      <th>김해북</th>\n",
       "      <td>242.666667</td>\n",
       "    </tr>\n",
       "    <tr>\n",
       "      <th>동래</th>\n",
       "      <td>67.500000</td>\n",
       "    </tr>\n",
       "    <tr>\n",
       "      <th>안동</th>\n",
       "      <td>90.000000</td>\n",
       "    </tr>\n",
       "    <tr>\n",
       "      <th>의정부</th>\n",
       "      <td>1334.375000</td>\n",
       "    </tr>\n",
       "  </tbody>\n",
       "</table>\n",
       "</div>"
      ],
      "text/plain": [
       "           신규증액금액\n",
       "취급부점             \n",
       "구미     109.725000\n",
       "김해     275.000000\n",
       "김해북    242.666667\n",
       "동래      67.500000\n",
       "안동      90.000000\n",
       "의정부   1334.375000"
      ]
     },
     "execution_count": 53,
     "metadata": {},
     "output_type": "execute_result"
    }
   ],
   "source": [
    "df_pivot = df.pivot_table(index='취급부점', values='신규증액금액', aggfunc='mean')\n",
    "df_pivot"
   ]
  },
  {
   "cell_type": "markdown",
   "id": "d746d31f",
   "metadata": {},
   "source": [
    "4.2 행/열"
   ]
  },
  {
   "cell_type": "markdown",
   "id": "8020b2ff",
   "metadata": {},
   "source": [
    "4.2.1 연습문제1\n",
    " - 조건에 맞는 행 선택"
   ]
  },
  {
   "cell_type": "code",
   "execution_count": null,
   "id": "a83c8718",
   "metadata": {},
   "outputs": [],
   "source": [
    "df[____ >= 100]"
   ]
  },
  {
   "cell_type": "code",
   "execution_count": 54,
   "id": "cac07c27",
   "metadata": {
    "scrolled": false
   },
   "outputs": [
    {
     "data": {
      "text/html": [
       "<div>\n",
       "<style scoped>\n",
       "    .dataframe tbody tr th:only-of-type {\n",
       "        vertical-align: middle;\n",
       "    }\n",
       "\n",
       "    .dataframe tbody tr th {\n",
       "        vertical-align: top;\n",
       "    }\n",
       "\n",
       "    .dataframe thead th {\n",
       "        text-align: right;\n",
       "    }\n",
       "</style>\n",
       "<table border=\"1\" class=\"dataframe\">\n",
       "  <thead>\n",
       "    <tr style=\"text-align: right;\">\n",
       "      <th></th>\n",
       "      <th>고객번호</th>\n",
       "      <th>보증취급일자</th>\n",
       "      <th>취급부점</th>\n",
       "      <th>업종코드</th>\n",
       "      <th>설립일자</th>\n",
       "      <th>종합신용등급</th>\n",
       "      <th>매출액</th>\n",
       "      <th>신규증액금액</th>\n",
       "      <th>부실발생일자</th>\n",
       "      <th>부실사유</th>\n",
       "    </tr>\n",
       "  </thead>\n",
       "  <tbody>\n",
       "    <tr>\n",
       "      <th>1</th>\n",
       "      <td>76553566</td>\n",
       "      <td>2019-01-02</td>\n",
       "      <td>의정부</td>\n",
       "      <td>R91210</td>\n",
       "      <td>1990-01-05</td>\n",
       "      <td>KR9</td>\n",
       "      <td>868</td>\n",
       "      <td>5000.0</td>\n",
       "      <td>0</td>\n",
       "      <td>0</td>\n",
       "    </tr>\n",
       "    <tr>\n",
       "      <th>2</th>\n",
       "      <td>60895942</td>\n",
       "      <td>2019-01-02</td>\n",
       "      <td>김해</td>\n",
       "      <td>C20202</td>\n",
       "      <td>2005-01-17</td>\n",
       "      <td>KR7</td>\n",
       "      <td>1333</td>\n",
       "      <td>127.5</td>\n",
       "      <td>0</td>\n",
       "      <td>0</td>\n",
       "    </tr>\n",
       "    <tr>\n",
       "      <th>5</th>\n",
       "      <td>76684778</td>\n",
       "      <td>2019-01-02</td>\n",
       "      <td>의정부</td>\n",
       "      <td>G46102</td>\n",
       "      <td>2015-01-19</td>\n",
       "      <td>KR7</td>\n",
       "      <td>1011</td>\n",
       "      <td>108.0</td>\n",
       "      <td>2020-02-22 00:00:00</td>\n",
       "      <td>원금연체</td>\n",
       "    </tr>\n",
       "    <tr>\n",
       "      <th>6</th>\n",
       "      <td>76012109</td>\n",
       "      <td>2019-01-02</td>\n",
       "      <td>김해</td>\n",
       "      <td>F42412</td>\n",
       "      <td>2011-09-20</td>\n",
       "      <td>KR10</td>\n",
       "      <td>596</td>\n",
       "      <td>297.5</td>\n",
       "      <td>0</td>\n",
       "      <td>0</td>\n",
       "    </tr>\n",
       "    <tr>\n",
       "      <th>7</th>\n",
       "      <td>62536077</td>\n",
       "      <td>2019-01-02</td>\n",
       "      <td>구미</td>\n",
       "      <td>G47711</td>\n",
       "      <td>2003-12-01</td>\n",
       "      <td>KR6</td>\n",
       "      <td>5571</td>\n",
       "      <td>120.0</td>\n",
       "      <td>0</td>\n",
       "      <td>0</td>\n",
       "    </tr>\n",
       "    <tr>\n",
       "      <th>8</th>\n",
       "      <td>67812944</td>\n",
       "      <td>2019-01-02</td>\n",
       "      <td>의정부</td>\n",
       "      <td>C30203</td>\n",
       "      <td>2006-02-22</td>\n",
       "      <td>KR8</td>\n",
       "      <td>1870</td>\n",
       "      <td>180.0</td>\n",
       "      <td>2020-06-03 00:00:00</td>\n",
       "      <td>이자연체</td>\n",
       "    </tr>\n",
       "    <tr>\n",
       "      <th>10</th>\n",
       "      <td>76593297</td>\n",
       "      <td>2019-01-02</td>\n",
       "      <td>김해북</td>\n",
       "      <td>G47221</td>\n",
       "      <td>2003-11-01</td>\n",
       "      <td>KR7</td>\n",
       "      <td>1918</td>\n",
       "      <td>170.0</td>\n",
       "      <td>0</td>\n",
       "      <td>0</td>\n",
       "    </tr>\n",
       "    <tr>\n",
       "      <th>11</th>\n",
       "      <td>76387881</td>\n",
       "      <td>2019-01-02</td>\n",
       "      <td>김해</td>\n",
       "      <td>C25923</td>\n",
       "      <td>2014-09-01</td>\n",
       "      <td>KR7</td>\n",
       "      <td>402</td>\n",
       "      <td>400.0</td>\n",
       "      <td>2020-07-01 00:00:00</td>\n",
       "      <td>이자연체</td>\n",
       "    </tr>\n",
       "    <tr>\n",
       "      <th>14</th>\n",
       "      <td>61849366</td>\n",
       "      <td>2019-01-02</td>\n",
       "      <td>김해북</td>\n",
       "      <td>G47912</td>\n",
       "      <td>2002-07-01</td>\n",
       "      <td>KR9</td>\n",
       "      <td>873</td>\n",
       "      <td>108.0</td>\n",
       "      <td>0</td>\n",
       "      <td>0</td>\n",
       "    </tr>\n",
       "    <tr>\n",
       "      <th>15</th>\n",
       "      <td>19474751</td>\n",
       "      <td>2019-01-02</td>\n",
       "      <td>김해북</td>\n",
       "      <td>G46105</td>\n",
       "      <td>1993-07-01</td>\n",
       "      <td>KR4</td>\n",
       "      <td>9921</td>\n",
       "      <td>450.0</td>\n",
       "      <td>0</td>\n",
       "      <td>0</td>\n",
       "    </tr>\n",
       "  </tbody>\n",
       "</table>\n",
       "</div>"
      ],
      "text/plain": [
       "        고객번호      보증취급일자 취급부점    업종코드        설립일자 종합신용등급   매출액  신규증액금액  \\\n",
       "1   76553566  2019-01-02  의정부  R91210  1990-01-05    KR9   868  5000.0   \n",
       "2   60895942  2019-01-02   김해  C20202  2005-01-17    KR7  1333   127.5   \n",
       "5   76684778  2019-01-02  의정부  G46102  2015-01-19    KR7  1011   108.0   \n",
       "6   76012109  2019-01-02   김해  F42412  2011-09-20   KR10   596   297.5   \n",
       "7   62536077  2019-01-02   구미  G47711  2003-12-01    KR6  5571   120.0   \n",
       "8   67812944  2019-01-02  의정부  C30203  2006-02-22    KR8  1870   180.0   \n",
       "10  76593297  2019-01-02  김해북  G47221  2003-11-01    KR7  1918   170.0   \n",
       "11  76387881  2019-01-02   김해  C25923  2014-09-01    KR7   402   400.0   \n",
       "14  61849366  2019-01-02  김해북  G47912  2002-07-01    KR9   873   108.0   \n",
       "15  19474751  2019-01-02  김해북  G46105  1993-07-01    KR4  9921   450.0   \n",
       "\n",
       "                 부실발생일자  부실사유  \n",
       "1                     0     0  \n",
       "2                     0     0  \n",
       "5   2020-02-22 00:00:00  원금연체  \n",
       "6                     0     0  \n",
       "7                     0     0  \n",
       "8   2020-06-03 00:00:00  이자연체  \n",
       "10                    0     0  \n",
       "11  2020-07-01 00:00:00  이자연체  \n",
       "14                    0     0  \n",
       "15                    0     0  "
      ]
     },
     "execution_count": 54,
     "metadata": {},
     "output_type": "execute_result"
    }
   ],
   "source": [
    "df[df['신규증액금액']>=100]"
   ]
  },
  {
   "cell_type": "markdown",
   "id": "19096816",
   "metadata": {},
   "source": [
    "4.2.2 연습문제2\n",
    " - 조건에 맞는 행 삭제"
   ]
  },
  {
   "cell_type": "code",
   "execution_count": null,
   "id": "0af2423a",
   "metadata": {},
   "outputs": [],
   "source": [
    "drop_list = df[____ == '의정부' ].index\n",
    "df.____(drop_list)"
   ]
  },
  {
   "cell_type": "code",
   "execution_count": 55,
   "id": "57d161dd",
   "metadata": {
    "scrolled": false
   },
   "outputs": [
    {
     "data": {
      "text/html": [
       "<div>\n",
       "<style scoped>\n",
       "    .dataframe tbody tr th:only-of-type {\n",
       "        vertical-align: middle;\n",
       "    }\n",
       "\n",
       "    .dataframe tbody tr th {\n",
       "        vertical-align: top;\n",
       "    }\n",
       "\n",
       "    .dataframe thead th {\n",
       "        text-align: right;\n",
       "    }\n",
       "</style>\n",
       "<table border=\"1\" class=\"dataframe\">\n",
       "  <thead>\n",
       "    <tr style=\"text-align: right;\">\n",
       "      <th></th>\n",
       "      <th>고객번호</th>\n",
       "      <th>보증취급일자</th>\n",
       "      <th>취급부점</th>\n",
       "      <th>업종코드</th>\n",
       "      <th>설립일자</th>\n",
       "      <th>종합신용등급</th>\n",
       "      <th>매출액</th>\n",
       "      <th>신규증액금액</th>\n",
       "      <th>부실발생일자</th>\n",
       "      <th>부실사유</th>\n",
       "    </tr>\n",
       "  </thead>\n",
       "  <tbody>\n",
       "    <tr>\n",
       "      <th>0</th>\n",
       "      <td>76691713</td>\n",
       "      <td>2019-01-02</td>\n",
       "      <td>동래</td>\n",
       "      <td>C32029</td>\n",
       "      <td>2016-09-19</td>\n",
       "      <td>KR9</td>\n",
       "      <td>348</td>\n",
       "      <td>90.00</td>\n",
       "      <td>2020-01-17 00:00:00</td>\n",
       "      <td>이자연체</td>\n",
       "    </tr>\n",
       "    <tr>\n",
       "      <th>2</th>\n",
       "      <td>60895942</td>\n",
       "      <td>2019-01-02</td>\n",
       "      <td>김해</td>\n",
       "      <td>C20202</td>\n",
       "      <td>2005-01-17</td>\n",
       "      <td>KR7</td>\n",
       "      <td>1333</td>\n",
       "      <td>127.50</td>\n",
       "      <td>0</td>\n",
       "      <td>0</td>\n",
       "    </tr>\n",
       "    <tr>\n",
       "      <th>4</th>\n",
       "      <td>76649561</td>\n",
       "      <td>2019-01-02</td>\n",
       "      <td>동래</td>\n",
       "      <td>C23221</td>\n",
       "      <td>2015-09-10</td>\n",
       "      <td>KR2</td>\n",
       "      <td>312</td>\n",
       "      <td>45.00</td>\n",
       "      <td>0</td>\n",
       "      <td>0</td>\n",
       "    </tr>\n",
       "    <tr>\n",
       "      <th>6</th>\n",
       "      <td>76012109</td>\n",
       "      <td>2019-01-02</td>\n",
       "      <td>김해</td>\n",
       "      <td>F42412</td>\n",
       "      <td>2011-09-20</td>\n",
       "      <td>KR10</td>\n",
       "      <td>596</td>\n",
       "      <td>297.50</td>\n",
       "      <td>0</td>\n",
       "      <td>0</td>\n",
       "    </tr>\n",
       "    <tr>\n",
       "      <th>7</th>\n",
       "      <td>62536077</td>\n",
       "      <td>2019-01-02</td>\n",
       "      <td>구미</td>\n",
       "      <td>G47711</td>\n",
       "      <td>2003-12-01</td>\n",
       "      <td>KR6</td>\n",
       "      <td>5571</td>\n",
       "      <td>120.00</td>\n",
       "      <td>0</td>\n",
       "      <td>0</td>\n",
       "    </tr>\n",
       "    <tr>\n",
       "      <th>9</th>\n",
       "      <td>76671581</td>\n",
       "      <td>2019-01-02</td>\n",
       "      <td>구미</td>\n",
       "      <td>C17212</td>\n",
       "      <td>2011-03-30</td>\n",
       "      <td>KR12</td>\n",
       "      <td>735</td>\n",
       "      <td>99.45</td>\n",
       "      <td>0</td>\n",
       "      <td>0</td>\n",
       "    </tr>\n",
       "    <tr>\n",
       "      <th>10</th>\n",
       "      <td>76593297</td>\n",
       "      <td>2019-01-02</td>\n",
       "      <td>김해북</td>\n",
       "      <td>G47221</td>\n",
       "      <td>2003-11-01</td>\n",
       "      <td>KR7</td>\n",
       "      <td>1918</td>\n",
       "      <td>170.00</td>\n",
       "      <td>0</td>\n",
       "      <td>0</td>\n",
       "    </tr>\n",
       "    <tr>\n",
       "      <th>11</th>\n",
       "      <td>76387881</td>\n",
       "      <td>2019-01-02</td>\n",
       "      <td>김해</td>\n",
       "      <td>C25923</td>\n",
       "      <td>2014-09-01</td>\n",
       "      <td>KR7</td>\n",
       "      <td>402</td>\n",
       "      <td>400.00</td>\n",
       "      <td>2020-07-01 00:00:00</td>\n",
       "      <td>이자연체</td>\n",
       "    </tr>\n",
       "    <tr>\n",
       "      <th>12</th>\n",
       "      <td>76687623</td>\n",
       "      <td>2019-01-02</td>\n",
       "      <td>안동</td>\n",
       "      <td>I56123</td>\n",
       "      <td>2017-06-03</td>\n",
       "      <td>KR11</td>\n",
       "      <td>2</td>\n",
       "      <td>90.00</td>\n",
       "      <td>0</td>\n",
       "      <td>0</td>\n",
       "    </tr>\n",
       "    <tr>\n",
       "      <th>13</th>\n",
       "      <td>76687077</td>\n",
       "      <td>2019-01-02</td>\n",
       "      <td>안동</td>\n",
       "      <td>I56123</td>\n",
       "      <td>2015-05-12</td>\n",
       "      <td>KR11</td>\n",
       "      <td>655</td>\n",
       "      <td>90.00</td>\n",
       "      <td>0</td>\n",
       "      <td>0</td>\n",
       "    </tr>\n",
       "    <tr>\n",
       "      <th>14</th>\n",
       "      <td>61849366</td>\n",
       "      <td>2019-01-02</td>\n",
       "      <td>김해북</td>\n",
       "      <td>G47912</td>\n",
       "      <td>2002-07-01</td>\n",
       "      <td>KR9</td>\n",
       "      <td>873</td>\n",
       "      <td>108.00</td>\n",
       "      <td>0</td>\n",
       "      <td>0</td>\n",
       "    </tr>\n",
       "    <tr>\n",
       "      <th>15</th>\n",
       "      <td>19474751</td>\n",
       "      <td>2019-01-02</td>\n",
       "      <td>김해북</td>\n",
       "      <td>G46105</td>\n",
       "      <td>1993-07-01</td>\n",
       "      <td>KR4</td>\n",
       "      <td>9921</td>\n",
       "      <td>450.00</td>\n",
       "      <td>0</td>\n",
       "      <td>0</td>\n",
       "    </tr>\n",
       "  </tbody>\n",
       "</table>\n",
       "</div>"
      ],
      "text/plain": [
       "        고객번호      보증취급일자 취급부점    업종코드        설립일자 종합신용등급   매출액  신규증액금액  \\\n",
       "0   76691713  2019-01-02   동래  C32029  2016-09-19    KR9   348   90.00   \n",
       "2   60895942  2019-01-02   김해  C20202  2005-01-17    KR7  1333  127.50   \n",
       "4   76649561  2019-01-02   동래  C23221  2015-09-10    KR2   312   45.00   \n",
       "6   76012109  2019-01-02   김해  F42412  2011-09-20   KR10   596  297.50   \n",
       "7   62536077  2019-01-02   구미  G47711  2003-12-01    KR6  5571  120.00   \n",
       "9   76671581  2019-01-02   구미  C17212  2011-03-30   KR12   735   99.45   \n",
       "10  76593297  2019-01-02  김해북  G47221  2003-11-01    KR7  1918  170.00   \n",
       "11  76387881  2019-01-02   김해  C25923  2014-09-01    KR7   402  400.00   \n",
       "12  76687623  2019-01-02   안동  I56123  2017-06-03   KR11     2   90.00   \n",
       "13  76687077  2019-01-02   안동  I56123  2015-05-12   KR11   655   90.00   \n",
       "14  61849366  2019-01-02  김해북  G47912  2002-07-01    KR9   873  108.00   \n",
       "15  19474751  2019-01-02  김해북  G46105  1993-07-01    KR4  9921  450.00   \n",
       "\n",
       "                 부실발생일자  부실사유  \n",
       "0   2020-01-17 00:00:00  이자연체  \n",
       "2                     0     0  \n",
       "4                     0     0  \n",
       "6                     0     0  \n",
       "7                     0     0  \n",
       "9                     0     0  \n",
       "10                    0     0  \n",
       "11  2020-07-01 00:00:00  이자연체  \n",
       "12                    0     0  \n",
       "13                    0     0  \n",
       "14                    0     0  \n",
       "15                    0     0  "
      ]
     },
     "execution_count": 55,
     "metadata": {},
     "output_type": "execute_result"
    }
   ],
   "source": [
    "drop_list = df[df['취급부점']=='의정부'].index\n",
    "df.drop(drop_list)"
   ]
  },
  {
   "cell_type": "markdown",
   "id": "e73cf779",
   "metadata": {},
   "source": [
    "4.2.3 연습문제3\n",
    " - 열 이름 변경"
   ]
  },
  {
   "cell_type": "code",
   "execution_count": null,
   "id": "0b6e3be7",
   "metadata": {},
   "outputs": [],
   "source": [
    "df = df.rename(____)\n",
    "df.head(3)"
   ]
  },
  {
   "cell_type": "code",
   "execution_count": 56,
   "id": "7d230a63",
   "metadata": {
    "scrolled": false
   },
   "outputs": [
    {
     "data": {
      "text/html": [
       "<div>\n",
       "<style scoped>\n",
       "    .dataframe tbody tr th:only-of-type {\n",
       "        vertical-align: middle;\n",
       "    }\n",
       "\n",
       "    .dataframe tbody tr th {\n",
       "        vertical-align: top;\n",
       "    }\n",
       "\n",
       "    .dataframe thead th {\n",
       "        text-align: right;\n",
       "    }\n",
       "</style>\n",
       "<table border=\"1\" class=\"dataframe\">\n",
       "  <thead>\n",
       "    <tr style=\"text-align: right;\">\n",
       "      <th></th>\n",
       "      <th>고객번호</th>\n",
       "      <th>보증취급일자</th>\n",
       "      <th>취급부점</th>\n",
       "      <th>업종코드</th>\n",
       "      <th>설립일자</th>\n",
       "      <th>신용평가등급</th>\n",
       "      <th>매출액</th>\n",
       "      <th>신규증액금액</th>\n",
       "      <th>부실발생일자</th>\n",
       "      <th>부실사유</th>\n",
       "    </tr>\n",
       "  </thead>\n",
       "  <tbody>\n",
       "    <tr>\n",
       "      <th>0</th>\n",
       "      <td>76691713</td>\n",
       "      <td>2019-01-02</td>\n",
       "      <td>동래</td>\n",
       "      <td>C32029</td>\n",
       "      <td>2016-09-19</td>\n",
       "      <td>KR9</td>\n",
       "      <td>348</td>\n",
       "      <td>90.0</td>\n",
       "      <td>2020-01-17 00:00:00</td>\n",
       "      <td>이자연체</td>\n",
       "    </tr>\n",
       "    <tr>\n",
       "      <th>1</th>\n",
       "      <td>76553566</td>\n",
       "      <td>2019-01-02</td>\n",
       "      <td>의정부</td>\n",
       "      <td>R91210</td>\n",
       "      <td>1990-01-05</td>\n",
       "      <td>KR9</td>\n",
       "      <td>868</td>\n",
       "      <td>5000.0</td>\n",
       "      <td>0</td>\n",
       "      <td>0</td>\n",
       "    </tr>\n",
       "    <tr>\n",
       "      <th>2</th>\n",
       "      <td>60895942</td>\n",
       "      <td>2019-01-02</td>\n",
       "      <td>김해</td>\n",
       "      <td>C20202</td>\n",
       "      <td>2005-01-17</td>\n",
       "      <td>KR7</td>\n",
       "      <td>1333</td>\n",
       "      <td>127.5</td>\n",
       "      <td>0</td>\n",
       "      <td>0</td>\n",
       "    </tr>\n",
       "  </tbody>\n",
       "</table>\n",
       "</div>"
      ],
      "text/plain": [
       "       고객번호      보증취급일자 취급부점    업종코드        설립일자 신용평가등급   매출액  신규증액금액  \\\n",
       "0  76691713  2019-01-02   동래  C32029  2016-09-19    KR9   348    90.0   \n",
       "1  76553566  2019-01-02  의정부  R91210  1990-01-05    KR9   868  5000.0   \n",
       "2  60895942  2019-01-02   김해  C20202  2005-01-17    KR7  1333   127.5   \n",
       "\n",
       "                부실발생일자  부실사유  \n",
       "0  2020-01-17 00:00:00  이자연체  \n",
       "1                    0     0  \n",
       "2                    0     0  "
      ]
     },
     "execution_count": 56,
     "metadata": {},
     "output_type": "execute_result"
    }
   ],
   "source": [
    "df = df.rename(columns={'종합신용등급':'신용평가등급'})\n",
    "df.head(3)"
   ]
  },
  {
   "cell_type": "markdown",
   "id": "ef89dbfb",
   "metadata": {},
   "source": [
    "4.2.4 연습문제4\n",
    " - 신규 변수 생성"
   ]
  },
  {
   "cell_type": "code",
   "execution_count": null,
   "id": "7b68003d",
   "metadata": {},
   "outputs": [],
   "source": [
    "df['한도여유액'] = ____\n",
    "df.head(3)"
   ]
  },
  {
   "cell_type": "code",
   "execution_count": 58,
   "id": "f76598b0",
   "metadata": {
    "scrolled": true
   },
   "outputs": [
    {
     "data": {
      "text/html": [
       "<div>\n",
       "<style scoped>\n",
       "    .dataframe tbody tr th:only-of-type {\n",
       "        vertical-align: middle;\n",
       "    }\n",
       "\n",
       "    .dataframe tbody tr th {\n",
       "        vertical-align: top;\n",
       "    }\n",
       "\n",
       "    .dataframe thead th {\n",
       "        text-align: right;\n",
       "    }\n",
       "</style>\n",
       "<table border=\"1\" class=\"dataframe\">\n",
       "  <thead>\n",
       "    <tr style=\"text-align: right;\">\n",
       "      <th></th>\n",
       "      <th>고객번호</th>\n",
       "      <th>보증취급일자</th>\n",
       "      <th>취급부점</th>\n",
       "      <th>업종코드</th>\n",
       "      <th>설립일자</th>\n",
       "      <th>신용평가등급</th>\n",
       "      <th>매출액</th>\n",
       "      <th>신규증액금액</th>\n",
       "      <th>부실발생일자</th>\n",
       "      <th>부실사유</th>\n",
       "      <th>한도여유액</th>\n",
       "    </tr>\n",
       "  </thead>\n",
       "  <tbody>\n",
       "    <tr>\n",
       "      <th>0</th>\n",
       "      <td>76691713</td>\n",
       "      <td>2019-01-02</td>\n",
       "      <td>동래</td>\n",
       "      <td>C32029</td>\n",
       "      <td>2016-09-19</td>\n",
       "      <td>KR9</td>\n",
       "      <td>348</td>\n",
       "      <td>90.0</td>\n",
       "      <td>2020-01-17 00:00:00</td>\n",
       "      <td>이자연체</td>\n",
       "      <td>-3.00</td>\n",
       "    </tr>\n",
       "    <tr>\n",
       "      <th>1</th>\n",
       "      <td>76553566</td>\n",
       "      <td>2019-01-02</td>\n",
       "      <td>의정부</td>\n",
       "      <td>R91210</td>\n",
       "      <td>1990-01-05</td>\n",
       "      <td>KR9</td>\n",
       "      <td>868</td>\n",
       "      <td>5000.0</td>\n",
       "      <td>0</td>\n",
       "      <td>0</td>\n",
       "      <td>-4783.00</td>\n",
       "    </tr>\n",
       "    <tr>\n",
       "      <th>2</th>\n",
       "      <td>60895942</td>\n",
       "      <td>2019-01-02</td>\n",
       "      <td>김해</td>\n",
       "      <td>C20202</td>\n",
       "      <td>2005-01-17</td>\n",
       "      <td>KR7</td>\n",
       "      <td>1333</td>\n",
       "      <td>127.5</td>\n",
       "      <td>0</td>\n",
       "      <td>0</td>\n",
       "      <td>205.75</td>\n",
       "    </tr>\n",
       "  </tbody>\n",
       "</table>\n",
       "</div>"
      ],
      "text/plain": [
       "       고객번호      보증취급일자 취급부점    업종코드        설립일자 신용평가등급   매출액  신규증액금액  \\\n",
       "0  76691713  2019-01-02   동래  C32029  2016-09-19    KR9   348    90.0   \n",
       "1  76553566  2019-01-02  의정부  R91210  1990-01-05    KR9   868  5000.0   \n",
       "2  60895942  2019-01-02   김해  C20202  2005-01-17    KR7  1333   127.5   \n",
       "\n",
       "                부실발생일자  부실사유    한도여유액  \n",
       "0  2020-01-17 00:00:00  이자연체    -3.00  \n",
       "1                    0     0 -4783.00  \n",
       "2                    0     0   205.75  "
      ]
     },
     "execution_count": 58,
     "metadata": {},
     "output_type": "execute_result"
    }
   ],
   "source": [
    "df['한도여유액'] = df['매출액']/4 -  df['신규증액금액']\n",
    "df.head(3)"
   ]
  },
  {
   "cell_type": "markdown",
   "id": "dae84eda",
   "metadata": {},
   "source": [
    "4.2.5 연습문제5\n",
    " - 특정 열 선택"
   ]
  },
  {
   "cell_type": "code",
   "execution_count": null,
   "id": "e0d5540f",
   "metadata": {},
   "outputs": [],
   "source": [
    "df[____]"
   ]
  },
  {
   "cell_type": "code",
   "execution_count": 59,
   "id": "8a746aeb",
   "metadata": {},
   "outputs": [
    {
     "data": {
      "text/html": [
       "<div>\n",
       "<style scoped>\n",
       "    .dataframe tbody tr th:only-of-type {\n",
       "        vertical-align: middle;\n",
       "    }\n",
       "\n",
       "    .dataframe tbody tr th {\n",
       "        vertical-align: top;\n",
       "    }\n",
       "\n",
       "    .dataframe thead th {\n",
       "        text-align: right;\n",
       "    }\n",
       "</style>\n",
       "<table border=\"1\" class=\"dataframe\">\n",
       "  <thead>\n",
       "    <tr style=\"text-align: right;\">\n",
       "      <th></th>\n",
       "      <th>고객번호</th>\n",
       "      <th>설립일자</th>\n",
       "      <th>보증취급일자</th>\n",
       "    </tr>\n",
       "  </thead>\n",
       "  <tbody>\n",
       "    <tr>\n",
       "      <th>0</th>\n",
       "      <td>76691713</td>\n",
       "      <td>2016-09-19</td>\n",
       "      <td>2019-01-02</td>\n",
       "    </tr>\n",
       "    <tr>\n",
       "      <th>1</th>\n",
       "      <td>76553566</td>\n",
       "      <td>1990-01-05</td>\n",
       "      <td>2019-01-02</td>\n",
       "    </tr>\n",
       "    <tr>\n",
       "      <th>2</th>\n",
       "      <td>60895942</td>\n",
       "      <td>2005-01-17</td>\n",
       "      <td>2019-01-02</td>\n",
       "    </tr>\n",
       "    <tr>\n",
       "      <th>3</th>\n",
       "      <td>76683394</td>\n",
       "      <td>2016-01-01</td>\n",
       "      <td>2019-01-02</td>\n",
       "    </tr>\n",
       "    <tr>\n",
       "      <th>4</th>\n",
       "      <td>76649561</td>\n",
       "      <td>2015-09-10</td>\n",
       "      <td>2019-01-02</td>\n",
       "    </tr>\n",
       "    <tr>\n",
       "      <th>5</th>\n",
       "      <td>76684778</td>\n",
       "      <td>2015-01-19</td>\n",
       "      <td>2019-01-02</td>\n",
       "    </tr>\n",
       "    <tr>\n",
       "      <th>6</th>\n",
       "      <td>76012109</td>\n",
       "      <td>2011-09-20</td>\n",
       "      <td>2019-01-02</td>\n",
       "    </tr>\n",
       "    <tr>\n",
       "      <th>7</th>\n",
       "      <td>62536077</td>\n",
       "      <td>2003-12-01</td>\n",
       "      <td>2019-01-02</td>\n",
       "    </tr>\n",
       "    <tr>\n",
       "      <th>8</th>\n",
       "      <td>67812944</td>\n",
       "      <td>2006-02-22</td>\n",
       "      <td>2019-01-02</td>\n",
       "    </tr>\n",
       "    <tr>\n",
       "      <th>9</th>\n",
       "      <td>76671581</td>\n",
       "      <td>2011-03-30</td>\n",
       "      <td>2019-01-02</td>\n",
       "    </tr>\n",
       "    <tr>\n",
       "      <th>10</th>\n",
       "      <td>76593297</td>\n",
       "      <td>2003-11-01</td>\n",
       "      <td>2019-01-02</td>\n",
       "    </tr>\n",
       "    <tr>\n",
       "      <th>11</th>\n",
       "      <td>76387881</td>\n",
       "      <td>2014-09-01</td>\n",
       "      <td>2019-01-02</td>\n",
       "    </tr>\n",
       "    <tr>\n",
       "      <th>12</th>\n",
       "      <td>76687623</td>\n",
       "      <td>2017-06-03</td>\n",
       "      <td>2019-01-02</td>\n",
       "    </tr>\n",
       "    <tr>\n",
       "      <th>13</th>\n",
       "      <td>76687077</td>\n",
       "      <td>2015-05-12</td>\n",
       "      <td>2019-01-02</td>\n",
       "    </tr>\n",
       "    <tr>\n",
       "      <th>14</th>\n",
       "      <td>61849366</td>\n",
       "      <td>2002-07-01</td>\n",
       "      <td>2019-01-02</td>\n",
       "    </tr>\n",
       "    <tr>\n",
       "      <th>15</th>\n",
       "      <td>19474751</td>\n",
       "      <td>1993-07-01</td>\n",
       "      <td>2019-01-02</td>\n",
       "    </tr>\n",
       "  </tbody>\n",
       "</table>\n",
       "</div>"
      ],
      "text/plain": [
       "        고객번호        설립일자      보증취급일자\n",
       "0   76691713  2016-09-19  2019-01-02\n",
       "1   76553566  1990-01-05  2019-01-02\n",
       "2   60895942  2005-01-17  2019-01-02\n",
       "3   76683394  2016-01-01  2019-01-02\n",
       "4   76649561  2015-09-10  2019-01-02\n",
       "5   76684778  2015-01-19  2019-01-02\n",
       "6   76012109  2011-09-20  2019-01-02\n",
       "7   62536077  2003-12-01  2019-01-02\n",
       "8   67812944  2006-02-22  2019-01-02\n",
       "9   76671581  2011-03-30  2019-01-02\n",
       "10  76593297  2003-11-01  2019-01-02\n",
       "11  76387881  2014-09-01  2019-01-02\n",
       "12  76687623  2017-06-03  2019-01-02\n",
       "13  76687077  2015-05-12  2019-01-02\n",
       "14  61849366  2002-07-01  2019-01-02\n",
       "15  19474751  1993-07-01  2019-01-02"
      ]
     },
     "execution_count": 59,
     "metadata": {},
     "output_type": "execute_result"
    }
   ],
   "source": [
    "df[['고객번호','설립일자','보증취급일자']]"
   ]
  },
  {
   "cell_type": "markdown",
   "id": "9c90a0ed",
   "metadata": {},
   "source": [
    "4.2.6 연습문제6\n",
    " - 특정 열 삭제"
   ]
  },
  {
   "cell_type": "code",
   "execution_count": null,
   "id": "48d9a4bb",
   "metadata": {},
   "outputs": [],
   "source": [
    "df.drop(____)"
   ]
  },
  {
   "cell_type": "code",
   "execution_count": 60,
   "id": "bce4e5c7",
   "metadata": {},
   "outputs": [
    {
     "data": {
      "text/html": [
       "<div>\n",
       "<style scoped>\n",
       "    .dataframe tbody tr th:only-of-type {\n",
       "        vertical-align: middle;\n",
       "    }\n",
       "\n",
       "    .dataframe tbody tr th {\n",
       "        vertical-align: top;\n",
       "    }\n",
       "\n",
       "    .dataframe thead th {\n",
       "        text-align: right;\n",
       "    }\n",
       "</style>\n",
       "<table border=\"1\" class=\"dataframe\">\n",
       "  <thead>\n",
       "    <tr style=\"text-align: right;\">\n",
       "      <th></th>\n",
       "      <th>고객번호</th>\n",
       "      <th>보증취급일자</th>\n",
       "      <th>취급부점</th>\n",
       "      <th>설립일자</th>\n",
       "      <th>신용평가등급</th>\n",
       "      <th>매출액</th>\n",
       "      <th>신규증액금액</th>\n",
       "      <th>부실발생일자</th>\n",
       "      <th>부실사유</th>\n",
       "      <th>한도여유액</th>\n",
       "    </tr>\n",
       "  </thead>\n",
       "  <tbody>\n",
       "    <tr>\n",
       "      <th>0</th>\n",
       "      <td>76691713</td>\n",
       "      <td>2019-01-02</td>\n",
       "      <td>동래</td>\n",
       "      <td>2016-09-19</td>\n",
       "      <td>KR9</td>\n",
       "      <td>348</td>\n",
       "      <td>90.00</td>\n",
       "      <td>2020-01-17 00:00:00</td>\n",
       "      <td>이자연체</td>\n",
       "      <td>-3.00</td>\n",
       "    </tr>\n",
       "    <tr>\n",
       "      <th>1</th>\n",
       "      <td>76553566</td>\n",
       "      <td>2019-01-02</td>\n",
       "      <td>의정부</td>\n",
       "      <td>1990-01-05</td>\n",
       "      <td>KR9</td>\n",
       "      <td>868</td>\n",
       "      <td>5000.00</td>\n",
       "      <td>0</td>\n",
       "      <td>0</td>\n",
       "      <td>-4783.00</td>\n",
       "    </tr>\n",
       "    <tr>\n",
       "      <th>2</th>\n",
       "      <td>60895942</td>\n",
       "      <td>2019-01-02</td>\n",
       "      <td>김해</td>\n",
       "      <td>2005-01-17</td>\n",
       "      <td>KR7</td>\n",
       "      <td>1333</td>\n",
       "      <td>127.50</td>\n",
       "      <td>0</td>\n",
       "      <td>0</td>\n",
       "      <td>205.75</td>\n",
       "    </tr>\n",
       "    <tr>\n",
       "      <th>3</th>\n",
       "      <td>76683394</td>\n",
       "      <td>2019-01-02</td>\n",
       "      <td>의정부</td>\n",
       "      <td>2016-01-01</td>\n",
       "      <td>KR9</td>\n",
       "      <td>196</td>\n",
       "      <td>49.50</td>\n",
       "      <td>2020-09-10 00:00:00</td>\n",
       "      <td>국세체납</td>\n",
       "      <td>-0.50</td>\n",
       "    </tr>\n",
       "    <tr>\n",
       "      <th>4</th>\n",
       "      <td>76649561</td>\n",
       "      <td>2019-01-02</td>\n",
       "      <td>동래</td>\n",
       "      <td>2015-09-10</td>\n",
       "      <td>KR2</td>\n",
       "      <td>312</td>\n",
       "      <td>45.00</td>\n",
       "      <td>0</td>\n",
       "      <td>0</td>\n",
       "      <td>33.00</td>\n",
       "    </tr>\n",
       "    <tr>\n",
       "      <th>5</th>\n",
       "      <td>76684778</td>\n",
       "      <td>2019-01-02</td>\n",
       "      <td>의정부</td>\n",
       "      <td>2015-01-19</td>\n",
       "      <td>KR7</td>\n",
       "      <td>1011</td>\n",
       "      <td>108.00</td>\n",
       "      <td>2020-02-22 00:00:00</td>\n",
       "      <td>원금연체</td>\n",
       "      <td>144.75</td>\n",
       "    </tr>\n",
       "    <tr>\n",
       "      <th>6</th>\n",
       "      <td>76012109</td>\n",
       "      <td>2019-01-02</td>\n",
       "      <td>김해</td>\n",
       "      <td>2011-09-20</td>\n",
       "      <td>KR10</td>\n",
       "      <td>596</td>\n",
       "      <td>297.50</td>\n",
       "      <td>0</td>\n",
       "      <td>0</td>\n",
       "      <td>-148.50</td>\n",
       "    </tr>\n",
       "    <tr>\n",
       "      <th>7</th>\n",
       "      <td>62536077</td>\n",
       "      <td>2019-01-02</td>\n",
       "      <td>구미</td>\n",
       "      <td>2003-12-01</td>\n",
       "      <td>KR6</td>\n",
       "      <td>5571</td>\n",
       "      <td>120.00</td>\n",
       "      <td>0</td>\n",
       "      <td>0</td>\n",
       "      <td>1272.75</td>\n",
       "    </tr>\n",
       "    <tr>\n",
       "      <th>8</th>\n",
       "      <td>67812944</td>\n",
       "      <td>2019-01-02</td>\n",
       "      <td>의정부</td>\n",
       "      <td>2006-02-22</td>\n",
       "      <td>KR8</td>\n",
       "      <td>1870</td>\n",
       "      <td>180.00</td>\n",
       "      <td>2020-06-03 00:00:00</td>\n",
       "      <td>이자연체</td>\n",
       "      <td>287.50</td>\n",
       "    </tr>\n",
       "    <tr>\n",
       "      <th>9</th>\n",
       "      <td>76671581</td>\n",
       "      <td>2019-01-02</td>\n",
       "      <td>구미</td>\n",
       "      <td>2011-03-30</td>\n",
       "      <td>KR12</td>\n",
       "      <td>735</td>\n",
       "      <td>99.45</td>\n",
       "      <td>0</td>\n",
       "      <td>0</td>\n",
       "      <td>84.30</td>\n",
       "    </tr>\n",
       "    <tr>\n",
       "      <th>10</th>\n",
       "      <td>76593297</td>\n",
       "      <td>2019-01-02</td>\n",
       "      <td>김해북</td>\n",
       "      <td>2003-11-01</td>\n",
       "      <td>KR7</td>\n",
       "      <td>1918</td>\n",
       "      <td>170.00</td>\n",
       "      <td>0</td>\n",
       "      <td>0</td>\n",
       "      <td>309.50</td>\n",
       "    </tr>\n",
       "    <tr>\n",
       "      <th>11</th>\n",
       "      <td>76387881</td>\n",
       "      <td>2019-01-02</td>\n",
       "      <td>김해</td>\n",
       "      <td>2014-09-01</td>\n",
       "      <td>KR7</td>\n",
       "      <td>402</td>\n",
       "      <td>400.00</td>\n",
       "      <td>2020-07-01 00:00:00</td>\n",
       "      <td>이자연체</td>\n",
       "      <td>-299.50</td>\n",
       "    </tr>\n",
       "    <tr>\n",
       "      <th>12</th>\n",
       "      <td>76687623</td>\n",
       "      <td>2019-01-02</td>\n",
       "      <td>안동</td>\n",
       "      <td>2017-06-03</td>\n",
       "      <td>KR11</td>\n",
       "      <td>2</td>\n",
       "      <td>90.00</td>\n",
       "      <td>0</td>\n",
       "      <td>0</td>\n",
       "      <td>-89.50</td>\n",
       "    </tr>\n",
       "    <tr>\n",
       "      <th>13</th>\n",
       "      <td>76687077</td>\n",
       "      <td>2019-01-02</td>\n",
       "      <td>안동</td>\n",
       "      <td>2015-05-12</td>\n",
       "      <td>KR11</td>\n",
       "      <td>655</td>\n",
       "      <td>90.00</td>\n",
       "      <td>0</td>\n",
       "      <td>0</td>\n",
       "      <td>73.75</td>\n",
       "    </tr>\n",
       "    <tr>\n",
       "      <th>14</th>\n",
       "      <td>61849366</td>\n",
       "      <td>2019-01-02</td>\n",
       "      <td>김해북</td>\n",
       "      <td>2002-07-01</td>\n",
       "      <td>KR9</td>\n",
       "      <td>873</td>\n",
       "      <td>108.00</td>\n",
       "      <td>0</td>\n",
       "      <td>0</td>\n",
       "      <td>110.25</td>\n",
       "    </tr>\n",
       "    <tr>\n",
       "      <th>15</th>\n",
       "      <td>19474751</td>\n",
       "      <td>2019-01-02</td>\n",
       "      <td>김해북</td>\n",
       "      <td>1993-07-01</td>\n",
       "      <td>KR4</td>\n",
       "      <td>9921</td>\n",
       "      <td>450.00</td>\n",
       "      <td>0</td>\n",
       "      <td>0</td>\n",
       "      <td>2030.25</td>\n",
       "    </tr>\n",
       "  </tbody>\n",
       "</table>\n",
       "</div>"
      ],
      "text/plain": [
       "        고객번호      보증취급일자 취급부점        설립일자 신용평가등급   매출액   신규증액금액  \\\n",
       "0   76691713  2019-01-02   동래  2016-09-19    KR9   348    90.00   \n",
       "1   76553566  2019-01-02  의정부  1990-01-05    KR9   868  5000.00   \n",
       "2   60895942  2019-01-02   김해  2005-01-17    KR7  1333   127.50   \n",
       "3   76683394  2019-01-02  의정부  2016-01-01    KR9   196    49.50   \n",
       "4   76649561  2019-01-02   동래  2015-09-10    KR2   312    45.00   \n",
       "5   76684778  2019-01-02  의정부  2015-01-19    KR7  1011   108.00   \n",
       "6   76012109  2019-01-02   김해  2011-09-20   KR10   596   297.50   \n",
       "7   62536077  2019-01-02   구미  2003-12-01    KR6  5571   120.00   \n",
       "8   67812944  2019-01-02  의정부  2006-02-22    KR8  1870   180.00   \n",
       "9   76671581  2019-01-02   구미  2011-03-30   KR12   735    99.45   \n",
       "10  76593297  2019-01-02  김해북  2003-11-01    KR7  1918   170.00   \n",
       "11  76387881  2019-01-02   김해  2014-09-01    KR7   402   400.00   \n",
       "12  76687623  2019-01-02   안동  2017-06-03   KR11     2    90.00   \n",
       "13  76687077  2019-01-02   안동  2015-05-12   KR11   655    90.00   \n",
       "14  61849366  2019-01-02  김해북  2002-07-01    KR9   873   108.00   \n",
       "15  19474751  2019-01-02  김해북  1993-07-01    KR4  9921   450.00   \n",
       "\n",
       "                 부실발생일자  부실사유    한도여유액  \n",
       "0   2020-01-17 00:00:00  이자연체    -3.00  \n",
       "1                     0     0 -4783.00  \n",
       "2                     0     0   205.75  \n",
       "3   2020-09-10 00:00:00  국세체납    -0.50  \n",
       "4                     0     0    33.00  \n",
       "5   2020-02-22 00:00:00  원금연체   144.75  \n",
       "6                     0     0  -148.50  \n",
       "7                     0     0  1272.75  \n",
       "8   2020-06-03 00:00:00  이자연체   287.50  \n",
       "9                     0     0    84.30  \n",
       "10                    0     0   309.50  \n",
       "11  2020-07-01 00:00:00  이자연체  -299.50  \n",
       "12                    0     0   -89.50  \n",
       "13                    0     0    73.75  \n",
       "14                    0     0   110.25  \n",
       "15                    0     0  2030.25  "
      ]
     },
     "execution_count": 60,
     "metadata": {},
     "output_type": "execute_result"
    }
   ],
   "source": [
    "df.drop(['업종코드'], axis=1)"
   ]
  },
  {
   "cell_type": "markdown",
   "id": "57e03b84",
   "metadata": {},
   "source": [
    "4.2.7 연습문제7\n",
    " - 조건에 맞는 신규 변수 추가"
   ]
  },
  {
   "cell_type": "code",
   "execution_count": 167,
   "id": "e85a1ea7",
   "metadata": {
    "collapsed": true
   },
   "outputs": [
    {
     "data": {
      "text/html": [
       "<div>\n",
       "<style scoped>\n",
       "    .dataframe tbody tr th:only-of-type {\n",
       "        vertical-align: middle;\n",
       "    }\n",
       "\n",
       "    .dataframe tbody tr th {\n",
       "        vertical-align: top;\n",
       "    }\n",
       "\n",
       "    .dataframe thead th {\n",
       "        text-align: right;\n",
       "    }\n",
       "</style>\n",
       "<table border=\"1\" class=\"dataframe\">\n",
       "  <thead>\n",
       "    <tr style=\"text-align: right;\">\n",
       "      <th></th>\n",
       "      <th>고객번호</th>\n",
       "      <th>보증취급일자</th>\n",
       "      <th>취급부점</th>\n",
       "      <th>업종코드</th>\n",
       "      <th>설립일자</th>\n",
       "      <th>신용평가등급</th>\n",
       "      <th>매출액</th>\n",
       "      <th>신규증액금액</th>\n",
       "      <th>부실발생일자</th>\n",
       "      <th>부실사유</th>\n",
       "      <th>한도여유액</th>\n",
       "      <th>부실여부</th>\n",
       "    </tr>\n",
       "  </thead>\n",
       "  <tbody>\n",
       "    <tr>\n",
       "      <th>0</th>\n",
       "      <td>76691713</td>\n",
       "      <td>2019-01-02</td>\n",
       "      <td>동래</td>\n",
       "      <td>C32029</td>\n",
       "      <td>2016-09-19</td>\n",
       "      <td>KR9</td>\n",
       "      <td>348</td>\n",
       "      <td>90.00</td>\n",
       "      <td>2020-01-17 00:00:00</td>\n",
       "      <td>이자연체</td>\n",
       "      <td>-3.00</td>\n",
       "      <td>부실</td>\n",
       "    </tr>\n",
       "    <tr>\n",
       "      <th>1</th>\n",
       "      <td>76553566</td>\n",
       "      <td>2019-01-02</td>\n",
       "      <td>의정부</td>\n",
       "      <td>R91210</td>\n",
       "      <td>1990-01-05</td>\n",
       "      <td>KR9</td>\n",
       "      <td>868</td>\n",
       "      <td>5000.00</td>\n",
       "      <td>0</td>\n",
       "      <td>0</td>\n",
       "      <td>-4783.00</td>\n",
       "      <td>정상</td>\n",
       "    </tr>\n",
       "    <tr>\n",
       "      <th>2</th>\n",
       "      <td>60895942</td>\n",
       "      <td>2019-01-02</td>\n",
       "      <td>김해</td>\n",
       "      <td>C20202</td>\n",
       "      <td>2005-01-17</td>\n",
       "      <td>KR7</td>\n",
       "      <td>1333</td>\n",
       "      <td>127.50</td>\n",
       "      <td>0</td>\n",
       "      <td>0</td>\n",
       "      <td>205.75</td>\n",
       "      <td>정상</td>\n",
       "    </tr>\n",
       "    <tr>\n",
       "      <th>3</th>\n",
       "      <td>76683394</td>\n",
       "      <td>2019-01-02</td>\n",
       "      <td>의정부</td>\n",
       "      <td>G46103</td>\n",
       "      <td>2016-01-01</td>\n",
       "      <td>KR9</td>\n",
       "      <td>196</td>\n",
       "      <td>49.50</td>\n",
       "      <td>2020-09-10 00:00:00</td>\n",
       "      <td>국세체납</td>\n",
       "      <td>-0.50</td>\n",
       "      <td>부실</td>\n",
       "    </tr>\n",
       "    <tr>\n",
       "      <th>4</th>\n",
       "      <td>76649561</td>\n",
       "      <td>2019-01-02</td>\n",
       "      <td>동래</td>\n",
       "      <td>C23221</td>\n",
       "      <td>2015-09-10</td>\n",
       "      <td>KR2</td>\n",
       "      <td>312</td>\n",
       "      <td>45.00</td>\n",
       "      <td>0</td>\n",
       "      <td>0</td>\n",
       "      <td>33.00</td>\n",
       "      <td>정상</td>\n",
       "    </tr>\n",
       "    <tr>\n",
       "      <th>5</th>\n",
       "      <td>76684778</td>\n",
       "      <td>2019-01-02</td>\n",
       "      <td>의정부</td>\n",
       "      <td>G46102</td>\n",
       "      <td>2015-01-19</td>\n",
       "      <td>KR7</td>\n",
       "      <td>1011</td>\n",
       "      <td>108.00</td>\n",
       "      <td>2020-02-22 00:00:00</td>\n",
       "      <td>원금연체</td>\n",
       "      <td>144.75</td>\n",
       "      <td>부실</td>\n",
       "    </tr>\n",
       "    <tr>\n",
       "      <th>6</th>\n",
       "      <td>76012109</td>\n",
       "      <td>2019-01-02</td>\n",
       "      <td>김해</td>\n",
       "      <td>F42412</td>\n",
       "      <td>2011-09-20</td>\n",
       "      <td>KR10</td>\n",
       "      <td>596</td>\n",
       "      <td>297.50</td>\n",
       "      <td>0</td>\n",
       "      <td>0</td>\n",
       "      <td>-148.50</td>\n",
       "      <td>정상</td>\n",
       "    </tr>\n",
       "    <tr>\n",
       "      <th>7</th>\n",
       "      <td>62536077</td>\n",
       "      <td>2019-01-02</td>\n",
       "      <td>구미</td>\n",
       "      <td>G47711</td>\n",
       "      <td>2003-12-01</td>\n",
       "      <td>KR6</td>\n",
       "      <td>5571</td>\n",
       "      <td>120.00</td>\n",
       "      <td>0</td>\n",
       "      <td>0</td>\n",
       "      <td>1272.75</td>\n",
       "      <td>정상</td>\n",
       "    </tr>\n",
       "    <tr>\n",
       "      <th>8</th>\n",
       "      <td>67812944</td>\n",
       "      <td>2019-01-02</td>\n",
       "      <td>의정부</td>\n",
       "      <td>C30203</td>\n",
       "      <td>2006-02-22</td>\n",
       "      <td>KR8</td>\n",
       "      <td>1870</td>\n",
       "      <td>180.00</td>\n",
       "      <td>2020-06-03 00:00:00</td>\n",
       "      <td>이자연체</td>\n",
       "      <td>287.50</td>\n",
       "      <td>부실</td>\n",
       "    </tr>\n",
       "    <tr>\n",
       "      <th>9</th>\n",
       "      <td>76671581</td>\n",
       "      <td>2019-01-02</td>\n",
       "      <td>구미</td>\n",
       "      <td>C17212</td>\n",
       "      <td>2011-03-30</td>\n",
       "      <td>KR12</td>\n",
       "      <td>735</td>\n",
       "      <td>99.45</td>\n",
       "      <td>0</td>\n",
       "      <td>0</td>\n",
       "      <td>84.30</td>\n",
       "      <td>정상</td>\n",
       "    </tr>\n",
       "    <tr>\n",
       "      <th>10</th>\n",
       "      <td>76593297</td>\n",
       "      <td>2019-01-02</td>\n",
       "      <td>김해북</td>\n",
       "      <td>G47221</td>\n",
       "      <td>2003-11-01</td>\n",
       "      <td>KR7</td>\n",
       "      <td>1918</td>\n",
       "      <td>170.00</td>\n",
       "      <td>0</td>\n",
       "      <td>0</td>\n",
       "      <td>309.50</td>\n",
       "      <td>정상</td>\n",
       "    </tr>\n",
       "    <tr>\n",
       "      <th>11</th>\n",
       "      <td>76387881</td>\n",
       "      <td>2019-01-02</td>\n",
       "      <td>김해</td>\n",
       "      <td>C25923</td>\n",
       "      <td>2014-09-01</td>\n",
       "      <td>KR7</td>\n",
       "      <td>402</td>\n",
       "      <td>400.00</td>\n",
       "      <td>2020-07-01 00:00:00</td>\n",
       "      <td>이자연체</td>\n",
       "      <td>-299.50</td>\n",
       "      <td>부실</td>\n",
       "    </tr>\n",
       "    <tr>\n",
       "      <th>12</th>\n",
       "      <td>76687623</td>\n",
       "      <td>2019-01-02</td>\n",
       "      <td>안동</td>\n",
       "      <td>I56123</td>\n",
       "      <td>2017-06-03</td>\n",
       "      <td>KR11</td>\n",
       "      <td>2</td>\n",
       "      <td>90.00</td>\n",
       "      <td>0</td>\n",
       "      <td>0</td>\n",
       "      <td>-89.50</td>\n",
       "      <td>정상</td>\n",
       "    </tr>\n",
       "    <tr>\n",
       "      <th>13</th>\n",
       "      <td>76687077</td>\n",
       "      <td>2019-01-02</td>\n",
       "      <td>안동</td>\n",
       "      <td>I56123</td>\n",
       "      <td>2015-05-12</td>\n",
       "      <td>KR11</td>\n",
       "      <td>655</td>\n",
       "      <td>90.00</td>\n",
       "      <td>0</td>\n",
       "      <td>0</td>\n",
       "      <td>73.75</td>\n",
       "      <td>정상</td>\n",
       "    </tr>\n",
       "    <tr>\n",
       "      <th>14</th>\n",
       "      <td>61849366</td>\n",
       "      <td>2019-01-02</td>\n",
       "      <td>김해북</td>\n",
       "      <td>G47912</td>\n",
       "      <td>2002-07-01</td>\n",
       "      <td>KR9</td>\n",
       "      <td>873</td>\n",
       "      <td>108.00</td>\n",
       "      <td>0</td>\n",
       "      <td>0</td>\n",
       "      <td>110.25</td>\n",
       "      <td>정상</td>\n",
       "    </tr>\n",
       "    <tr>\n",
       "      <th>15</th>\n",
       "      <td>19474751</td>\n",
       "      <td>2019-01-02</td>\n",
       "      <td>김해북</td>\n",
       "      <td>G46105</td>\n",
       "      <td>1993-07-01</td>\n",
       "      <td>KR4</td>\n",
       "      <td>9921</td>\n",
       "      <td>450.00</td>\n",
       "      <td>0</td>\n",
       "      <td>0</td>\n",
       "      <td>2030.25</td>\n",
       "      <td>정상</td>\n",
       "    </tr>\n",
       "  </tbody>\n",
       "</table>\n",
       "</div>"
      ],
      "text/plain": [
       "    고객번호 보증취급일자 취급부점 업종코드    설립일자 신용평가등급  매출액  \\\n",
       "0   76691713   2019-01-02     동래   C32029  2016-09-19          KR9     348   \n",
       "1   76553566   2019-01-02   의정부   R91210  1990-01-05          KR9     868   \n",
       "2   60895942   2019-01-02     김해   C20202  2005-01-17          KR7    1333   \n",
       "3   76683394   2019-01-02   의정부   G46103  2016-01-01          KR9     196   \n",
       "4   76649561   2019-01-02     동래   C23221  2015-09-10          KR2     312   \n",
       "5   76684778   2019-01-02   의정부   G46102  2015-01-19          KR7    1011   \n",
       "6   76012109   2019-01-02     김해   F42412  2011-09-20         KR10     596   \n",
       "7   62536077   2019-01-02     구미   G47711  2003-12-01          KR6    5571   \n",
       "8   67812944   2019-01-02   의정부   C30203  2006-02-22          KR8    1870   \n",
       "9   76671581   2019-01-02     구미   C17212  2011-03-30         KR12     735   \n",
       "10  76593297   2019-01-02   김해북   G47221  2003-11-01          KR7    1918   \n",
       "11  76387881   2019-01-02     김해   C25923  2014-09-01          KR7     402   \n",
       "12  76687623   2019-01-02     안동   I56123  2017-06-03         KR11       2   \n",
       "13  76687077   2019-01-02     안동   I56123  2015-05-12         KR11     655   \n",
       "14  61849366   2019-01-02   김해북   G47912  2002-07-01          KR9     873   \n",
       "15  19474751   2019-01-02   김해북   G46105  1993-07-01          KR4    9921   \n",
       "\n",
       "    신규증액금액         부실발생일자  부실사유  한도여유액 부실여부  \n",
       "0          90.00  2020-01-17 00:00:00  이자연체       -3.00     부실  \n",
       "1        5000.00                    0         0    -4783.00     정상  \n",
       "2         127.50                    0         0      205.75     정상  \n",
       "3          49.50  2020-09-10 00:00:00  국세체납       -0.50     부실  \n",
       "4          45.00                    0         0       33.00     정상  \n",
       "5         108.00  2020-02-22 00:00:00  원금연체      144.75     부실  \n",
       "6         297.50                    0         0     -148.50     정상  \n",
       "7         120.00                    0         0     1272.75     정상  \n",
       "8         180.00  2020-06-03 00:00:00  이자연체      287.50     부실  \n",
       "9          99.45                    0         0       84.30     정상  \n",
       "10        170.00                    0         0      309.50     정상  \n",
       "11        400.00  2020-07-01 00:00:00  이자연체     -299.50     부실  \n",
       "12         90.00                    0         0      -89.50     정상  \n",
       "13         90.00                    0         0       73.75     정상  \n",
       "14        108.00                    0         0      110.25     정상  \n",
       "15        450.00                    0         0     2030.25     정상  "
      ]
     },
     "execution_count": 167,
     "metadata": {},
     "output_type": "execute_result"
    }
   ],
   "source": [
    "df['부실여부'] = ['정상' if i == 0 else '부실' for i in ____ ]"
   ]
  },
  {
   "cell_type": "code",
   "execution_count": 62,
   "id": "bfd3c238",
   "metadata": {},
   "outputs": [
    {
     "data": {
      "text/html": [
       "<div>\n",
       "<style scoped>\n",
       "    .dataframe tbody tr th:only-of-type {\n",
       "        vertical-align: middle;\n",
       "    }\n",
       "\n",
       "    .dataframe tbody tr th {\n",
       "        vertical-align: top;\n",
       "    }\n",
       "\n",
       "    .dataframe thead th {\n",
       "        text-align: right;\n",
       "    }\n",
       "</style>\n",
       "<table border=\"1\" class=\"dataframe\">\n",
       "  <thead>\n",
       "    <tr style=\"text-align: right;\">\n",
       "      <th></th>\n",
       "      <th>고객번호</th>\n",
       "      <th>보증취급일자</th>\n",
       "      <th>취급부점</th>\n",
       "      <th>업종코드</th>\n",
       "      <th>설립일자</th>\n",
       "      <th>신용평가등급</th>\n",
       "      <th>매출액</th>\n",
       "      <th>신규증액금액</th>\n",
       "      <th>부실발생일자</th>\n",
       "      <th>부실사유</th>\n",
       "      <th>한도여유액</th>\n",
       "      <th>부실여부</th>\n",
       "    </tr>\n",
       "  </thead>\n",
       "  <tbody>\n",
       "    <tr>\n",
       "      <th>0</th>\n",
       "      <td>76691713</td>\n",
       "      <td>2019-01-02</td>\n",
       "      <td>동래</td>\n",
       "      <td>C32029</td>\n",
       "      <td>2016-09-19</td>\n",
       "      <td>KR9</td>\n",
       "      <td>348</td>\n",
       "      <td>90.0</td>\n",
       "      <td>2020-01-17 00:00:00</td>\n",
       "      <td>이자연체</td>\n",
       "      <td>-3.00</td>\n",
       "      <td>부실</td>\n",
       "    </tr>\n",
       "    <tr>\n",
       "      <th>1</th>\n",
       "      <td>76553566</td>\n",
       "      <td>2019-01-02</td>\n",
       "      <td>의정부</td>\n",
       "      <td>R91210</td>\n",
       "      <td>1990-01-05</td>\n",
       "      <td>KR9</td>\n",
       "      <td>868</td>\n",
       "      <td>5000.0</td>\n",
       "      <td>0</td>\n",
       "      <td>0</td>\n",
       "      <td>-4783.00</td>\n",
       "      <td>정상</td>\n",
       "    </tr>\n",
       "    <tr>\n",
       "      <th>2</th>\n",
       "      <td>60895942</td>\n",
       "      <td>2019-01-02</td>\n",
       "      <td>김해</td>\n",
       "      <td>C20202</td>\n",
       "      <td>2005-01-17</td>\n",
       "      <td>KR7</td>\n",
       "      <td>1333</td>\n",
       "      <td>127.5</td>\n",
       "      <td>0</td>\n",
       "      <td>0</td>\n",
       "      <td>205.75</td>\n",
       "      <td>정상</td>\n",
       "    </tr>\n",
       "  </tbody>\n",
       "</table>\n",
       "</div>"
      ],
      "text/plain": [
       "       고객번호      보증취급일자 취급부점    업종코드        설립일자 신용평가등급   매출액  신규증액금액  \\\n",
       "0  76691713  2019-01-02   동래  C32029  2016-09-19    KR9   348    90.0   \n",
       "1  76553566  2019-01-02  의정부  R91210  1990-01-05    KR9   868  5000.0   \n",
       "2  60895942  2019-01-02   김해  C20202  2005-01-17    KR7  1333   127.5   \n",
       "\n",
       "                부실발생일자  부실사유    한도여유액 부실여부  \n",
       "0  2020-01-17 00:00:00  이자연체    -3.00   부실  \n",
       "1                    0     0 -4783.00   정상  \n",
       "2                    0     0   205.75   정상  "
      ]
     },
     "execution_count": 62,
     "metadata": {},
     "output_type": "execute_result"
    }
   ],
   "source": [
    "df['부실여부'] = ['정상' if i == 0 else '부실' for i in df['부실사유']]\n",
    "df.head(3)"
   ]
  },
  {
   "cell_type": "markdown",
   "id": "fdb21d93",
   "metadata": {},
   "source": [
    "4.2.8 연습문제8\n",
    " - 그룹변수 추가"
   ]
  },
  {
   "cell_type": "code",
   "execution_count": null,
   "id": "4605ce64",
   "metadata": {},
   "outputs": [],
   "source": [
    "분류기준 = [\n",
    "    (df['신규증액금액'] <= 100) ,\n",
    "    (df['신규증액금액'] > 100) & (df['신규증액금액'] <= 300), \n",
    "    (df['신규증액금액'] > 300) & (df['신규증액금액'] <= 500), \n",
    "    (df['신규증액금액'] > 500) & (df['신규증액금액'] <= 1000), \n",
    "    (df['신규증액금액'] > 1000) \n",
    "    ]\n",
    "그룹 = ['1억이하', '3억이하', '5억이하', '10억이하', '10억초과']\n",
    "df['금액구분'] = np.select(____)"
   ]
  },
  {
   "cell_type": "code",
   "execution_count": 63,
   "id": "d8abd4eb",
   "metadata": {},
   "outputs": [],
   "source": [
    "분류기준 = [\n",
    "    (df['신규증액금액'] <= 100) ,\n",
    "    (df['신규증액금액'] > 100) & (df['신규증액금액'] <= 300), \n",
    "    (df['신규증액금액'] > 300) & (df['신규증액금액'] <= 500), \n",
    "    (df['신규증액금액'] > 500) & (df['신규증액금액'] <= 1000), \n",
    "    (df['신규증액금액'] > 1000) \n",
    "    ]\n",
    "그룹 = ['1억이하', '3억이하', '5억이하', '10억이하', '10억초과']\n",
    "df['금액구분'] = np.select(분류기준,그룹)"
   ]
  },
  {
   "cell_type": "markdown",
   "id": "2ee21823",
   "metadata": {},
   "source": [
    "4.3 문자열"
   ]
  },
  {
   "cell_type": "markdown",
   "id": "08efb948",
   "metadata": {},
   "source": [
    "4.3.1 연습문제1\n",
    " - 문자열 일부 선택"
   ]
  },
  {
   "cell_type": "code",
   "execution_count": null,
   "id": "46238bd9",
   "metadata": {},
   "outputs": [],
   "source": [
    "df['업종대분류'] = ____.\n",
    "df.head(3)"
   ]
  },
  {
   "cell_type": "code",
   "execution_count": 64,
   "id": "9eb68f50",
   "metadata": {},
   "outputs": [
    {
     "data": {
      "text/html": [
       "<div>\n",
       "<style scoped>\n",
       "    .dataframe tbody tr th:only-of-type {\n",
       "        vertical-align: middle;\n",
       "    }\n",
       "\n",
       "    .dataframe tbody tr th {\n",
       "        vertical-align: top;\n",
       "    }\n",
       "\n",
       "    .dataframe thead th {\n",
       "        text-align: right;\n",
       "    }\n",
       "</style>\n",
       "<table border=\"1\" class=\"dataframe\">\n",
       "  <thead>\n",
       "    <tr style=\"text-align: right;\">\n",
       "      <th></th>\n",
       "      <th>고객번호</th>\n",
       "      <th>보증취급일자</th>\n",
       "      <th>취급부점</th>\n",
       "      <th>업종코드</th>\n",
       "      <th>설립일자</th>\n",
       "      <th>신용평가등급</th>\n",
       "      <th>매출액</th>\n",
       "      <th>신규증액금액</th>\n",
       "      <th>부실발생일자</th>\n",
       "      <th>부실사유</th>\n",
       "      <th>한도여유액</th>\n",
       "      <th>부실여부</th>\n",
       "      <th>금액구분</th>\n",
       "      <th>업종대분류</th>\n",
       "    </tr>\n",
       "  </thead>\n",
       "  <tbody>\n",
       "    <tr>\n",
       "      <th>0</th>\n",
       "      <td>76691713</td>\n",
       "      <td>2019-01-02</td>\n",
       "      <td>동래</td>\n",
       "      <td>C32029</td>\n",
       "      <td>2016-09-19</td>\n",
       "      <td>KR9</td>\n",
       "      <td>348</td>\n",
       "      <td>90.0</td>\n",
       "      <td>2020-01-17 00:00:00</td>\n",
       "      <td>이자연체</td>\n",
       "      <td>-3.00</td>\n",
       "      <td>부실</td>\n",
       "      <td>1억이하</td>\n",
       "      <td>C</td>\n",
       "    </tr>\n",
       "    <tr>\n",
       "      <th>1</th>\n",
       "      <td>76553566</td>\n",
       "      <td>2019-01-02</td>\n",
       "      <td>의정부</td>\n",
       "      <td>R91210</td>\n",
       "      <td>1990-01-05</td>\n",
       "      <td>KR9</td>\n",
       "      <td>868</td>\n",
       "      <td>5000.0</td>\n",
       "      <td>0</td>\n",
       "      <td>0</td>\n",
       "      <td>-4783.00</td>\n",
       "      <td>정상</td>\n",
       "      <td>10억초과</td>\n",
       "      <td>R</td>\n",
       "    </tr>\n",
       "    <tr>\n",
       "      <th>2</th>\n",
       "      <td>60895942</td>\n",
       "      <td>2019-01-02</td>\n",
       "      <td>김해</td>\n",
       "      <td>C20202</td>\n",
       "      <td>2005-01-17</td>\n",
       "      <td>KR7</td>\n",
       "      <td>1333</td>\n",
       "      <td>127.5</td>\n",
       "      <td>0</td>\n",
       "      <td>0</td>\n",
       "      <td>205.75</td>\n",
       "      <td>정상</td>\n",
       "      <td>3억이하</td>\n",
       "      <td>C</td>\n",
       "    </tr>\n",
       "  </tbody>\n",
       "</table>\n",
       "</div>"
      ],
      "text/plain": [
       "       고객번호      보증취급일자 취급부점    업종코드        설립일자 신용평가등급   매출액  신규증액금액  \\\n",
       "0  76691713  2019-01-02   동래  C32029  2016-09-19    KR9   348    90.0   \n",
       "1  76553566  2019-01-02  의정부  R91210  1990-01-05    KR9   868  5000.0   \n",
       "2  60895942  2019-01-02   김해  C20202  2005-01-17    KR7  1333   127.5   \n",
       "\n",
       "                부실발생일자  부실사유    한도여유액 부실여부   금액구분 업종대분류  \n",
       "0  2020-01-17 00:00:00  이자연체    -3.00   부실   1억이하     C  \n",
       "1                    0     0 -4783.00   정상  10억초과     R  \n",
       "2                    0     0   205.75   정상   3억이하     C  "
      ]
     },
     "execution_count": 64,
     "metadata": {},
     "output_type": "execute_result"
    }
   ],
   "source": [
    "df['업종대분류'] = df['업종코드'].str[0:1]\n",
    "df.head(3)"
   ]
  },
  {
   "cell_type": "markdown",
   "id": "7b10b345",
   "metadata": {},
   "source": [
    "4.3.2 연습문제2\n",
    " - 문자열 형태 변환 (문자열 -> 날짜형)"
   ]
  },
  {
   "cell_type": "code",
   "execution_count": 65,
   "id": "b8144c66",
   "metadata": {},
   "outputs": [
    {
     "data": {
      "text/plain": [
       "True"
      ]
     },
     "execution_count": 65,
     "metadata": {},
     "output_type": "execute_result"
    }
   ],
   "source": [
    "# [참고] 날짜형 데이터 타입 확인\n",
    "is_string_dtype(df['부실발생일자'])"
   ]
  },
  {
   "cell_type": "code",
   "execution_count": null,
   "id": "71177bd7",
   "metadata": {},
   "outputs": [],
   "source": [
    "df['설립일자_날짜'] = pd.____(df['설립일자'])"
   ]
  },
  {
   "cell_type": "code",
   "execution_count": 66,
   "id": "6c9ca1d1",
   "metadata": {},
   "outputs": [
    {
     "data": {
      "text/html": [
       "<div>\n",
       "<style scoped>\n",
       "    .dataframe tbody tr th:only-of-type {\n",
       "        vertical-align: middle;\n",
       "    }\n",
       "\n",
       "    .dataframe tbody tr th {\n",
       "        vertical-align: top;\n",
       "    }\n",
       "\n",
       "    .dataframe thead th {\n",
       "        text-align: right;\n",
       "    }\n",
       "</style>\n",
       "<table border=\"1\" class=\"dataframe\">\n",
       "  <thead>\n",
       "    <tr style=\"text-align: right;\">\n",
       "      <th></th>\n",
       "      <th>고객번호</th>\n",
       "      <th>보증취급일자</th>\n",
       "      <th>취급부점</th>\n",
       "      <th>업종코드</th>\n",
       "      <th>설립일자</th>\n",
       "      <th>신용평가등급</th>\n",
       "      <th>매출액</th>\n",
       "      <th>신규증액금액</th>\n",
       "      <th>부실발생일자</th>\n",
       "      <th>부실사유</th>\n",
       "      <th>한도여유액</th>\n",
       "      <th>부실여부</th>\n",
       "      <th>금액구분</th>\n",
       "      <th>업종대분류</th>\n",
       "      <th>설립일자_날짜</th>\n",
       "    </tr>\n",
       "  </thead>\n",
       "  <tbody>\n",
       "    <tr>\n",
       "      <th>0</th>\n",
       "      <td>76691713</td>\n",
       "      <td>2019-01-02</td>\n",
       "      <td>동래</td>\n",
       "      <td>C32029</td>\n",
       "      <td>2016-09-19</td>\n",
       "      <td>KR9</td>\n",
       "      <td>348</td>\n",
       "      <td>90.0</td>\n",
       "      <td>2020-01-17 00:00:00</td>\n",
       "      <td>이자연체</td>\n",
       "      <td>-3.00</td>\n",
       "      <td>부실</td>\n",
       "      <td>1억이하</td>\n",
       "      <td>C</td>\n",
       "      <td>2016-09-19</td>\n",
       "    </tr>\n",
       "    <tr>\n",
       "      <th>1</th>\n",
       "      <td>76553566</td>\n",
       "      <td>2019-01-02</td>\n",
       "      <td>의정부</td>\n",
       "      <td>R91210</td>\n",
       "      <td>1990-01-05</td>\n",
       "      <td>KR9</td>\n",
       "      <td>868</td>\n",
       "      <td>5000.0</td>\n",
       "      <td>0</td>\n",
       "      <td>0</td>\n",
       "      <td>-4783.00</td>\n",
       "      <td>정상</td>\n",
       "      <td>10억초과</td>\n",
       "      <td>R</td>\n",
       "      <td>1990-01-05</td>\n",
       "    </tr>\n",
       "    <tr>\n",
       "      <th>2</th>\n",
       "      <td>60895942</td>\n",
       "      <td>2019-01-02</td>\n",
       "      <td>김해</td>\n",
       "      <td>C20202</td>\n",
       "      <td>2005-01-17</td>\n",
       "      <td>KR7</td>\n",
       "      <td>1333</td>\n",
       "      <td>127.5</td>\n",
       "      <td>0</td>\n",
       "      <td>0</td>\n",
       "      <td>205.75</td>\n",
       "      <td>정상</td>\n",
       "      <td>3억이하</td>\n",
       "      <td>C</td>\n",
       "      <td>2005-01-17</td>\n",
       "    </tr>\n",
       "  </tbody>\n",
       "</table>\n",
       "</div>"
      ],
      "text/plain": [
       "       고객번호      보증취급일자 취급부점    업종코드        설립일자 신용평가등급   매출액  신규증액금액  \\\n",
       "0  76691713  2019-01-02   동래  C32029  2016-09-19    KR9   348    90.0   \n",
       "1  76553566  2019-01-02  의정부  R91210  1990-01-05    KR9   868  5000.0   \n",
       "2  60895942  2019-01-02   김해  C20202  2005-01-17    KR7  1333   127.5   \n",
       "\n",
       "                부실발생일자  부실사유    한도여유액 부실여부   금액구분 업종대분류    설립일자_날짜  \n",
       "0  2020-01-17 00:00:00  이자연체    -3.00   부실   1억이하     C 2016-09-19  \n",
       "1                    0     0 -4783.00   정상  10억초과     R 1990-01-05  \n",
       "2                    0     0   205.75   정상   3억이하     C 2005-01-17  "
      ]
     },
     "execution_count": 66,
     "metadata": {},
     "output_type": "execute_result"
    }
   ],
   "source": [
    "df['설립일자_날짜'] = pd.to_datetime(df['설립일자'])\n",
    "df.head(3)"
   ]
  },
  {
   "cell_type": "code",
   "execution_count": null,
   "id": "f9712088",
   "metadata": {},
   "outputs": [],
   "source": []
  }
 ],
 "metadata": {
  "kernelspec": {
   "display_name": "Python 3",
   "language": "python",
   "name": "python3"
  },
  "language_info": {
   "codemirror_mode": {
    "name": "ipython",
    "version": 3
   },
   "file_extension": ".py",
   "mimetype": "text/x-python",
   "name": "python",
   "nbconvert_exporter": "python",
   "pygments_lexer": "ipython3",
   "version": "3.8.8"
  }
 },
 "nbformat": 4,
 "nbformat_minor": 5
}
